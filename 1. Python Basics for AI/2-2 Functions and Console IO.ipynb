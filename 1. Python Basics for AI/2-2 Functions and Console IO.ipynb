{
 "cells": [
  {
   "cell_type": "markdown",
   "id": "97eea2a9",
   "metadata": {},
   "source": [
    "Functions"
   ]
  },
  {
   "cell_type": "code",
   "execution_count": 2,
   "id": "679493cf",
   "metadata": {},
   "outputs": [
    {
     "name": "stdout",
     "output_type": "stream",
     "text": [
      "151\n"
     ]
    }
   ],
   "source": [
    "def f(x):\n",
    "    return 2*x + 7\n",
    "\n",
    "def g(x):\n",
    "    return x**2\n",
    "\n",
    "answer = f(2) + g(2) + f(g(2)) + g(f(2))\n",
    "print(answer)"
   ]
  },
  {
   "cell_type": "code",
   "execution_count": 3,
   "id": "35da3ed7",
   "metadata": {},
   "outputs": [
    {
     "name": "stdout",
     "output_type": "stream",
     "text": [
      "20\n",
      "None\n"
     ]
    }
   ],
   "source": [
    "def h(x):\n",
    "    print(x+10)\n",
    "\n",
    "a = h(10)\n",
    "\n",
    "#return 값이 없기 때문에 a는 None을 반환\n",
    "print(a)"
   ]
  },
  {
   "cell_type": "code",
   "execution_count": 5,
   "id": "054e4ec9",
   "metadata": {},
   "outputs": [
    {
     "name": "stdout",
     "output_type": "stream",
     "text": [
      "20\n"
     ]
    }
   ],
   "source": [
    "def i(x):\n",
    "    return  x+10\n",
    "\n",
    "b = i(10)\n",
    "\n",
    "#return 값이 있기 때문에 b는 20을 반환\n",
    "print(b)"
   ]
  },
  {
   "cell_type": "markdown",
   "id": "a84c86f5",
   "metadata": {},
   "source": [
    "Console I/O"
   ]
  },
  {
   "cell_type": "code",
   "execution_count": 7,
   "id": "f04d1661",
   "metadata": {},
   "outputs": [
    {
     "name": "stdout",
     "output_type": "stream",
     "text": [
      "Enter your Name: abc\n",
      "abc\n"
     ]
    }
   ],
   "source": [
    "a = input(\"Enter your Name: \")\n",
    "print(a)"
   ]
  },
  {
   "cell_type": "markdown",
   "id": "dd9a9dab",
   "metadata": {},
   "source": [
    "Print Formatting"
   ]
  },
  {
   "cell_type": "code",
   "execution_count": 8,
   "id": "33d1e74f",
   "metadata": {},
   "outputs": [
    {
     "name": "stdout",
     "output_type": "stream",
     "text": [
      "1 years old\n"
     ]
    }
   ],
   "source": [
    "a = 1\n",
    "b = \"1\"\n",
    "\n",
    "print(\"{0} years old\".format(a))"
   ]
  },
  {
   "cell_type": "code",
   "execution_count": 10,
   "id": "3197eec7",
   "metadata": {},
   "outputs": [
    {
     "name": "stdout",
     "output_type": "stream",
     "text": [
      "hello 1 1\n"
     ]
    }
   ],
   "source": [
    "print(\"hello {0} {1}\".format(a, b))"
   ]
  },
  {
   "cell_type": "code",
   "execution_count": 13,
   "id": "8428493c",
   "metadata": {},
   "outputs": [
    {
     "name": "stdout",
     "output_type": "stream",
     "text": [
      "Hello, Yehyun. 26 years old\n"
     ]
    }
   ],
   "source": [
    "## 요즘 대세: f-string\n",
    "\n",
    "name = \"Yehyun\"\n",
    "age = 26\n",
    "\n",
    "print(f\"Hello, {name}. {age} years old\")"
   ]
  },
  {
   "cell_type": "code",
   "execution_count": 19,
   "id": "ca060f5f",
   "metadata": {},
   "outputs": [
    {
     "name": "stdout",
     "output_type": "stream",
     "text": [
      "Yehyun              \n",
      "              Yehyun\n",
      "Yehyun**************\n",
      "**************Yehyun\n",
      "*******Yehyun*******\n",
      " 3.14\n",
      "3.14******\n"
     ]
    }
   ],
   "source": [
    "print(f'{name:20}')\n",
    "print(f'{name:>20}')\n",
    "print(f'{name:*<20}')\n",
    "print(f'{name:*>20}')\n",
    "print(f'{name:*^20}')\n",
    "\n",
    "number = 3.141592653589793\n",
    "print(f'{number: .2f}')\n",
    "print(f'{number:*<10.2f}')"
   ]
  },
  {
   "cell_type": "code",
   "execution_count": null,
   "id": "f83bd494",
   "metadata": {},
   "outputs": [],
   "source": []
  }
 ],
 "metadata": {
  "kernelspec": {
   "display_name": "Python 3 (ipykernel)",
   "language": "python",
   "name": "python3"
  },
  "language_info": {
   "codemirror_mode": {
    "name": "ipython",
    "version": 3
   },
   "file_extension": ".py",
   "mimetype": "text/x-python",
   "name": "python",
   "nbconvert_exporter": "python",
   "pygments_lexer": "ipython3",
   "version": "3.8.11"
  }
 },
 "nbformat": 4,
 "nbformat_minor": 5
}
