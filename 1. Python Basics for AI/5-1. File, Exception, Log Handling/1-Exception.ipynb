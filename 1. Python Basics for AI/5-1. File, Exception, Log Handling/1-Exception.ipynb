{
 "cells": [
  {
   "cell_type": "markdown",
   "metadata": {},
   "source": [
    "Exception"
   ]
  },
  {
   "cell_type": "code",
   "execution_count": 1,
   "metadata": {},
   "outputs": [
    {
     "name": "stdout",
     "output_type": "stream",
     "text": [
      "Not divided by 0\n",
      "10.0\n",
      "5.0\n",
      "3.3333333333333335\n",
      "2.5\n",
      "2.0\n",
      "1.6666666666666667\n",
      "1.4285714285714286\n",
      "1.25\n",
      "1.1111111111111112\n",
      "Not divided by 0\n",
      "10.0\n",
      "2\n",
      "name 'v' is not defined\n",
      "5.0\n",
      "3\n",
      "name 'v' is not defined\n",
      "3.3333333333333335\n",
      "4\n",
      "name 'v' is not defined\n",
      "2.5\n",
      "5\n",
      "name 'v' is not defined\n",
      "2.0\n",
      "list index out of range\n",
      "1.6666666666666667\n",
      "list index out of range\n",
      "1.4285714285714286\n",
      "list index out of range\n",
      "1.25\n",
      "list index out of range\n",
      "1.1111111111111112\n",
      "list index out of range\n"
     ]
    }
   ],
   "source": [
    "# try ... except\n",
    "\n",
    "for i in range(10):\n",
    "    try:\n",
    "        print(10/i)\n",
    "    except ZeroDivisionError: \n",
    "        print(\"Not divided by 0\")\n",
    "a=[1,2,3,4,5]\n",
    "for i in range(10):\n",
    "    try:\n",
    "        print(10/i)\n",
    "        print(a[i])\n",
    "        print(v)\n",
    "    except ZeroDivisionError: \n",
    "        print(\"Not divided by 0\")\n",
    "    except IndexError as e:\n",
    "        print(e)\n",
    "    except Exception as e:\n",
    "        print(e)"
   ]
  },
  {
   "cell_type": "code",
   "execution_count": 2,
   "metadata": {},
   "outputs": [
    {
     "name": "stdout",
     "output_type": "stream",
     "text": [
      "Not divided by 0\n",
      "10\n",
      "5\n",
      "3\n",
      "2\n",
      "2\n",
      "1\n",
      "1\n",
      "1\n",
      "1\n"
     ]
    }
   ],
   "source": [
    "# try ... except ... else\n",
    "\n",
    "for i in range(10):\n",
    "    try:\n",
    "        result = 10//i\n",
    "    except ZeroDivisionError:\n",
    "        print(\"Not divided by 0\")\n",
    "    else:\n",
    "        print(10//i)"
   ]
  },
  {
   "cell_type": "code",
   "execution_count": 3,
   "metadata": {},
   "outputs": [
    {
     "name": "stdout",
     "output_type": "stream",
     "text": [
      "Not divided by 0\n",
      "0 ----- 1\n",
      "10\n",
      "1 ----- 10\n",
      "5\n",
      "2 ----- 5\n",
      "3\n",
      "3 ----- 3\n",
      "2\n",
      "4 ----- 2\n",
      "2\n",
      "5 ----- 2\n",
      "1\n",
      "6 ----- 1\n",
      "1\n",
      "7 ----- 1\n",
      "1\n",
      "8 ----- 1\n",
      "1\n",
      "9 ----- 1\n"
     ]
    }
   ],
   "source": [
    "# try ... except ... else ... finally\n",
    "\n",
    "for i in range(10):\n",
    "    try:\n",
    "        result = 10//i\n",
    "    except ZeroDivisionError:\n",
    "        print(\"Not divided by 0\")\n",
    "    else:\n",
    "        print(10//i)\n",
    "    finally:\n",
    "        print(i,\"-----\",result)"
   ]
  },
  {
   "cell_type": "code",
   "execution_count": 4,
   "metadata": {},
   "outputs": [],
   "source": [
    "# raise\n",
    "a = input()\n",
    "print(a)\n",
    "while True:\n",
    "    value = input(\"input a number\")\n",
    "    for digit in value:\n",
    "        if digit not in \"0123456789\":\n",
    "            raise ValueError(\"You did not input a number\")\n",
    "    print(\"to int: \",int(value))"
   ]
  },
  {
   "cell_type": "code",
   "execution_count": null,
   "metadata": {},
   "outputs": [],
   "source": [
    "# assert\n",
    "\n",
    "def get_binary_number(decimal_number : int):\n",
    "    assert isinstance(decimal_number, int)\n",
    "    return bin(decimal_number)\n",
    "print(get_binary_number(19))\n",
    "print(get_binary_number(10.0))"
   ]
  }
 ],
 "metadata": {
  "interpreter": {
   "hash": "31f2aee4e71d21fbe5cf8b01ff0e069b9275f58929596ceb00d14d90e3e16cd6"
  },
  "kernelspec": {
   "display_name": "Python 3.8.2 64-bit",
   "language": "python",
   "name": "python3"
  },
  "language_info": {
   "codemirror_mode": {
    "name": "ipython",
    "version": 3
   },
   "file_extension": ".py",
   "mimetype": "text/x-python",
   "name": "python",
   "nbconvert_exporter": "python",
   "pygments_lexer": "ipython3",
   "version": "3.8.2"
  },
  "orig_nbformat": 4
 },
 "nbformat": 4,
 "nbformat_minor": 2
}
