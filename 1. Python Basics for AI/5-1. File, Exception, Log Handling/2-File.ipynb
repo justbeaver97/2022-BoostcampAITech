{
 "cells": [
  {
   "cell_type": "markdown",
   "metadata": {},
   "source": [
    "File"
   ]
  },
  {
   "cell_type": "code",
   "execution_count": 1,
   "metadata": {},
   "outputs": [
    {
     "name": "stdout",
     "output_type": "stream",
     "text": [
      "ROT13 is a weak form of encryption that\n",
      "involves 'rotating' each\n",
      "letter in a word by 13 places.\n",
      "To rotate a letter means to shift it \n",
      "through the alphabet, wrapping\n",
      "around to the beginning if\n",
      "necessary, so 'A' shifted by 3\n",
      "is 'D' and 'Z' shifted by 1 is 'A'.\n",
      "\n"
     ]
    }
   ],
   "source": [
    "# Python - Read File\n",
    "\n",
    "f = open(\"input_file/paragraph.txt\",\"r\")\n",
    "contents = f.read()\n",
    "print(contents)\n",
    "f.close()"
   ]
  },
  {
   "cell_type": "code",
   "execution_count": 2,
   "metadata": {},
   "outputs": [
    {
     "name": "stdout",
     "output_type": "stream",
     "text": [
      "<class 'str'> ROT13 is a weak form of encryption that\n",
      "involves 'rotating' each\n",
      "letter in a word by 13 places.\n",
      "To rotate a letter means to shift it \n",
      "through the alphabet, wrapping\n",
      "around to the beginning if\n",
      "necessary, so 'A' shifted by 3\n",
      "is 'D' and 'Z' shifted by 1 is 'A'.\n",
      "\n"
     ]
    }
   ],
   "source": [
    "with open(\"input_file/paragraph.txt\",\"r\") as my_file:\n",
    "    contents = my_file.read()\n",
    "print(type(contents),contents)"
   ]
  },
  {
   "cell_type": "code",
   "execution_count": 3,
   "metadata": {},
   "outputs": [
    {
     "name": "stdout",
     "output_type": "stream",
     "text": [
      "<class 'list'> ['ROT13 is a weak form of encryption that\\n', \"involves 'rotating' each\\n\"]\n"
     ]
    }
   ],
   "source": [
    "# 한줄씩 읽어 List Type으로 변환함\n",
    "\n",
    "with open(\"input_file/paragraph.txt\",\"r\") as my_file2:\n",
    "    contents2 = my_file2.readlines()\n",
    "print(type(contents2),contents2[:2])"
   ]
  },
  {
   "cell_type": "code",
   "execution_count": 4,
   "metadata": {},
   "outputs": [
    {
     "name": "stdout",
     "output_type": "stream",
     "text": [
      "['ROT13 is a weak form of encryption that\\n', \"involves 'rotating' each\\n\"]\n"
     ]
    }
   ],
   "source": [
    "#실행 시 마다 한줄씩 읽어오기\n",
    "\n",
    "with open(\"input_file/paragraph.txt\",\"r\") as my_file3:\n",
    "    i = 0\n",
    "    fileContent = []\n",
    "    while True:\n",
    "        line = my_file3.readline()\n",
    "        if not line:\n",
    "            break\n",
    "        fileContent.append(line)\n",
    "        i += 1\n",
    "print(fileContent[:2])"
   ]
  },
  {
   "cell_type": "code",
   "execution_count": 5,
   "metadata": {},
   "outputs": [
    {
     "name": "stdout",
     "output_type": "stream",
     "text": [
      "Total Number of Characters:  580699\n",
      "Total Number of Words:  98204\n",
      "Total Numberof Lines:  12254\n"
     ]
    }
   ],
   "source": [
    "# 단어 통계 정보 산출 \n",
    "\n",
    "with open(\"input_file/sherlock.txt\",\"r\") as my_file4:\n",
    "    contents = my_file4.read()\n",
    "    word_list = contents.split(\" \")\n",
    "    line_list = contents.split(\"\\n\")\n",
    "\n",
    "print(\"Total Number of Characters: \",len(contents))\n",
    "print(\"Total Number of Words: \", len(word_list))\n",
    "print(\"Total Numberof Lines: \", len(line_list))"
   ]
  },
  {
   "cell_type": "code",
   "execution_count": 6,
   "metadata": {},
   "outputs": [],
   "source": [
    "#Python - Write File\n",
    "\n",
    "f = open(\"output_file/temp.txt\",\"w\",encoding=\"utf8\") \n",
    "for i in range(1,11):\n",
    "    data = \"%d번째 줄입니다.\\n\" % i\n",
    "    f.write(data)\n",
    "f.close()"
   ]
  },
  {
   "cell_type": "code",
   "execution_count": 7,
   "metadata": {},
   "outputs": [],
   "source": [
    "with open(\"output_file/temp.txt\", \"a\", encoding=\"utf8\") as f:\n",
    "    for i in range(11,16):\n",
    "        data = \"%d번째 줄입니다.\\n\" % i\n",
    "        f.write(data)"
   ]
  },
  {
   "cell_type": "code",
   "execution_count": 8,
   "metadata": {},
   "outputs": [],
   "source": [
    "# Python의 Directory 다루기(os)\n",
    "\n",
    "import os\n",
    "\n",
    "os.mkdir(\"log\")"
   ]
  },
  {
   "cell_type": "code",
   "execution_count": 9,
   "metadata": {},
   "outputs": [
    {
     "name": "stdout",
     "output_type": "stream",
     "text": [
      "Already Created\n"
     ]
    }
   ],
   "source": [
    "try:\n",
    "    os.mkdir(\"log\")\n",
    "except FileExistsError as e:\n",
    "    print(\"Already Created\")"
   ]
  },
  {
   "cell_type": "code",
   "execution_count": 10,
   "metadata": {},
   "outputs": [
    {
     "data": {
      "text/plain": [
       "True"
      ]
     },
     "execution_count": 10,
     "metadata": {},
     "output_type": "execute_result"
    }
   ],
   "source": [
    "os.path.exists(\"log\")"
   ]
  },
  {
   "cell_type": "code",
   "execution_count": 12,
   "metadata": {},
   "outputs": [
    {
     "data": {
      "text/plain": [
       "'output_file/log_yehyun.txt'"
      ]
     },
     "execution_count": 12,
     "metadata": {},
     "output_type": "execute_result"
    }
   ],
   "source": [
    "# 파일 복사해서 다른 경로에 붙여넣기\n",
    "\n",
    "import shutil\n",
    "\n",
    "source = \"input_file/log.txt\"\n",
    "dest = os.path.join(\"output_file\",\"log_yehyun.txt\")\n",
    "shutil.copy(source, dest)"
   ]
  },
  {
   "cell_type": "code",
   "execution_count": 13,
   "metadata": {},
   "outputs": [
    {
     "data": {
      "text/plain": [
       "PosixPath('/Users/justbeaver/Documents/Github/2021-2-NaverAITech/2-3 File, Exception, Log Handling')"
      ]
     },
     "execution_count": 13,
     "metadata": {},
     "output_type": "execute_result"
    }
   ],
   "source": [
    "import pathlib\n",
    "\n",
    "cwd = pathlib.Path.cwd()\n",
    "cwd"
   ]
  },
  {
   "cell_type": "code",
   "execution_count": 14,
   "metadata": {},
   "outputs": [
    {
     "data": {
      "text/plain": [
       "PosixPath('/Users/justbeaver/Documents/Github/2021-2-NaverAITech')"
      ]
     },
     "execution_count": 14,
     "metadata": {},
     "output_type": "execute_result"
    }
   ],
   "source": [
    "cwd.parent"
   ]
  },
  {
   "cell_type": "code",
   "execution_count": 15,
   "metadata": {},
   "outputs": [
    {
     "data": {
      "text/plain": [
       "PosixPath('/Users/justbeaver/Documents/Github')"
      ]
     },
     "execution_count": 15,
     "metadata": {},
     "output_type": "execute_result"
    }
   ],
   "source": [
    "cwd.parent.parent"
   ]
  },
  {
   "cell_type": "code",
   "execution_count": 16,
   "metadata": {},
   "outputs": [
    {
     "data": {
      "text/plain": [
       "[PosixPath('/Users/justbeaver/Documents/Github'),\n",
       " PosixPath('/Users/justbeaver/Documents'),\n",
       " PosixPath('/Users/justbeaver'),\n",
       " PosixPath('/Users'),\n",
       " PosixPath('/')]"
      ]
     },
     "execution_count": 16,
     "metadata": {},
     "output_type": "execute_result"
    }
   ],
   "source": [
    "list(cwd.parent.parents)"
   ]
  },
  {
   "cell_type": "code",
   "execution_count": 17,
   "metadata": {},
   "outputs": [
    {
     "data": {
      "text/plain": [
       "[PosixPath('/Users/justbeaver/Documents/Github/2021-2-NaverAITech/2-3 File, Exception, Log Handling/my.log'),\n",
       " PosixPath('/Users/justbeaver/Documents/Github/2021-2-NaverAITech/2-3 File, Exception, Log Handling/.DS_Store'),\n",
       " PosixPath('/Users/justbeaver/Documents/Github/2021-2-NaverAITech/2-3 File, Exception, Log Handling/2-File.ipynb'),\n",
       " PosixPath('/Users/justbeaver/Documents/Github/2021-2-NaverAITech/2-3 File, Exception, Log Handling/1-Exception.ipynb'),\n",
       " PosixPath('/Users/justbeaver/Documents/Github/2021-2-NaverAITech/2-3 File, Exception, Log Handling/3-argparse.py'),\n",
       " PosixPath('/Users/justbeaver/Documents/Github/2021-2-NaverAITech/2-3 File, Exception, Log Handling/multiply_object.pickle'),\n",
       " PosixPath('/Users/justbeaver/Documents/Github/2021-2-NaverAITech/2-3 File, Exception, Log Handling/output_file'),\n",
       " PosixPath('/Users/justbeaver/Documents/Github/2021-2-NaverAITech/2-3 File, Exception, Log Handling/input_file'),\n",
       " PosixPath('/Users/justbeaver/Documents/Github/2021-2-NaverAITech/2-3 File, Exception, Log Handling/3-Logging.ipynb')]"
      ]
     },
     "execution_count": 17,
     "metadata": {},
     "output_type": "execute_result"
    }
   ],
   "source": [
    "list(cwd.glob(\"*\"))"
   ]
  },
  {
   "cell_type": "code",
   "execution_count": 18,
   "metadata": {},
   "outputs": [],
   "source": [
    "# ex) hello 파일 생성하기\n",
    "\n",
    "import os\n",
    "\n",
    "if not os.path.isdir(\"hello\"):\n",
    "    os.mkdir(\"hello\")\n",
    "    \n",
    "TARGET_FILE_PATH = os.path.join(\"output_file\",\"hello_world.txt\") \n",
    "    \n",
    "if not os.path.exists(TARGET_FILE_PATH):\n",
    "    f = open(\"output_file/hello_world.txt\",\"w\",encoding=\"utf8\")\n",
    "    f.write(\"기록이 시작됩니다\\n\")\n",
    "    f.close()"
   ]
  },
  {
   "cell_type": "code",
   "execution_count": 19,
   "metadata": {},
   "outputs": [],
   "source": [
    "with open(\"output_file/hello_world.txt\",\"a\",encoding=\"utf8\") as f:\n",
    "    import random, datetime \n",
    "    for i in range(1,11):\n",
    "        stamp = str(datetime.datetime.now())\n",
    "        value = random.random() * 1000000\n",
    "        log_line = stamp + \"\\t\" + str(value) + \"값이 생성되었습니다\\n\"\n",
    "        f.write(log_line)"
   ]
  },
  {
   "cell_type": "code",
   "execution_count": 20,
   "metadata": {},
   "outputs": [],
   "source": [
    "# Pickle - 영속화 / 먹는 피클 생각해도 됨\n",
    "\n",
    "import pickle\n",
    "\n",
    "f = open(\"output_file/list.pickle\",\"wb\") #wb: write binary\n",
    "test = [1,2,3,4,5]\n",
    "pickle.dump(test, f) \n",
    "f.close()"
   ]
  },
  {
   "cell_type": "code",
   "execution_count": 21,
   "metadata": {},
   "outputs": [],
   "source": [
    "del test"
   ]
  },
  {
   "cell_type": "code",
   "execution_count": 22,
   "metadata": {},
   "outputs": [
    {
     "ename": "NameError",
     "evalue": "name 'test' is not defined",
     "output_type": "error",
     "traceback": [
      "\u001b[0;31m---------------------------------------------------------------------------\u001b[0m",
      "\u001b[0;31mNameError\u001b[0m                                 Traceback (most recent call last)",
      "\u001b[0;32m<ipython-input-22-4e1243bd22c6>\u001b[0m in \u001b[0;36m<module>\u001b[0;34m\u001b[0m\n\u001b[0;32m----> 1\u001b[0;31m \u001b[0mtest\u001b[0m\u001b[0;34m\u001b[0m\u001b[0;34m\u001b[0m\u001b[0m\n\u001b[0m",
      "\u001b[0;31mNameError\u001b[0m: name 'test' is not defined"
     ]
    }
   ],
   "source": [
    "test"
   ]
  },
  {
   "cell_type": "code",
   "execution_count": 23,
   "metadata": {},
   "outputs": [
    {
     "name": "stdout",
     "output_type": "stream",
     "text": [
      "[1, 2, 3, 4, 5]\n"
     ]
    }
   ],
   "source": [
    "f = open(\"output_file/list.pickle\",\"rb\")\n",
    "test_pickle = pickle.load(f)\n",
    "print(test_pickle)\n",
    "f.close()"
   ]
  },
  {
   "cell_type": "code",
   "execution_count": 30,
   "metadata": {},
   "outputs": [],
   "source": [
    "class Multiply(object):\n",
    "    def __init__(self, multiplier):\n",
    "        self.multiplier = multiplier\n",
    "    \n",
    "    def multiply(self, number):\n",
    "        return number * self.multiplier"
   ]
  },
  {
   "cell_type": "code",
   "execution_count": 31,
   "metadata": {},
   "outputs": [
    {
     "data": {
      "text/plain": [
       "500"
      ]
     },
     "execution_count": 31,
     "metadata": {},
     "output_type": "execute_result"
    }
   ],
   "source": [
    "multiply = Multiply(5)\n",
    "multiply.multiply(100)"
   ]
  },
  {
   "cell_type": "code",
   "execution_count": 32,
   "metadata": {},
   "outputs": [],
   "source": [
    "f = open(\"output_file/multiply_object.pickle\",\"wb\")\n",
    "pickle.dump(multiply, f)\n",
    "f.close()"
   ]
  },
  {
   "cell_type": "code",
   "execution_count": 33,
   "metadata": {},
   "outputs": [],
   "source": [
    "del multiply"
   ]
  },
  {
   "cell_type": "code",
   "execution_count": 34,
   "metadata": {},
   "outputs": [
    {
     "data": {
      "text/plain": [
       "500"
      ]
     },
     "execution_count": 34,
     "metadata": {},
     "output_type": "execute_result"
    }
   ],
   "source": [
    "f = open(\"output_file/multiply_object.pickle\",\"rb\")\n",
    "multiply_pickle = pickle.load(f)\n",
    "multiply_pickle.multiply(100)"
   ]
  }
 ],
 "metadata": {
  "interpreter": {
   "hash": "31f2aee4e71d21fbe5cf8b01ff0e069b9275f58929596ceb00d14d90e3e16cd6"
  },
  "kernelspec": {
   "display_name": "Python 3.8.2 64-bit",
   "language": "python",
   "name": "python3"
  },
  "language_info": {
   "codemirror_mode": {
    "name": "ipython",
    "version": 3
   },
   "file_extension": ".py",
   "mimetype": "text/x-python",
   "name": "python",
   "nbconvert_exporter": "python",
   "pygments_lexer": "ipython3",
   "version": "3.8.2"
  },
  "orig_nbformat": 4
 },
 "nbformat": 4,
 "nbformat_minor": 2
}
