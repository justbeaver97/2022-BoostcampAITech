{
 "cells": [
  {
   "cell_type": "markdown",
   "metadata": {},
   "source": [
    "Logging"
   ]
  },
  {
   "cell_type": "code",
   "execution_count": 1,
   "metadata": {},
   "outputs": [
    {
     "name": "stderr",
     "output_type": "stream",
     "text": [
      "WARNING:root:watch out\n",
      "ERROR:root:error\n",
      "CRITICAL:root:damn it\n"
     ]
    }
   ],
   "source": [
    "# logging module\n",
    "\n",
    "import logging\n",
    "\n",
    "logging.debug(\"Your wrong!\")\n",
    "logging.info(\"check out\")\n",
    "logging.warning(\"watch out\")\n",
    "logging.error(\"error\")\n",
    "logging.critical(\"damn it\")"
   ]
  },
  {
   "cell_type": "code",
   "execution_count": 2,
   "metadata": {},
   "outputs": [
    {
     "name": "stderr",
     "output_type": "stream",
     "text": [
      "INFO:main:확인해\n",
      "WARNING:main:조심해\n",
      "ERROR:main:에러났어\n",
      "CRITICAL:main:망했어\n"
     ]
    }
   ],
   "source": [
    "import logging\n",
    "\n",
    "if __name__ == \"__main__\":\n",
    "    logger = logging.getLogger(\"main\")\n",
    "    logging.basicConfig(level=logging.DEBUG)    #이 줄이 있어야 debug info 가 출력이 됨\n",
    "    logger.setLevel(logging.INFO)               #얘를 통해 Level을 set 해줌 -> 출력할게 정해짐\n",
    "    \n",
    "    steam_handler = logging.FileHandler(\n",
    "        \"output_file/my.log\", mode=\"a\", encoding=\"utf8\"\n",
    "    )\n",
    "    logger.addHandler(steam_handler)\n",
    "    \n",
    "    logger.debug(\"틀렸어\")\n",
    "    logger.info(\"확인해\")\n",
    "    logger.warning(\"조심해\")\n",
    "    logger.error(\"에러났어\")\n",
    "    logger.critical(\"망했어\")"
   ]
  },
  {
   "cell_type": "code",
   "execution_count": 4,
   "metadata": {},
   "outputs": [
    {
     "name": "stdout",
     "output_type": "stream",
     "text": [
      "['SectionOne', 'SectionTwo', 'SectionThree']\n",
      "status : Single\n",
      "name : Derek\n",
      "value : Yes\n",
      "age : 30\n",
      "single : True\n"
     ]
    },
    {
     "data": {
      "text/plain": [
       "'Single'"
      ]
     },
     "execution_count": 4,
     "metadata": {},
     "output_type": "execute_result"
    }
   ],
   "source": [
    "# config parser\n",
    "\n",
    "import configparser\n",
    "\n",
    "config = configparser.ConfigParser()\n",
    "\n",
    "config.read('input_file/example.cfg')\n",
    "print(config.sections())\n",
    "\n",
    "for key in config['SectionOne']:\n",
    "    value = config['SectionOne'][key]\n",
    "    print(\"{0} : {1}\".format(key, value))\n",
    "    \n",
    "config['SectionOne']['status']"
   ]
  }
 ],
 "metadata": {
  "interpreter": {
   "hash": "31f2aee4e71d21fbe5cf8b01ff0e069b9275f58929596ceb00d14d90e3e16cd6"
  },
  "kernelspec": {
   "display_name": "Python 3.8.2 64-bit",
   "language": "python",
   "name": "python3"
  },
  "language_info": {
   "codemirror_mode": {
    "name": "ipython",
    "version": 3
   },
   "file_extension": ".py",
   "mimetype": "text/x-python",
   "name": "python",
   "nbconvert_exporter": "python",
   "pygments_lexer": "ipython3",
   "version": "3.8.2"
  },
  "orig_nbformat": 4
 },
 "nbformat": 4,
 "nbformat_minor": 2
}
