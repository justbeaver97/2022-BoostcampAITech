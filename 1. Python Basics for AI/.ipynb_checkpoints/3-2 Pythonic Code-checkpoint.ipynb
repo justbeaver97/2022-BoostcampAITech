{
 "cells": [
  {
   "cell_type": "markdown",
   "id": "4a98035a",
   "metadata": {},
   "source": [
    "### Split "
   ]
  },
  {
   "cell_type": "code",
   "execution_count": 1,
   "id": "d5cc626d",
   "metadata": {},
   "outputs": [
    {
     "name": "stdout",
     "output_type": "stream",
     "text": [
      "['zero', 'one', 'two', 'three']\n"
     ]
    }
   ],
   "source": [
    "items = 'zero one two three'.split() \n",
    "print (items)"
   ]
  },
  {
   "cell_type": "code",
   "execution_count": 2,
   "id": "bae61ba4",
   "metadata": {},
   "outputs": [
    {
     "data": {
      "text/plain": [
       "['python', 'java', 'javascript']"
      ]
     },
     "execution_count": 2,
     "metadata": {},
     "output_type": "execute_result"
    }
   ],
   "source": [
    "example = 'python,java,javascript' \n",
    "example.split(\",\")"
   ]
  },
  {
   "cell_type": "code",
   "execution_count": 5,
   "id": "7a2956bb",
   "metadata": {},
   "outputs": [
    {
     "data": {
      "text/plain": [
       "'technology'"
      ]
     },
     "execution_count": 5,
     "metadata": {},
     "output_type": "execute_result"
    }
   ],
   "source": [
    "example = 'teamlab.technology.io'\n",
    "subdomain, domain, tld = example.split('.') # \".\"을 기준으로 문자열 나누기 → Unpacking\n",
    "domain"
   ]
  },
  {
   "cell_type": "markdown",
   "id": "2e405c76",
   "metadata": {},
   "source": [
    "### Join"
   ]
  },
  {
   "cell_type": "code",
   "execution_count": 6,
   "id": "93a47ef2",
   "metadata": {},
   "outputs": [
    {
     "data": {
      "text/plain": [
       "'redbluegreenyellow'"
      ]
     },
     "execution_count": 6,
     "metadata": {},
     "output_type": "execute_result"
    }
   ],
   "source": [
    "colors = ['red', 'blue', 'green', 'yellow']\n",
    "result = ''.join(colors)\n",
    "result"
   ]
  },
  {
   "cell_type": "code",
   "execution_count": 7,
   "id": "edf004b8",
   "metadata": {},
   "outputs": [
    {
     "data": {
      "text/plain": [
       "'red blue green yellow'"
      ]
     },
     "execution_count": 7,
     "metadata": {},
     "output_type": "execute_result"
    }
   ],
   "source": [
    "result = ' '.join(colors) # 연결 시 빈칸 1칸으로 연결 \n",
    "result"
   ]
  },
  {
   "cell_type": "code",
   "execution_count": 8,
   "id": "856607e9",
   "metadata": {},
   "outputs": [
    {
     "data": {
      "text/plain": [
       "'red, blue, green, yellow'"
      ]
     },
     "execution_count": 8,
     "metadata": {},
     "output_type": "execute_result"
    }
   ],
   "source": [
    "result = ', '.join(colors) # 연결 시 \", \"으로 연결 \n",
    "result"
   ]
  },
  {
   "cell_type": "code",
   "execution_count": 9,
   "id": "b1236a98",
   "metadata": {},
   "outputs": [
    {
     "data": {
      "text/plain": [
       "'red-blue-green-yellow'"
      ]
     },
     "execution_count": 9,
     "metadata": {},
     "output_type": "execute_result"
    }
   ],
   "source": [
    "result = '-'.join(colors) # 연결 시 \"-\"으로 연결 \n",
    "result"
   ]
  },
  {
   "cell_type": "markdown",
   "id": "b7bb7eae",
   "metadata": {},
   "source": [
    "### List Comprehension\n",
    "기존 List 를 사용하여 간단히 다른 list를 만드는 기법   \n",
    "일반적으로 for + append 보다 효율적임"
   ]
  },
  {
   "cell_type": "code",
   "execution_count": 10,
   "id": "af982de9",
   "metadata": {},
   "outputs": [
    {
     "data": {
      "text/plain": [
       "[0, 1, 2, 3, 4, 5, 6, 7, 8, 9]"
      ]
     },
     "execution_count": 10,
     "metadata": {},
     "output_type": "execute_result"
    }
   ],
   "source": [
    "result = []\n",
    "for i in range(10):\n",
    "    result.append(i)\n",
    "\n",
    "result"
   ]
  },
  {
   "cell_type": "code",
   "execution_count": 11,
   "id": "10ec583f",
   "metadata": {},
   "outputs": [
    {
     "data": {
      "text/plain": [
       "[0, 1, 2, 3, 4, 5, 6, 7, 8, 9]"
      ]
     },
     "execution_count": 11,
     "metadata": {},
     "output_type": "execute_result"
    }
   ],
   "source": [
    "result = [i for i in range(10)]  # much better & efficient\n",
    "\n",
    "result"
   ]
  },
  {
   "cell_type": "code",
   "execution_count": 12,
   "id": "f1338087",
   "metadata": {},
   "outputs": [
    {
     "data": {
      "text/plain": [
       "[0, 2, 4, 6, 8]"
      ]
     },
     "execution_count": 12,
     "metadata": {},
     "output_type": "execute_result"
    }
   ],
   "source": [
    "result = [i for i in range(10) if i % 2 == 0] \n",
    "\n",
    "result"
   ]
  },
  {
   "cell_type": "code",
   "execution_count": 16,
   "id": "d58b06b0",
   "metadata": {
    "scrolled": true
   },
   "outputs": [
    {
     "name": "stdout",
     "output_type": "stream",
     "text": [
      "['HW', 'Ho', 'Hr', 'Hl', 'Hd', 'eW', 'eo', 'er', 'el', 'ed', 'lW', 'lo', 'lr', 'll', 'ld', 'lW', 'lo', 'lr', 'll', 'ld', 'oW', 'oo', 'or', 'ol', 'od']\n"
     ]
    }
   ],
   "source": [
    "## Nested Loop\n",
    "\n",
    "word_1 = \"Hello\"\n",
    "word_2 = \"World\"\n",
    "result = [i+j for i in word_1 for j in word_2]  # i+j appends to result\n",
    "\n",
    "print(result)  # Nested For loop"
   ]
  },
  {
   "cell_type": "code",
   "execution_count": 14,
   "id": "51bc0b8f",
   "metadata": {},
   "outputs": [
    {
     "data": {
      "text/plain": [
       "['AD', 'AE', 'AA', 'BD', 'BE', 'BA', 'CD', 'CE', 'CA']"
      ]
     },
     "execution_count": 14,
     "metadata": {},
     "output_type": "execute_result"
    }
   ],
   "source": [
    "case_1 = [\"A\",\"B\",\"C\"]\n",
    "case_2 = [\"D\",\"E\",\"A\"]\n",
    "result = [i+j for i in case_1 for j in case_2]\n",
    "\n",
    "result"
   ]
  },
  {
   "cell_type": "code",
   "execution_count": 15,
   "id": "09b3ab14",
   "metadata": {},
   "outputs": [
    {
     "data": {
      "text/plain": [
       "['AD', 'AE', 'BD', 'BE', 'BA', 'CD', 'CE', 'CA']"
      ]
     },
     "execution_count": 15,
     "metadata": {},
     "output_type": "execute_result"
    }
   ],
   "source": [
    "## Filter\n",
    "\n",
    "result = [i+j for i in case_1 for j in case_2 if not(i==j)] # Filter\n",
    "# [i+j if not(i==j) else i for i in case_1 for j in case_2]\n",
    "\n",
    "result"
   ]
  },
  {
   "cell_type": "code",
   "execution_count": 17,
   "id": "62d0d3ad",
   "metadata": {},
   "outputs": [
    {
     "name": "stdout",
     "output_type": "stream",
     "text": [
      "['The', 'quick', 'brown', 'fox', 'jumps', 'over', 'the', 'lazy', 'dog']\n",
      "['THE', 'the', 3]\n",
      "['QUICK', 'quick', 5]\n",
      "['BROWN', 'brown', 5]\n",
      "['FOX', 'fox', 3]\n",
      "['JUMPS', 'jumps', 5]\n",
      "['OVER', 'over', 4]\n",
      "['THE', 'the', 3]\n",
      "['LAZY', 'lazy', 4]\n",
      "['DOG', 'dog', 3]\n"
     ]
    }
   ],
   "source": [
    "## Two Dimensional List\n",
    "\n",
    "words = 'The quick brown fox jumps over the lazy dog'.split()\n",
    "print (words)\n",
    "\n",
    "# list의 각 elemente들을 대문자, 소문자, 길이로 변 환하여 two dimensional list로 변환\n",
    "stuff = [[w.upper(), w.lower(), len(w)] for w in words] \n",
    "\n",
    "for i in stuff: \n",
    "    print (i)"
   ]
  },
  {
   "cell_type": "code",
   "execution_count": 22,
   "id": "eaea7997",
   "metadata": {},
   "outputs": [
    {
     "name": "stdout",
     "output_type": "stream",
     "text": [
      "['AD', 'AE', 'AA', 'BD', 'BE', 'BA', 'CD', 'CE', 'CA']\n",
      "[['AD', 'BD', 'CD'], ['AE', 'BE', 'CE'], ['AA', 'BA', 'CA']]\n",
      "[['AD', 'BD', 'CD'], [], ['AA', 'BA', 'CA']]\n"
     ]
    }
   ],
   "source": [
    "## Two Dimensional vs One Dimensional\n",
    "\n",
    "case_1 = [\"A\",\"B\",\"C\"]\n",
    "case_2 = [\"D\",\"E\",\"A\"]\n",
    "\n",
    "result = [i+j for i in case_1 for j in case_2]\n",
    "print(result)\n",
    "\n",
    "result = [ [i+j for i in case_1] for j in case_2]  # for j in case_2 -> for i in case_1\n",
    "print(result)\n",
    "\n",
    "result = [ [i+j for i in case_1 if j != \"E\"] for j in case_2] \n",
    "print(result)"
   ]
  },
  {
   "cell_type": "markdown",
   "id": "a9f8c39d",
   "metadata": {},
   "source": [
    "### Enumerate"
   ]
  },
  {
   "cell_type": "code",
   "execution_count": 23,
   "id": "b473de08",
   "metadata": {},
   "outputs": [
    {
     "name": "stdout",
     "output_type": "stream",
     "text": [
      "0 tic\n",
      "1 tac\n",
      "2 toe\n"
     ]
    }
   ],
   "source": [
    "for i, v in enumerate(['tic', 'tac', 'toe']): # list의 있는 index와 값을 unpacking\n",
    "    print (i, v)  # index, value"
   ]
  },
  {
   "cell_type": "code",
   "execution_count": 24,
   "id": "261a00e1",
   "metadata": {},
   "outputs": [
    {
     "data": {
      "text/plain": [
       "[(0, 'a'), (1, 'b'), (2, 'c'), (3, 'd')]"
      ]
     },
     "execution_count": 24,
     "metadata": {},
     "output_type": "execute_result"
    }
   ],
   "source": [
    "mylist = ['a', 'b', 'c', 'd']\n",
    "list(enumerate(mylist)) "
   ]
  },
  {
   "cell_type": "code",
   "execution_count": 29,
   "id": "ec64e019",
   "metadata": {},
   "outputs": [
    {
     "data": {
      "text/plain": [
       "{0: 'Artificial',\n",
       " 1: 'intelligence',\n",
       " 2: '(AI),',\n",
       " 3: 'is',\n",
       " 4: 'intelligence',\n",
       " 5: 'demonstrated',\n",
       " 6: 'by',\n",
       " 7: 'machines,',\n",
       " 8: 'unlike',\n",
       " 9: 'the',\n",
       " 10: 'natural',\n",
       " 11: 'intelligence',\n",
       " 12: 'displayed',\n",
       " 13: 'by',\n",
       " 14: 'humans',\n",
       " 15: 'and',\n",
       " 16: 'animals.'}"
      ]
     },
     "execution_count": 29,
     "metadata": {},
     "output_type": "execute_result"
    }
   ],
   "source": [
    "## 문장을 list로 만들고 list의 index와 값을 unpacking하여 dict로 저장\n",
    "\n",
    "text = 'Artificial intelligence (AI), is intelligence demonstrated by machines, unlike the natural intelligence displayed by humans and animals.'\n",
    "{i:j for i,j in enumerate(text.split())} "
   ]
  },
  {
   "cell_type": "code",
   "execution_count": 30,
   "id": "368815ce",
   "metadata": {},
   "outputs": [
    {
     "data": {
      "text/plain": [
       "{0: 'the',\n",
       " 1: 'humans',\n",
       " 2: 'intelligence',\n",
       " 3: '(AI),',\n",
       " 4: 'natural',\n",
       " 5: 'is',\n",
       " 6: 'unlike',\n",
       " 7: 'by',\n",
       " 8: 'machines,',\n",
       " 9: 'displayed',\n",
       " 10: 'animals.',\n",
       " 11: 'and',\n",
       " 12: 'Artificial',\n",
       " 13: 'demonstrated'}"
      ]
     },
     "execution_count": 30,
     "metadata": {},
     "output_type": "execute_result"
    }
   ],
   "source": [
    "## 겹치는 단어 제외\n",
    "\n",
    "set_text = list(set(text.split()))\n",
    "{i:j for i,j in enumerate(set_text)} "
   ]
  },
  {
   "cell_type": "code",
   "execution_count": 32,
   "id": "0d59a5dd",
   "metadata": {},
   "outputs": [
    {
     "data": {
      "text/plain": [
       "{'the': 0,\n",
       " 'humans': 1,\n",
       " 'intelligence': 2,\n",
       " '(AI),': 3,\n",
       " 'natural': 4,\n",
       " 'is': 5,\n",
       " 'unlike': 6,\n",
       " 'by': 7,\n",
       " 'machines,': 8,\n",
       " 'displayed': 9,\n",
       " 'animals.': 10,\n",
       " 'and': 11,\n",
       " 'Artificial': 12,\n",
       " 'demonstrated': 13}"
      ]
     },
     "execution_count": 32,
     "metadata": {},
     "output_type": "execute_result"
    }
   ],
   "source": [
    "{j:i for i,j in enumerate(set_text)} "
   ]
  },
  {
   "cell_type": "markdown",
   "id": "e5a6156e",
   "metadata": {},
   "source": [
    "### Zip"
   ]
  },
  {
   "cell_type": "code",
   "execution_count": 33,
   "id": "aaf0d4e7",
   "metadata": {
    "scrolled": true
   },
   "outputs": [
    {
     "name": "stdout",
     "output_type": "stream",
     "text": [
      "a1 b1\n",
      "a2 b2\n",
      "a3 b3\n"
     ]
    }
   ],
   "source": [
    "alist = ['a1', 'a2', 'a3']\n",
    "blist = ['b1', 'b2', 'b3']\n",
    "for a, b in zip(alist, blist): \n",
    "    print (a,b)"
   ]
  },
  {
   "cell_type": "code",
   "execution_count": 35,
   "id": "2e1a06c5",
   "metadata": {
    "scrolled": true
   },
   "outputs": [
    {
     "data": {
      "text/plain": [
       "[['a1', 'b1'], ['a2', 'b2'], ['a3', 'b3']]"
      ]
     },
     "execution_count": 35,
     "metadata": {},
     "output_type": "execute_result"
    }
   ],
   "source": [
    "[[a,b] for a,b in zip(alist,blist)]"
   ]
  },
  {
   "cell_type": "code",
   "execution_count": 36,
   "id": "7c874d31",
   "metadata": {},
   "outputs": [
    {
     "data": {
      "text/plain": [
       "[('a1', 'b1'), ('a2', 'b2'), ('a3', 'b3')]"
      ]
     },
     "execution_count": 36,
     "metadata": {},
     "output_type": "execute_result"
    }
   ],
   "source": [
    "[c for c in zip(alist,blist)]"
   ]
  },
  {
   "cell_type": "code",
   "execution_count": 39,
   "id": "23985a09",
   "metadata": {},
   "outputs": [
    {
     "name": "stdout",
     "output_type": "stream",
     "text": [
      "(1, 10, 100) (2, 20, 200) (3, 30, 300)\n"
     ]
    }
   ],
   "source": [
    "a,b,c =zip((1,2,3),(10,20,30),(100,200,300))\n",
    "print(a,b,c)"
   ]
  },
  {
   "cell_type": "code",
   "execution_count": 37,
   "id": "43f85577",
   "metadata": {},
   "outputs": [
    {
     "data": {
      "text/plain": [
       "[111, 222, 333]"
      ]
     },
     "execution_count": 37,
     "metadata": {},
     "output_type": "execute_result"
    }
   ],
   "source": [
    "[sum(x) for x in zip((1,2,3), (10,20,30), (100,200,300))]"
   ]
  },
  {
   "cell_type": "code",
   "execution_count": 38,
   "id": "bc06d92b",
   "metadata": {},
   "outputs": [
    {
     "data": {
      "text/plain": [
       "[70.0, 76.33333333333333, 76.0]"
      ]
     },
     "execution_count": 38,
     "metadata": {},
     "output_type": "execute_result"
    }
   ],
   "source": [
    "math = (100,90,80)\n",
    "kor = (90,90,60)\n",
    "eng = (20,49,88)\n",
    "\n",
    "[sum(value) / 3 for value in zip(math,kor,eng)]"
   ]
  },
  {
   "cell_type": "code",
   "execution_count": 40,
   "id": "1cedaa35",
   "metadata": {},
   "outputs": [
    {
     "name": "stdout",
     "output_type": "stream",
     "text": [
      "0 a1 b1\n",
      "1 a2 b2\n",
      "2 a3 b3\n"
     ]
    }
   ],
   "source": [
    "## index alist[index] blist[index] 표시\n",
    "\n",
    "alist = ['a1', 'a2', 'a3']\n",
    "blist = ['b1', 'b2', 'b3']\n",
    "\n",
    "for i, (a, b) in enumerate(zip(alist, blist)):\n",
    "    print (i, a, b) "
   ]
  },
  {
   "cell_type": "markdown",
   "id": "3936f1ed",
   "metadata": {},
   "source": [
    "### Lambda\n",
    "Python3 이후(PEP8에서는)에는 권장하지 않음   \n",
    "대신 def statement를 사용하기를 권장"
   ]
  },
  {
   "cell_type": "code",
   "execution_count": 41,
   "id": "49331361",
   "metadata": {},
   "outputs": [
    {
     "name": "stdout",
     "output_type": "stream",
     "text": [
      "5\n"
     ]
    }
   ],
   "source": [
    "def f(x, y):\n",
    "    return x + y\n",
    "print(f(1, 4))"
   ]
  },
  {
   "cell_type": "code",
   "execution_count": 42,
   "id": "e1f5b23c",
   "metadata": {},
   "outputs": [
    {
     "name": "stdout",
     "output_type": "stream",
     "text": [
      "5\n"
     ]
    }
   ],
   "source": [
    "f = lambda x, y: x + y \n",
    "print(f(1, 4))"
   ]
  },
  {
   "cell_type": "code",
   "execution_count": 43,
   "id": "fa99095f",
   "metadata": {},
   "outputs": [
    {
     "data": {
      "text/plain": [
       "5"
      ]
     },
     "execution_count": 43,
     "metadata": {},
     "output_type": "execute_result"
    }
   ],
   "source": [
    "(lambda x,y: x+y)(1,4)"
   ]
  },
  {
   "cell_type": "code",
   "execution_count": 44,
   "id": "a367aa5c",
   "metadata": {},
   "outputs": [
    {
     "data": {
      "text/plain": [
       "'Hello=World'"
      ]
     },
     "execution_count": 44,
     "metadata": {},
     "output_type": "execute_result"
    }
   ],
   "source": [
    "up_low = lambda x: \"=\".join(x.split())\n",
    "up_low(\"Hello World\")"
   ]
  },
  {
   "cell_type": "markdown",
   "id": "6520f043",
   "metadata": {},
   "source": [
    "### Map\n",
    "Python3에서는 권장하지 않는 기법"
   ]
  },
  {
   "cell_type": "code",
   "execution_count": 47,
   "id": "a6b7b30e",
   "metadata": {},
   "outputs": [
    {
     "data": {
      "text/plain": [
       "[1, 4, 9, 16, 25]"
      ]
     },
     "execution_count": 47,
     "metadata": {},
     "output_type": "execute_result"
    }
   ],
   "source": [
    "ex = [1,2,3,4,5]\n",
    "f = lambda x, y: x * y \n",
    "\n",
    "list(map(f, ex, ex))  # list로 변환해주어야 print 가능"
   ]
  },
  {
   "cell_type": "code",
   "execution_count": 51,
   "id": "7c3adb6c",
   "metadata": {},
   "outputs": [
    {
     "data": {
      "text/plain": [
       "[1, 8, 27, 64, 125]"
      ]
     },
     "execution_count": 51,
     "metadata": {},
     "output_type": "execute_result"
    }
   ],
   "source": [
    "ex = [1,2,3,4,5]\n",
    "f = lambda x: x **3\n",
    "\n",
    "result = list(map(f,ex))\n",
    "result"
   ]
  },
  {
   "cell_type": "code",
   "execution_count": 52,
   "id": "7b6f400d",
   "metadata": {},
   "outputs": [
    {
     "data": {
      "text/plain": [
       "[1, 8, 27, 64, 125]"
      ]
     },
     "execution_count": 52,
     "metadata": {},
     "output_type": "execute_result"
    }
   ],
   "source": [
    "## Map 대신 사용하는 방법 - List Comprehension\n",
    "\n",
    "[f(value) for value in ex]"
   ]
  },
  {
   "cell_type": "markdown",
   "id": "2f769193",
   "metadata": {},
   "source": [
    "### Reduce Function\n",
    "Python3에서는 권장하지 않는 기법   \n",
    "but still used in many ML codes"
   ]
  },
  {
   "cell_type": "code",
   "execution_count": 53,
   "id": "6903e495",
   "metadata": {},
   "outputs": [
    {
     "name": "stdout",
     "output_type": "stream",
     "text": [
      "15\n"
     ]
    }
   ],
   "source": [
    "from functools import reduce\n",
    "    \n",
    "print(reduce(lambda x, y: x+y, [1, 2, 3, 4, 5]))"
   ]
  },
  {
   "cell_type": "markdown",
   "id": "099d8ecd",
   "metadata": {},
   "source": [
    "### Iterable Object"
   ]
  },
  {
   "cell_type": "code",
   "execution_count": 55,
   "id": "a6a1f9c8",
   "metadata": {},
   "outputs": [
    {
     "name": "stdout",
     "output_type": "stream",
     "text": [
      "Seoul\tBusan\tPohang\t\n",
      "Python\tC\tJava\t\n",
      "P y t h o n   i s   e a s y "
     ]
    }
   ],
   "source": [
    "for city in [\"Seoul\", \"Busan\", \"Pohang\"]:\n",
    "    print(city, end=\"\\t\")\n",
    "print()\n",
    "for language in (\"Python\", \"C\", \"Java\"):\n",
    "    print(language, end=\"\\t\")\n",
    "print()\n",
    "for char in \"Python is easy\":\n",
    "    print(char, end = \" \")"
   ]
  },
  {
   "cell_type": "code",
   "execution_count": 61,
   "id": "4333d3ff",
   "metadata": {},
   "outputs": [
    {
     "data": {
      "text/plain": [
       "<list_iterator at 0x1199bf850>"
      ]
     },
     "execution_count": 61,
     "metadata": {},
     "output_type": "execute_result"
    }
   ],
   "source": [
    "cities = [\"Seoul\", \"Busan\", \"Jeju\"]\n",
    "iter_obj = iter(cities)\n",
    "iter_obj"
   ]
  },
  {
   "cell_type": "code",
   "execution_count": 62,
   "id": "d7fc0d3c",
   "metadata": {},
   "outputs": [
    {
     "name": "stdout",
     "output_type": "stream",
     "text": [
      "Seoul\n",
      "Busan\n",
      "Jeju\n"
     ]
    }
   ],
   "source": [
    "## 0000 Seoul -> 0001 Busan -> 0002 Jeju\n",
    "\n",
    "print(next(iter_obj))\n",
    "print(next(iter_obj))\n",
    "print(next(iter_obj))"
   ]
  },
  {
   "cell_type": "code",
   "execution_count": 63,
   "id": "61320074",
   "metadata": {},
   "outputs": [
    {
     "ename": "StopIteration",
     "evalue": "",
     "output_type": "error",
     "traceback": [
      "\u001b[0;31m---------------------------------------------------------------------------\u001b[0m",
      "\u001b[0;31mStopIteration\u001b[0m                             Traceback (most recent call last)",
      "\u001b[0;32m/var/folders/dl/6bt7h4k5325dg87xr9p3gyh00000gn/T/ipykernel_53251/3751450000.py\u001b[0m in \u001b[0;36m<module>\u001b[0;34m\u001b[0m\n\u001b[0;32m----> 1\u001b[0;31m \u001b[0mnext\u001b[0m\u001b[0;34m(\u001b[0m\u001b[0miter_obj\u001b[0m\u001b[0;34m)\u001b[0m\u001b[0;34m\u001b[0m\u001b[0;34m\u001b[0m\u001b[0m\n\u001b[0m",
      "\u001b[0;31mStopIteration\u001b[0m: "
     ]
    }
   ],
   "source": [
    "next(iter_obj)  # 더이상 뒤에 데이터가 없기 때문에 오류"
   ]
  },
  {
   "cell_type": "markdown",
   "id": "97314c57",
   "metadata": {},
   "source": [
    "### Generator\n",
    "iterable object를 특수한 형태로 사용해주는 함수   \n",
    "element가 사용되는 시점에 값을 memory에 반환"
   ]
  },
  {
   "cell_type": "code",
   "execution_count": 65,
   "id": "82ea5b0f",
   "metadata": {
    "scrolled": true
   },
   "outputs": [
    {
     "name": "stdout",
     "output_type": "stream",
     "text": [
      "[0, 1, 2, 3, 4, 5, 6, 7, 8, 9, 10, 11, 12, 13, 14, 15, 16, 17, 18, 19, 20, 21, 22, 23, 24, 25, 26, 27, 28, 29, 30, 31, 32, 33, 34, 35, 36, 37, 38, 39, 40, 41, 42, 43, 44, 45, 46, 47, 48, 49]\n"
     ]
    }
   ],
   "source": [
    "def general_list(value):\n",
    "    result = []\n",
    "    for i in range(value):\n",
    "        result.append(i)\n",
    "    return result\n",
    "\n",
    "print(general_list(50))"
   ]
  },
  {
   "cell_type": "code",
   "execution_count": 67,
   "id": "25a50d8c",
   "metadata": {},
   "outputs": [
    {
     "data": {
      "text/plain": [
       "520"
      ]
     },
     "execution_count": 67,
     "metadata": {},
     "output_type": "execute_result"
    }
   ],
   "source": [
    "import sys\n",
    "result = general_list(50)\n",
    "sys.getsizeof(result)  # 520 byte"
   ]
  },
  {
   "cell_type": "code",
   "execution_count": 70,
   "id": "7dadb1e0",
   "metadata": {},
   "outputs": [
    {
     "name": "stdout",
     "output_type": "stream",
     "text": [
      "<generator object generator_list at 0x119a5b890>\n"
     ]
    }
   ],
   "source": [
    "def generator_list(value):\n",
    "    result = []\n",
    "    for i in range(value): \n",
    "        yield i  # 쓰는 시점에 호출 - memory X\n",
    "\n",
    "print(generator_list(50))"
   ]
  },
  {
   "cell_type": "code",
   "execution_count": 72,
   "id": "5849f46c",
   "metadata": {},
   "outputs": [
    {
     "name": "stdout",
     "output_type": "stream",
     "text": [
      "0 1 2 3 4 5 6 7 8 9 10 11 12 13 14 15 16 17 18 19 20 21 22 23 24 25 26 27 28 29 30 31 32 33 34 35 36 37 38 39 40 41 42 43 44 45 46 47 48 49 "
     ]
    }
   ],
   "source": [
    "for item in generator_list(50):\n",
    "    print(item,end=' ')"
   ]
  },
  {
   "cell_type": "code",
   "execution_count": 73,
   "id": "ab46dc88",
   "metadata": {},
   "outputs": [
    {
     "data": {
      "text/plain": [
       "112"
      ]
     },
     "execution_count": 73,
     "metadata": {},
     "output_type": "execute_result"
    }
   ],
   "source": [
    "result = generator_list(50)\n",
    "sys.getsizeof(result)  # efficient"
   ]
  },
  {
   "cell_type": "code",
   "execution_count": 74,
   "id": "bf81ccf0",
   "metadata": {},
   "outputs": [
    {
     "data": {
      "text/plain": [
       "464"
      ]
     },
     "execution_count": 74,
     "metadata": {},
     "output_type": "execute_result"
    }
   ],
   "source": [
    "result = list(generator_list(50))\n",
    "sys.getsizeof(result)"
   ]
  },
  {
   "cell_type": "code",
   "execution_count": 82,
   "id": "44dcb239",
   "metadata": {},
   "outputs": [
    {
     "name": "stdout",
     "output_type": "stream",
     "text": [
      "<class 'generator'>\n"
     ]
    }
   ],
   "source": [
    "## Generator Comprehension\n",
    "\n",
    "gen_ex = (n*n for n in range(15))\n",
    "print(type(gen_ex))"
   ]
  },
  {
   "cell_type": "code",
   "execution_count": 83,
   "id": "9bfc7e89",
   "metadata": {
    "scrolled": true
   },
   "outputs": [
    {
     "name": "stdout",
     "output_type": "stream",
     "text": [
      "[0, 1, 4, 9, 16, 25, 36, 49, 64, 81, 100, 121, 144, 169, 196]\n"
     ]
    }
   ],
   "source": [
    "print(list(gen_ex))"
   ]
  },
  {
   "cell_type": "code",
   "execution_count": 84,
   "id": "87037bc0",
   "metadata": {},
   "outputs": [
    {
     "name": "stdout",
     "output_type": "stream",
     "text": [
      "112\n",
      "4568\n",
      "4264\n"
     ]
    }
   ],
   "source": [
    "## Why Generator\n",
    "## normal iterators use more memories than generator\n",
    "\n",
    "from sys import getsizeof\n",
    "gen_ex = (n*n for n in range(500))\n",
    "print(getsizeof(gen_ex))\n",
    "print(getsizeof(list(gen_ex)))\n",
    "list_ex = [n*n for n in range(500)]\n",
    "print(getsizeof(list_ex))"
   ]
  },
  {
   "cell_type": "markdown",
   "id": "4a461bfe",
   "metadata": {},
   "source": [
    "### Function Passing Arguments\n",
    "keyword arguments / default arguments / variable-length arguments"
   ]
  },
  {
   "cell_type": "code",
   "execution_count": 86,
   "id": "1ec606c6",
   "metadata": {},
   "outputs": [
    {
     "name": "stdout",
     "output_type": "stream",
     "text": [
      "Hello TEAMLAB, My name is Sungchul\n",
      "Hello TEAMLAB, My name is Sungchul\n"
     ]
    }
   ],
   "source": [
    "## Keyword Arguments\n",
    " \n",
    "def print_somthing(my_name, your_name):\n",
    "    print(\"Hello {0}, My name is {1}\".format(your_name, my_name))\n",
    "    \n",
    "print_somthing(\"Sungchul\", \"TEAMLAB\") \n",
    "print_somthing(your_name=\"TEAMLAB\", my_name=\"Sungchul\")"
   ]
  },
  {
   "cell_type": "code",
   "execution_count": 90,
   "id": "79c027a8",
   "metadata": {},
   "outputs": [
    {
     "name": "stdout",
     "output_type": "stream",
     "text": [
      "Hello NAVER, My name is Sungchul\n",
      "Hello TEAMLAB, My name is Sungchul\n"
     ]
    }
   ],
   "source": [
    "## Default Arguments\n",
    "\n",
    "def print_somthing_2(my_name, your_name=\"TEAMLAB\"):\n",
    "    print(\"Hello {0}, My name is {1}\".format(your_name, my_name))\n",
    "    \n",
    "print_somthing_2(\"Sungchul\", \"NAVER\") \n",
    "print_somthing_2(\"Sungchul\")"
   ]
  },
  {
   "cell_type": "markdown",
   "id": "a0a4dc45",
   "metadata": {},
   "source": [
    "### Variable-Length Asterisk\n",
    "가변인자 asterisk"
   ]
  },
  {
   "cell_type": "code",
   "execution_count": 91,
   "id": "5c2d73b6",
   "metadata": {},
   "outputs": [
    {
     "name": "stdout",
     "output_type": "stream",
     "text": [
      "[3, 4, 5]\n",
      "<class 'tuple'>\n",
      "15\n"
     ]
    }
   ],
   "source": [
    "## Varialbe-Length: tuple type\n",
    "\n",
    "def asterisk_test(a, b, *args): \n",
    "    print(list(args))\n",
    "    print(type(args))\n",
    "    return a+b+sum(args)\n",
    "\n",
    "print(asterisk_test(1, 2, 3, 4, 5)) # 1->a, 2->b, 345->*args"
   ]
  },
  {
   "cell_type": "code",
   "execution_count": 92,
   "id": "4ff9d758",
   "metadata": {},
   "outputs": [
    {
     "name": "stdout",
     "output_type": "stream",
     "text": [
      "(3, 4, 5)\n"
     ]
    }
   ],
   "source": [
    "def asterisk_test_2(*args): \n",
    "    x, y, z = args\n",
    "    return x, y, z \n",
    "\n",
    "print(asterisk_test_2(3, 4, 5))"
   ]
  },
  {
   "cell_type": "code",
   "execution_count": 94,
   "id": "ab5b391f",
   "metadata": {},
   "outputs": [
    {
     "name": "stdout",
     "output_type": "stream",
     "text": [
      "{'first': 3, 'second': 4, 'third': 5}\n",
      "<class 'dict'>\n"
     ]
    }
   ],
   "source": [
    "## Keyword Variable-Length: dict type\n",
    "\n",
    "def kwargs_test_1(**kwargs): \n",
    "    print(kwargs)\n",
    "    print(type(kwargs))\n",
    "    \n",
    "kwargs_test_1(first=3, second=4, third=5)"
   ]
  },
  {
   "cell_type": "code",
   "execution_count": 97,
   "id": "30e28bf9",
   "metadata": {},
   "outputs": [
    {
     "name": "stdout",
     "output_type": "stream",
     "text": [
      "{'one': 121212, 'first': 3, 'second': 4, 'third': 5}\n",
      "First value is 3\n",
      "Second value is 4\n",
      "Third value is 5\n"
     ]
    }
   ],
   "source": [
    "def kwargs_test_2(**kwargs): \n",
    "    print(kwargs)\n",
    "    print(\"First value is {first}\".format(**kwargs)) \n",
    "    print(\"Second value is {second}\".format(**kwargs)) \n",
    "    print(\"Third value is {third}\".format(**kwargs))\n",
    "\n",
    "kwargs_test_2(one=121212, first=3, second=4, third=5)"
   ]
  },
  {
   "cell_type": "code",
   "execution_count": 101,
   "id": "4ea3c914",
   "metadata": {},
   "outputs": [
    {
     "name": "stdout",
     "output_type": "stream",
     "text": [
      "42\n",
      "(5, 6, 7, 8, 9)\n",
      "{'first': 3, 'second': 4, 'third': 5}\n"
     ]
    }
   ],
   "source": [
    "def kwargs_test_3(one,two, *args, **kwargs): \n",
    "    print(one+two+sum(args))\n",
    "    print(args)\n",
    "    print(kwargs)\n",
    "    \n",
    "kwargs_test_3(3,4,5,6,7,8,9,first=3, second=4, third=5)"
   ]
  },
  {
   "cell_type": "code",
   "execution_count": 102,
   "id": "44293988",
   "metadata": {},
   "outputs": [
    {
     "name": "stdout",
     "output_type": "stream",
     "text": [
      "3981\n",
      "(5, 6, 7, 8, 9, 1212, 1313, 1414)\n",
      "{'first': 3, 'second': 4, 'third': 5}\n"
     ]
    }
   ],
   "source": [
    "kwargs_test_3(3,4,5,6,7,8,9,1212,1313,1414,first=3, second=4, third=5)"
   ]
  },
  {
   "cell_type": "code",
   "execution_count": 106,
   "id": "122fb58f",
   "metadata": {},
   "outputs": [
    {
     "name": "stdout",
     "output_type": "stream",
     "text": [
      "1 (2, 3, 4, 5, 6)\n",
      "1 2 3 4 5 6\n",
      "<class 'tuple'>\n"
     ]
    }
   ],
   "source": [
    "## Asterisk - *args, **kargs, and 'unpacking a container'\n",
    "\n",
    "def asterisk_test(a, *args): # *에 *이 있기 때문에 unpack 됨\n",
    "    print(a, args)\n",
    "    print(a, *args)\n",
    "    print(type(args))\n",
    "    \n",
    "asterisk_test(1, *(2,3,4,5,6))"
   ]
  },
  {
   "cell_type": "code",
   "execution_count": 104,
   "id": "d8d86775",
   "metadata": {},
   "outputs": [
    {
     "name": "stdout",
     "output_type": "stream",
     "text": [
      "1 2 3 4 5 6\n",
      "<class 'tuple'>\n"
     ]
    }
   ],
   "source": [
    "def asterisk_test(a, args): \n",
    "    print(a, *args)\n",
    "    print(type(args))\n",
    "\n",
    "asterisk_test(1, (2,3,4,5,6))"
   ]
  },
  {
   "cell_type": "code",
   "execution_count": 107,
   "id": "4871d537",
   "metadata": {},
   "outputs": [
    {
     "name": "stdout",
     "output_type": "stream",
     "text": [
      "['1', '2', '3', '4']\n"
     ]
    }
   ],
   "source": [
    "print(['1','2','3','4']) # 1 value"
   ]
  },
  {
   "cell_type": "code",
   "execution_count": 108,
   "id": "30bb8092",
   "metadata": {},
   "outputs": [
    {
     "name": "stdout",
     "output_type": "stream",
     "text": [
      "1 2 3 4\n"
     ]
    }
   ],
   "source": [
    "print(*['1','2','3','4']) # unpack -> 4 value"
   ]
  },
  {
   "cell_type": "code",
   "execution_count": 109,
   "id": "d2676305",
   "metadata": {},
   "outputs": [
    {
     "name": "stdout",
     "output_type": "stream",
     "text": [
      "[1, 2] [3, 4] [5, 6]\n",
      "[1, 2] [3, 4] [5, 6]\n"
     ]
    }
   ],
   "source": [
    "a, b, c = ([1, 2], [3, 4], [5, 6]) \n",
    "print(a, b, c)\n",
    "data = ([1, 2], [3, 4], [5, 6]) \n",
    "print(*data)"
   ]
  },
  {
   "cell_type": "code",
   "execution_count": 110,
   "id": "bac9672a",
   "metadata": {},
   "outputs": [
    {
     "name": "stdout",
     "output_type": "stream",
     "text": [
      "10 1 2 3\n"
     ]
    }
   ],
   "source": [
    "def asterisk_test(a, b, c, d,): \n",
    "    print(a, b, c, d)\n",
    "data = {\"b\":1 , \"c\":2, \"d\":3} \n",
    "asterisk_test(10, **data)"
   ]
  },
  {
   "cell_type": "code",
   "execution_count": 112,
   "id": "62f2f2be",
   "metadata": {
    "scrolled": true
   },
   "outputs": [
    {
     "name": "stdout",
     "output_type": "stream",
     "text": [
      "(1, 3, 5)\n",
      "9\n",
      "(2, 4, 6)\n",
      "12\n"
     ]
    }
   ],
   "source": [
    "for data in zip(*([1, 2], [3, 4], [5, 6])):\n",
    "    print(data)\n",
    "    print(sum(data))"
   ]
  }
 ],
 "metadata": {
  "kernelspec": {
   "display_name": "Python 3 (ipykernel)",
   "language": "python",
   "name": "python3"
  },
  "language_info": {
   "codemirror_mode": {
    "name": "ipython",
    "version": 3
   },
   "file_extension": ".py",
   "mimetype": "text/x-python",
   "name": "python",
   "nbconvert_exporter": "python",
   "pygments_lexer": "ipython3",
   "version": "3.8.11"
  }
 },
 "nbformat": 4,
 "nbformat_minor": 5
}
