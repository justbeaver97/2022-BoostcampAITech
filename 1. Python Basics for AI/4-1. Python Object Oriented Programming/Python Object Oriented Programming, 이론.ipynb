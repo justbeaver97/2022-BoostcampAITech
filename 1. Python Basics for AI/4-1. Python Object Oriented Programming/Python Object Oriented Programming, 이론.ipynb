{
 "cells": [
  {
   "cell_type": "code",
   "execution_count": 42,
   "id": "beeeb0ab",
   "metadata": {},
   "outputs": [],
   "source": [
    "#class 선언하기\n",
    "\n",
    "#class 선언, object는 python3에서 자동 상속\n",
    "class SoccerPlayer(object):\n",
    "    def __init__ (self, name:str, position:str, back_number:int):  #__init__: 객체를 초기화\n",
    "        self.name = name\n",
    "        self.position = position\n",
    "        self.back_number = back_number\n",
    "        \n",
    "    def __str__(self):  #print문을 쓰게 되면 아래의 줄이 출력\n",
    "        return \"Hello, My name is %s. I play in %s in center. My back number is %d\" % \\\n",
    "                (self.name, self.position, self.back_number)\n",
    "    \n",
    "    def __add__(self, other):\n",
    "        return self.name + other.name\n",
    "    \n",
    "    def change_back_number(self, new_number):\n",
    "        print(\"선수의 등번호를 변경합니다: From %d to %d\" %(self.back_number, new_number))\n",
    "        self.back_number = new_number\n",
    "        \n",
    "#self? : 생성된 instance 자신 "
   ]
  },
  {
   "cell_type": "code",
   "execution_count": 43,
   "id": "698500eb",
   "metadata": {},
   "outputs": [],
   "source": [
    "#object 만들기\n",
    "aaa = SoccerPlayer(\"son\", \"FW\", 7)\n",
    "bbb = SoccerPlayer(\"park\", \"MF\", 13)"
   ]
  },
  {
   "cell_type": "code",
   "execution_count": 44,
   "id": "627d5af1",
   "metadata": {},
   "outputs": [
    {
     "data": {
      "text/plain": [
       "False"
      ]
     },
     "execution_count": 44,
     "metadata": {},
     "output_type": "execute_result"
    }
   ],
   "source": [
    "aaa is bbb"
   ]
  },
  {
   "cell_type": "markdown",
   "id": "d2dac95d",
   "metadata": {},
   "source": [
    "#  __은 무슨 의미일까?\n",
    "#     __는 특수한 예약 함수나 변수, 그리고 함수명 변경(Mangling)으로 사용\n",
    "#     ex) __main__, __add__, __str__, __eq__"
   ]
  },
  {
   "cell_type": "code",
   "execution_count": 46,
   "id": "088fd3d3",
   "metadata": {},
   "outputs": [
    {
     "name": "stdout",
     "output_type": "stream",
     "text": [
      "Hello, My name is son. I play in FW in center. My back number is 7\n"
     ]
    }
   ],
   "source": [
    "#__str__ 없는 경우 object가 있는 메모리 주소 출력\n",
    "print(aaa)"
   ]
  },
  {
   "cell_type": "code",
   "execution_count": 47,
   "id": "eacb5193",
   "metadata": {},
   "outputs": [
    {
     "name": "stdout",
     "output_type": "stream",
     "text": [
      "Hello, My name is son. I play in FW in center. My back number is 7\n"
     ]
    }
   ],
   "source": [
    "#__str__ 있는 경우 문장 출력\n",
    "print(aaa)"
   ]
  },
  {
   "cell_type": "code",
   "execution_count": 48,
   "id": "fab5f5c1",
   "metadata": {},
   "outputs": [
    {
     "data": {
      "text/plain": [
       "'sonpark'"
      ]
     },
     "execution_count": 48,
     "metadata": {},
     "output_type": "execute_result"
    }
   ],
   "source": [
    "#__add__\n",
    "aaa + bbb"
   ]
  },
  {
   "cell_type": "code",
   "execution_count": 49,
   "id": "5a8245cd",
   "metadata": {},
   "outputs": [
    {
     "name": "stdout",
     "output_type": "stream",
     "text": [
      "현재 선수의 등번호는:  109\n",
      "선수의 등번호를 변경합니다: From 109 to 10\n",
      "현재 선수의 등번호는:  10\n"
     ]
    }
   ],
   "source": [
    "#외부에서 object가 가지고 있는 attribute를 직접 변경해주는 방법\n",
    "jinhyun = SoccerPlayer(\"jy\",\"GK\",109)\n",
    "print(\"현재 선수의 등번호는: \",jinhyun.back_number)\n",
    "jinhyun.change_back_number(10)\n",
    "print(\"현재 선수의 등번호는: \",jinhyun.back_number)"
   ]
  },
  {
   "cell_type": "code",
   "execution_count": null,
   "id": "78839725",
   "metadata": {},
   "outputs": [],
   "source": []
  },
  {
   "cell_type": "code",
   "execution_count": 50,
   "id": "594aa3c9",
   "metadata": {},
   "outputs": [],
   "source": [
    "#inheritance\n",
    "\n",
    "class Person(object):\n",
    "    def __init__(self, name, age):\n",
    "        self.name = name\n",
    "        self.age = age\n",
    "        \n",
    "    def __str__(self):\n",
    "        return \"저의 이름은 {0} 입니다. 나이는 {1} 입니다\".format(self.name, self.age)"
   ]
  },
  {
   "cell_type": "code",
   "execution_count": 51,
   "id": "c2049cef",
   "metadata": {},
   "outputs": [],
   "source": [
    "class Korean(Person):\n",
    "    pass"
   ]
  },
  {
   "cell_type": "code",
   "execution_count": 53,
   "id": "9cd53a50",
   "metadata": {},
   "outputs": [
    {
     "name": "stdout",
     "output_type": "stream",
     "text": [
      "저의 이름은 Sungchul 입니다. 나이는 35 입니다\n"
     ]
    }
   ],
   "source": [
    "first_korean = Korean(\"Sungchul\", 35)\n",
    "print(first_korean)"
   ]
  },
  {
   "cell_type": "code",
   "execution_count": null,
   "id": "51e7cab2",
   "metadata": {},
   "outputs": [],
   "source": []
  },
  {
   "cell_type": "code",
   "execution_count": 55,
   "id": "05d6d9da",
   "metadata": {},
   "outputs": [],
   "source": [
    "#polymorphism(다형성)\n",
    "\n",
    "class Animal:\n",
    "    def __init__(self, name):\n",
    "        self.name = name\n",
    "        \n",
    "    def talk(self):\n",
    "        raise NotImplementedError(\"Subclass must implement abstract method\")"
   ]
  },
  {
   "cell_type": "code",
   "execution_count": 56,
   "id": "64bdf76d",
   "metadata": {},
   "outputs": [],
   "source": [
    "class Cat(Animal):\n",
    "    def talk(self):\n",
    "        return \"Meow!\""
   ]
  },
  {
   "cell_type": "code",
   "execution_count": 57,
   "id": "a5d9b618",
   "metadata": {},
   "outputs": [],
   "source": [
    "class Dog(Animal):\n",
    "    def talk(self):\n",
    "        return \"Woof!\""
   ]
  },
  {
   "cell_type": "code",
   "execution_count": 58,
   "id": "8113a40a",
   "metadata": {},
   "outputs": [
    {
     "name": "stdout",
     "output_type": "stream",
     "text": [
      "Missy: Meow!\n",
      "Lassie: Woof!\n"
     ]
    }
   ],
   "source": [
    "animals = [Cat('Missy'),Dog(\"Lassie\")]\n",
    "\n",
    "for animal in animals:\n",
    "    print(animal.name + ': ' + animal.talk())"
   ]
  },
  {
   "cell_type": "code",
   "execution_count": null,
   "id": "b0dcf5fd",
   "metadata": {},
   "outputs": [],
   "source": []
  },
  {
   "cell_type": "markdown",
   "id": "712d0a2a",
   "metadata": {},
   "source": [
    "# Visibility: 누구나 객체 안의 모든 변수를 볼 필요가 없음\n",
    "# => Encapsulation\n",
    "\n",
    "# ex\n",
    "# Product 객체럴 Inventory 객체에 추가\n",
    "# Inventory에는 오직 Product 객체만 들어감\n",
    "# Inventory에 Product가 몇 개인지 확인이 필요\n",
    "# Inventory에 Product items는 직접 접근이 불가"
   ]
  },
  {
   "cell_type": "code",
   "execution_count": 59,
   "id": "d4d2403c",
   "metadata": {},
   "outputs": [],
   "source": [
    "class Product(object):\n",
    "    pass"
   ]
  },
  {
   "cell_type": "code",
   "execution_count": 65,
   "id": "87f556e7",
   "metadata": {},
   "outputs": [],
   "source": [
    "class Inventory(object):\n",
    "    def __init__(self):\n",
    "        self.__items = []  #private varible - 타 객체가 접근 X\n",
    "    \n",
    "    def add_new_item(self, product):\n",
    "        if type(product) == Product:\n",
    "            self.__items.append(product)\n",
    "            print(\"new item added\")\n",
    "        else:\n",
    "            raise ValueError(\"Invalid Item\")\n",
    "            \n",
    "    def get_number_of_items(self):\n",
    "        return len(self.__items)\n",
    "    \n",
    "    @property   #property decorator - 숨겨진 변수를 반환해줌\n",
    "    def items(self):\n",
    "        return self.__items"
   ]
  },
  {
   "cell_type": "code",
   "execution_count": 68,
   "id": "b60e7c5e",
   "metadata": {},
   "outputs": [
    {
     "name": "stdout",
     "output_type": "stream",
     "text": [
      "new item added\n",
      "new item added\n",
      "2\n",
      "3\n"
     ]
    }
   ],
   "source": [
    "my_inventory = Inventory()\n",
    "my_inventory.add_new_item(Product())\n",
    "my_inventory.add_new_item(Product())\n",
    "print(my_inventory.get_number_of_items())\n",
    "\n",
    "# print(my_inventory.__items) \n",
    "# my_inventory.add_new_item(object)\n",
    "\n",
    "items = my_inventory.items   #property decorator로 함수를 변수처럼 호출\n",
    "items.append(Product())\n",
    "print(my_inventory.get_number_of_items())"
   ]
  },
  {
   "cell_type": "code",
   "execution_count": null,
   "id": "0cf6e533",
   "metadata": {},
   "outputs": [],
   "source": []
  },
  {
   "cell_type": "markdown",
   "id": "6f172745",
   "metadata": {},
   "source": [
    "# decorate\n",
    "\n",
    "1.first-class object:\n",
    "    일등함수 또는 일급 객체\n",
    "    변수나 데이터 구조에 할당이 가능한 객체\n",
    "    parameter로 전달이 가능 + return 값으로 사용\n",
    "    => 파이썬의 함수는 일급함수\n",
    "    \n",
    "    def applyOne(f):\n",
    "        return f(1)\n",
    "    def triptle(x):\n",
    "        return x*3\n",
    "    result = applyOne(triple) #result = 3\n",
    "    => 함수를 parameter로 사용\n",
    "\n",
    "2.inner function:\n",
    "    함수 내에 또 다른 함수가 존재\n",
    "    \n",
    "    def print_msg(msg):\n",
    "        def printer():\n",
    "            print(msg)\n",
    "        printer()\n",
    "    print_msg(\"Hello, Python\")\n",
    "    \n",
    "    - closure: inner function을 return값으로 반환\n",
    "    def print_msg(msg):\n",
    "        def printer():\n",
    "            print(msg)\n",
    "        return printer\n",
    "    another = print_msg(\"Hello, Python\")\n",
    "    another()\n",
    "\n",
    "3.decorator:\n",
    "    복잡한 closure function을 간단하게"
   ]
  },
  {
   "cell_type": "code",
   "execution_count": 76,
   "id": "c416f3f2",
   "metadata": {},
   "outputs": [
    {
     "name": "stdout",
     "output_type": "stream",
     "text": [
      "AAAAAAAAAAAAAAAAAAAAAAAAAAAAAA\n",
      "%%%%%%%%%%%%%%%%%%%%%%%%%%%%%%\n",
      "Hello\n",
      "%%%%%%%%%%%%%%%%%%%%%%%%%%%%%%\n",
      "AAAAAAAAAAAAAAAAAAAAAAAAAAAAAA\n"
     ]
    }
   ],
   "source": [
    "#ex1\n",
    "def deco(func):\n",
    "    def inner(*args, **kwargs):\n",
    "        print(args[1]*30)\n",
    "        func(*args, **kwargs)\n",
    "        print(args[1]*30)\n",
    "    return inner\n",
    "\n",
    "def percent(func):\n",
    "    def inner(*args, **kwargs):\n",
    "        print(\"%\"*30)\n",
    "        func(*args, **kwargs)\n",
    "        print(\"%\"*30)\n",
    "    return inner\n",
    "\n",
    "@deco\n",
    "@percent\n",
    "def printer(msg,mark):\n",
    "    print(msg)\n",
    "printer(\"Hello\",\"A\")"
   ]
  },
  {
   "cell_type": "code",
   "execution_count": 79,
   "id": "5b88e57d",
   "metadata": {},
   "outputs": [
    {
     "name": "stdout",
     "output_type": "stream",
     "text": [
      "562949953421312\n"
     ]
    }
   ],
   "source": [
    "#ex2\n",
    "def generate_power(exponent):\n",
    "    def wrapper(f):\n",
    "        def inner(*args):\n",
    "            result = f(*args)\n",
    "            return exponent**result\n",
    "        return inner\n",
    "    return wrapper\n",
    "\n",
    "@generate_power(2)\n",
    "def raise_two(n):\n",
    "    return n**2\n",
    "\n",
    "print(raise_two(7))"
   ]
  }
 ],
 "metadata": {
  "kernelspec": {
   "display_name": "Python 3",
   "language": "python",
   "name": "python3"
  },
  "language_info": {
   "codemirror_mode": {
    "name": "ipython",
    "version": 3
   },
   "file_extension": ".py",
   "mimetype": "text/x-python",
   "name": "python",
   "nbconvert_exporter": "python",
   "pygments_lexer": "ipython3",
   "version": "3.8.8"
  }
 },
 "nbformat": 4,
 "nbformat_minor": 5
}
