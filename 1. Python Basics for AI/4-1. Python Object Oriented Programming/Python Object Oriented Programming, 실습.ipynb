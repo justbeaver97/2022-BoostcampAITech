{
 "cells": [
  {
   "cell_type": "code",
   "execution_count": 3,
   "id": "720932f9",
   "metadata": {},
   "outputs": [],
   "source": [
    "# 구현 가능한 OOP 만들기 - 노트북\n",
    "#     Note를 정리하는 프로그램\n",
    "#     사용자는 Note에 뭔가 적을 수 있다\n",
    "#     Note에는 content가 있고, 내용을 제거할 수 있다\n",
    "#     두 개의 노트북을 합쳐 하나로 만들 수 있다(notebook + notebook = new notebook)\n",
    "#     Note는 Notebook에 삽입된다.\n",
    "#     Notebook은 Note가 삽입 될 때 페이지를 생성하며, 최고 300페이지 까지 저장 가능하다.\n",
    "#     300 페이지가 넘으면 더 이상 노트를 삽입하지 못한다\n"
   ]
  },
  {
   "cell_type": "code",
   "execution_count": 4,
   "id": "45c89a31",
   "metadata": {},
   "outputs": [],
   "source": [
    "# 내 생각\n",
    "\n",
    "# Notebook\n",
    "# method:\n",
    "#     insert\n",
    "# attribute:\n",
    "#     note, 300\n",
    "    \n",
    "# Note\n",
    "# method:\n",
    "#     write, remove\n",
    "# attribute:\n",
    "#     content"
   ]
  },
  {
   "cell_type": "code",
   "execution_count": 5,
   "id": "95e121f1",
   "metadata": {},
   "outputs": [],
   "source": [
    "# 정답\n",
    "\n",
    "# Notebook\n",
    "# method:\n",
    "#     add_note, remove_note, get_number_of_pages\n",
    "# attribute:\n",
    "#     title, page_number, notes\n",
    "    \n",
    "# Note\n",
    "# method:\n",
    "#     write_content, remove_all\n",
    "# attribute:\n",
    "#     content"
   ]
  },
  {
   "cell_type": "code",
   "execution_count": 6,
   "id": "24cfe6d8",
   "metadata": {},
   "outputs": [],
   "source": [
    "class Note(object):\n",
    "    def __init__(self, content = None):\n",
    "        self.content = content\n",
    "        \n",
    "    def write_content(self, content):\n",
    "        self.content = content\n",
    "        \n",
    "    def remove_all(self):\n",
    "        self.content = \"\"\n",
    "        \n",
    "    def __add__(self, other):\n",
    "        return self.content + other.content\n",
    "    \n",
    "    def __str__(self):\n",
    "        return self.content"
   ]
  },
  {
   "cell_type": "code",
   "execution_count": 7,
   "id": "0d0c38fe",
   "metadata": {},
   "outputs": [],
   "source": [
    "class NoteBook(object):\n",
    "    def __init__(self,title):\n",
    "        self.title = title\n",
    "        self.page_number = 1\n",
    "        self.notes = {}\n",
    "    \n",
    "    def add_note(self, note, page = 0):\n",
    "        if self.page_number < 300:\n",
    "            if page == 0:\n",
    "                self.notes[self.page_number] = note\n",
    "                self.page_number += 1\n",
    "            else:\n",
    "                self.notes = {page : note}\n",
    "                self.page_number += 1\n",
    "        else:\n",
    "            print(\"Page가 모두 채워졌습니다.\")\n",
    "    \n",
    "    def remove_note(self, page_number):\n",
    "        if page_number in self.notes.keys():\n",
    "            return self.notes.pop(page_number)\n",
    "        else:\n",
    "            print(\"해당 페이지는 존재하지 않습니다.\")\n",
    "    \n",
    "    def get_number_of_pages(self):\n",
    "        return len(self.notes.keys())"
   ]
  },
  {
   "cell_type": "code",
   "execution_count": 8,
   "id": "d0abdbd4",
   "metadata": {},
   "outputs": [
    {
     "data": {
      "text/plain": [
       "<__main__.NoteBook at 0x7fba08ebe8e0>"
      ]
     },
     "execution_count": 8,
     "metadata": {},
     "output_type": "execute_result"
    }
   ],
   "source": [
    "my_notebook = NoteBook(\"notebook\")\n",
    "my_notebook"
   ]
  },
  {
   "cell_type": "code",
   "execution_count": 9,
   "id": "5ac1c7cf",
   "metadata": {},
   "outputs": [
    {
     "data": {
      "text/plain": [
       "'notebook'"
      ]
     },
     "execution_count": 9,
     "metadata": {},
     "output_type": "execute_result"
    }
   ],
   "source": [
    "my_notebook.title"
   ]
  },
  {
   "cell_type": "code",
   "execution_count": 10,
   "id": "0d80400c",
   "metadata": {},
   "outputs": [
    {
     "name": "stdout",
     "output_type": "stream",
     "text": [
      "don't want class\n"
     ]
    }
   ],
   "source": [
    "new_note = Note(\"don't want class\")\n",
    "print(new_note)"
   ]
  },
  {
   "cell_type": "code",
   "execution_count": 11,
   "id": "939a39ae",
   "metadata": {},
   "outputs": [
    {
     "name": "stdout",
     "output_type": "stream",
     "text": [
      "python\n"
     ]
    }
   ],
   "source": [
    "new_note2 = Note(\"python\")\n",
    "print(new_note2)"
   ]
  },
  {
   "cell_type": "code",
   "execution_count": 31,
   "id": "0543d8ac",
   "metadata": {},
   "outputs": [],
   "source": [
    "my_notebook.add_note(new_note)\n",
    "my_notebook.add_note(new_note2,100)"
   ]
  },
  {
   "cell_type": "code",
   "execution_count": 33,
   "id": "d13b98e8",
   "metadata": {},
   "outputs": [
    {
     "name": "stdout",
     "output_type": "stream",
     "text": [
      "python\n"
     ]
    }
   ],
   "source": [
    "print(my_notebook.notes[100])"
   ]
  },
  {
   "cell_type": "code",
   "execution_count": 28,
   "id": "32a6ca15",
   "metadata": {},
   "outputs": [
    {
     "data": {
      "text/plain": [
       "5"
      ]
     },
     "execution_count": 28,
     "metadata": {},
     "output_type": "execute_result"
    }
   ],
   "source": [
    "my_notebook.get_number_of_pages()"
   ]
  }
 ],
 "metadata": {
  "kernelspec": {
   "display_name": "Python 3",
   "language": "python",
   "name": "python3"
  },
  "language_info": {
   "codemirror_mode": {
    "name": "ipython",
    "version": 3
   },
   "file_extension": ".py",
   "mimetype": "text/x-python",
   "name": "python",
   "nbconvert_exporter": "python",
   "pygments_lexer": "ipython3",
   "version": "3.8.8"
  }
 },
 "nbformat": 4,
 "nbformat_minor": 5
}
