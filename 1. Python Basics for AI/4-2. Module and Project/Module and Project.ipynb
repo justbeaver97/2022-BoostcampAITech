{
 "cells": [
  {
   "cell_type": "code",
   "execution_count": 2,
   "id": "42f030e7",
   "metadata": {},
   "outputs": [
    {
     "data": {
      "text/plain": [
       "108.68"
      ]
     },
     "execution_count": 2,
     "metadata": {},
     "output_type": "execute_result"
    }
   ],
   "source": [
    "import fah_converter\n",
    "fah_converter.convert_c_to_f(42.6)"
   ]
  },
  {
   "cell_type": "code",
   "execution_count": 1,
   "id": "00bdd441",
   "metadata": {},
   "outputs": [
    {
     "name": "stdout",
     "output_type": "stream",
     "text": [
      "65\n"
     ]
    }
   ],
   "source": [
    "import random\n",
    "print(random.randint(1,100))"
   ]
  },
  {
   "cell_type": "code",
   "execution_count": 1,
   "id": "2d3098d1",
   "metadata": {},
   "outputs": [
    {
     "name": "stdout",
     "output_type": "stream",
     "text": [
      "time.struct_time(tm_year=2021, tm_mon=11, tm_mday=25, tm_hour=23, tm_min=46, tm_sec=1, tm_wday=3, tm_yday=329, tm_isdst=0)\n"
     ]
    }
   ],
   "source": [
    "import time\n",
    "print(time.localtime())"
   ]
  },
  {
   "cell_type": "code",
   "execution_count": null,
   "id": "1959e146",
   "metadata": {},
   "outputs": [],
   "source": [
    "import urllib.request\n",
    "response = urllib.request.urlopen(\"http://naver.com\")\n",
    "print(response.read())"
   ]
  },
  {
   "cell_type": "code",
   "execution_count": 1,
   "id": "25f4c6c0",
   "metadata": {},
   "outputs": [
    {
     "data": {
      "image/png": "[encoded data removed]",
      "text/plain": [
       "<Figure size 432x288 with 1 Axes>"
      ]
     },
     "metadata": {
      "needs_background": "light"
     },
     "output_type": "display_data"
    }
   ],
   "source": [
    "import matplotlib.pyplot as plt\n",
    "plt.plot([1,2,3,4])\n",
    "plt.ylabel('num')\n",
    "plt.show()"
   ]
  },
  {
   "cell_type": "code",
   "execution_count": 2,
   "id": "68da7afb",
   "metadata": {},
   "outputs": [
    {
     "name": "stderr",
     "output_type": "stream",
     "text": [
      "100%|██████████| 100000/100000 [01:40<00:00, 991.46it/s]\n"
     ]
    }
   ],
   "source": [
    "from tqdm import tqdm\n",
    "import time\n",
    "\n",
    "for i in tqdm(range(100000)):\n",
    "    if i % 1000 == 0:\n",
    "        time.sleep(1)"
   ]
  },
  {
   "cell_type": "code",
   "execution_count": null,
   "id": "5a032559",
   "metadata": {},
   "outputs": [],
   "source": [
    "from tqdm import tqdm\n",
    "import time\n",
    "\n",
    "for i in tqdm(range(100000)):\n",
    "    if i % 1000 == 0:\n",
    "        time.sleep(1)"
   ]
  }
 ],
 "metadata": {
  "kernelspec": {
   "display_name": "Python 3",
   "language": "python",
   "name": "python3"
  },
  "language_info": {
   "codemirror_mode": {
    "name": "ipython",
    "version": 3
   },
   "file_extension": ".py",
   "mimetype": "text/x-python",
   "name": "python",
   "nbconvert_exporter": "python",
   "pygments_lexer": "ipython3",
   "version": "3.8.2"
  }
 },
 "nbformat": 4,
 "nbformat_minor": 5
}
