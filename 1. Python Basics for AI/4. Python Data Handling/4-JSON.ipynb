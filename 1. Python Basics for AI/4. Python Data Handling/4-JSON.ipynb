{
 "cells": [
  {
   "cell_type": "markdown",
   "metadata": {},
   "source": [
    "# JSON: JavaScript Object Notation"
   ]
  },
  {
   "cell_type": "code",
   "execution_count": 1,
   "metadata": {},
   "outputs": [],
   "source": [
    "import json"
   ]
  },
  {
   "cell_type": "code",
   "execution_count": 3,
   "metadata": {},
   "outputs": [
    {
     "name": "stdout",
     "output_type": "stream",
     "text": [
      "[{'firstname': 'John', 'lastname': 'Doe'}, {'firstname': 'Yehyun', 'lastname': 'Suh'}, {'firstname': 'Elizabeth', 'lastname': 'Kim'}]\n",
      "<class 'dict'>\n"
     ]
    }
   ],
   "source": [
    "#read json file\n",
    "\n",
    "with open(\"input_file/json_example.json\",\"r\",encoding=\"utf8\") as f:\n",
    "    contents = f.read() #read json file\n",
    "    json_data = json.loads(contents)\n",
    "    print(json_data[\"employees\"])\n",
    "print(type(json_data))  #dict type임을 알 수 있다"
   ]
  },
  {
   "cell_type": "code",
   "execution_count": 5,
   "metadata": {},
   "outputs": [],
   "source": [
    "#write json file\n",
    "\n",
    "dict_data = {'Name':\"Zara\", \"Age\":7, \"Class\":\"First\"}\n",
    "\n",
    "with open(\"output_file/data.json\",\"w\") as f:\n",
    "    json.dump(dict_data, f) #write json file"
   ]
  },
  {
   "cell_type": "code",
   "execution_count": null,
   "metadata": {},
   "outputs": [],
   "source": []
  }
 ],
 "metadata": {
  "interpreter": {
   "hash": "31f2aee4e71d21fbe5cf8b01ff0e069b9275f58929596ceb00d14d90e3e16cd6"
  },
  "kernelspec": {
   "display_name": "Python 3.8.2 64-bit",
   "language": "python",
   "name": "python3"
  },
  "language_info": {
   "codemirror_mode": {
    "name": "ipython",
    "version": 3
   },
   "file_extension": ".py",
   "mimetype": "text/x-python",
   "name": "python",
   "nbconvert_exporter": "python",
   "pygments_lexer": "ipython3",
   "version": "3.8.2"
  },
  "orig_nbformat": 4
 },
 "nbformat": 4,
 "nbformat_minor": 2
}
