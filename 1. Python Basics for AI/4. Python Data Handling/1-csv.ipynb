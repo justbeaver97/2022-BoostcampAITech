{
 "cells": [
  {
   "cell_type": "markdown",
   "metadata": {},
   "source": [
    "# CSV: Comma Seperated Value"
   ]
  },
  {
   "cell_type": "code",
   "execution_count": 13,
   "metadata": {},
   "outputs": [
    {
     "name": "stdout",
     "output_type": "stream",
     "text": [
      "Header: \t ['customerNumber', 'customerName', 'contactLastName', 'contactFirstName', 'phone', 'addressLine1', 'addressLine2', 'city', 'state', 'postalCode', 'country', 'salesRepEmployeeNumber', 'creditLimit\\n']\n",
      "Data: 1 :\t\t ['112', '\"Signal Gift Stores\"', 'King', 'Jean', '7025551838', '\"8489 Strong St.\"', 'NULL', '\"Las Vegas\"', 'NV', '83030', 'USA', '1166', '71800\\n']\n",
      "Data: 2 :\t\t ['114', '\"Australian Collectors', ' Co.\"', 'Ferguson', 'Peter', '\"03 9520 4555\"', '\"636 St Kilda Road\"', '\"Level 3\"', 'Melbourne', 'Victoria', '3004', 'Australia', '1611', '117300\\n']\n",
      "Data: 3 :\t\t ['119', '\"La Rochelle Gifts\"', 'Labrune', '\"Janine \"', '40.67.8555', '\"67', ' rue des Cinquante Otages\"', 'NULL', 'Nantes', 'NULL', '44000', 'France', '1370', '118200\\n']\n",
      "Data: 4 :\t\t ['121', '\"Baane Mini Imports\"', 'Bergulfsen', '\"Jonas \"', '\"07-98 9555\"', '\"Erling Skakkes gate 78\"', 'NULL', 'Stavern', 'NULL', '4110', 'Norway', '1504', '81700\\n']\n",
      "Data: 5 :\t\t ['124', '\"Mini Gifts Distributors Ltd.\"', 'Nelson', 'Susan', '4155551450', '\"5677 Strong St.\"', 'NULL', '\"San Rafael\"', 'CA', '97562', 'USA', '1165', '210500\\n']\n",
      "Data: 6 :\t\t ['125', '\"Havel & Zbyszek Co\"', 'Piestrzeniewicz', '\"Zbyszek \"', '\"(26) 642-7555\"', '\"ul. Filtrowa 68\"', 'NULL', 'Warszawa', 'NULL', '01-012', 'Poland', 'NULL', '0\\n']\n",
      "Data: 7 :\t\t ['128', '\"Blauer See Auto', ' Co.\"', 'Keitel', 'Roland', '\"+49 69 66 90 2555\"', '\"Lyonerstr. 34\"', 'NULL', 'Frankfurt', 'NULL', '60528', 'Germany', '1504', '59700\\n']\n",
      "Data: 8 :\t\t ['129', '\"Mini Wheels Co.\"', 'Murphy', 'Julie', '6505555787', '\"5557 North Pendale Street\"', 'NULL', '\"San Francisco\"', 'CA', '94217', 'USA', '1165', '64600\\n']\n",
      "Data: 9 :\t\t ['131', '\"Land of Toys Inc.\"', 'Lee', 'Kwai', '2125557818', '\"897 Long Airport Avenue\"', 'NULL', 'NYC', 'NY', '10022', 'USA', '1323', '114900\\n']\n",
      "122\n"
     ]
    }
   ],
   "source": [
    "# Read CSV File\n",
    "\n",
    "line_counter = 0\n",
    "data_header = []\n",
    "customer_list = []\n",
    "\n",
    "with open(\"input_file/customers.csv\") as customer_data:\n",
    "    while True:\n",
    "        data = customer_data.readline()\n",
    "        if not data:\n",
    "            break\n",
    "        if line_counter == 0:\n",
    "            data_header = data.split(\",\")\n",
    "        else:\n",
    "            customer_list.append(data.split(\",\"))\n",
    "        line_counter += 1\n",
    "\n",
    "print(\"Header: \\t\",data_header)\n",
    "\n",
    "for i in range(1,10):\n",
    "    print(\"Data:\",i,\":\\t\\t\",customer_list[i])\n",
    "print(len(customer_list))"
   ]
  },
  {
   "cell_type": "code",
   "execution_count": 14,
   "metadata": {},
   "outputs": [
    {
     "name": "stdout",
     "output_type": "stream",
     "text": [
      "Header: \t ['customerNumber', 'customerName', 'contactLastName', 'contactFirstName', 'phone', 'addressLine1', 'addressLine2', 'city', 'state', 'postalCode', 'country', 'salesRepEmployeeNumber', 'creditLimit\\n']\n",
      "Data: 1 :\t\t ['124', '\"Mini Gifts Distributors Ltd.\"', 'Nelson', 'Susan', '4155551450', '\"5677 Strong St.\"', 'NULL', '\"San Rafael\"', 'CA', '97562', 'USA', '1165', '210500\\n']\n",
      "Data: 2 :\t\t ['129', '\"Mini Wheels Co.\"', 'Murphy', 'Julie', '6505555787', '\"5557 North Pendale Street\"', 'NULL', '\"San Francisco\"', 'CA', '94217', 'USA', '1165', '64600\\n']\n",
      "Data: 3 :\t\t ['131', '\"Land of Toys Inc.\"', 'Lee', 'Kwai', '2125557818', '\"897 Long Airport Avenue\"', 'NULL', 'NYC', 'NY', '10022', 'USA', '1323', '114900\\n']\n",
      "Data: 4 :\t\t ['151', '\"Muscle Machine Inc\"', 'Young', 'Jeff', '2125557413', '\"4092 Furth Circle\"', '\"Suite 400\"', 'NYC', 'NY', '10022', 'USA', '1286', '138500\\n']\n",
      "Data: 5 :\t\t ['157', '\"Diecast Classics Inc.\"', 'Leong', 'Kelvin', '2155551555', '\"7586 Pompton St.\"', 'NULL', 'Allentown', 'PA', '70267', 'USA', '1216', '100600\\n']\n",
      "Data: 6 :\t\t ['161', '\"Technics Stores Inc.\"', 'Hashimoto', 'Juri', '6505556809', '\"9408 Furth Circle\"', 'NULL', 'Burlingame', 'CA', '94217', 'USA', '1165', '84600\\n']\n",
      "Data: 7 :\t\t ['168', '\"American Souvenirs Inc\"', 'Franco', 'Keith', '2035557845', '\"149 Spinnaker Dr.\"', '\"Suite 101\"', '\"New Haven\"', 'CT', '97823', 'USA', '1286', '0\\n']\n",
      "Data: 8 :\t\t ['173', '\"Cambridge Collectables Co.\"', 'Tseng', 'Jerry', '6175555555', '\"4658 Baden Av.\"', 'NULL', 'Cambridge', 'MA', '51247', 'USA', '1188', '43400\\n']\n",
      "Data: 9 :\t\t ['175', '\"Gift Depot Inc.\"', 'King', 'Julie', '2035552570', '\"25593 South Bay Ln.\"', 'NULL', 'Bridgewater', 'CT', '97562', 'USA', '1323', '84300\\n']\n",
      "34\n"
     ]
    }
   ],
   "source": [
    "# Write CSV File\n",
    "\n",
    "line_counter = 0\n",
    "data_header = []\n",
    "employee = []\n",
    "customer_USA_only_list = []\n",
    "customer = None\n",
    "\n",
    "with open(\"input_file/customers.csv\") as customer_data:\n",
    "    while True:\n",
    "        data = customer_data.readline()\n",
    "        if not data:\n",
    "            break\n",
    "        if line_counter == 0:\n",
    "            data_header = data.split(\",\")\n",
    "        else:\n",
    "            customer = data.split(\",\")\n",
    "            if customer[10].upper() == \"USA\":\n",
    "                customer_USA_only_list.append(customer)\n",
    "            customer_list.append(data.split(\",\"))\n",
    "        line_counter += 1\n",
    "\n",
    "print(\"Header: \\t\",data_header)\n",
    "\n",
    "for i in range(1,10):\n",
    "    print(\"Data:\",i,\":\\t\\t\",customer_USA_only_list[i])\n",
    "print(len(customer_USA_only_list))\n",
    "\n",
    "with open(\"customer_USA_only,csv\",\"w\") as customer_USA_only_csv:\n",
    "    for customer in customer_USA_only_list:\n",
    "        customer_USA_only_csv.write(\",\".join(customer).strip('\\n')+\"\\n\")"
   ]
  },
  {
   "cell_type": "code",
   "execution_count": 15,
   "metadata": {},
   "outputs": [],
   "source": [
    "# Take care of Korean CSV File\n",
    "\n",
    "import csv\n",
    "\n",
    "seoung_nam_data = []\n",
    "header = []\n",
    "rownum = 0\n",
    "\n",
    "with open(\"input_file/korea_foot_traffic_data.csv\",\"r\", encoding=\"utf-8\") as p_file:\n",
    "    csv_data = csv.reader(p_file)\n",
    "    for row in csv_data:\n",
    "        if rownum == 0:\n",
    "            header = row\n",
    "        location = row[7]\n",
    "        \n",
    "        if location.find(u\"성남시\") != -1:\n",
    "            seoung_nam_data.append(row)\n",
    "        rownum += 1\n",
    "\n",
    "with open(\"output_file/seong_nam_foot_traffic_data.csv\",\"w\", encoding=\"utf-8\") as s_p_file:\n",
    "    writer = csv.writer(s_p_file, delimiter='\\t', quotechar=\"'\", quoting=csv.QUOTE_ALL)\n",
    "    writer.writerow(header) \n",
    "    \n",
    "    for row in seoung_nam_data:\n",
    "        writer.writerow(row)"
   ]
  },
  {
   "cell_type": "markdown",
   "metadata": {},
   "source": [
    "여기에 있는 모든 방식은 추후 pandas로 대체될 것임."
   ]
  }
 ],
 "metadata": {
  "interpreter": {
   "hash": "31f2aee4e71d21fbe5cf8b01ff0e069b9275f58929596ceb00d14d90e3e16cd6"
  },
  "kernelspec": {
   "display_name": "Python 3.8.2 64-bit",
   "language": "python",
   "name": "python3"
  },
  "language_info": {
   "codemirror_mode": {
    "name": "ipython",
    "version": 3
   },
   "file_extension": ".py",
   "mimetype": "text/x-python",
   "name": "python",
   "nbconvert_exporter": "python",
   "pygments_lexer": "ipython3",
   "version": "3.8.2"
  },
  "orig_nbformat": 4
 },
 "nbformat": 4,
 "nbformat_minor": 2
}
