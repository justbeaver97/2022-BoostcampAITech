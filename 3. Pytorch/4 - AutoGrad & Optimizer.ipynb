{
 "cells": [
  {
   "cell_type": "code",
   "execution_count": 1,
   "id": "76ff5c5f",
   "metadata": {},
   "outputs": [],
   "source": [
    "import torch\n",
    "from torch import nn\n",
    "from torch import Tensor"
   ]
  },
  {
   "cell_type": "code",
   "execution_count": 6,
   "id": "ddd8ce8a",
   "metadata": {},
   "outputs": [],
   "source": [
    "class Linear(nn.Module):\n",
    "    def __init__(self, in_features, out_features, bias=True):\n",
    "        super().__init__()\n",
    "        self.in_features = in_features\n",
    "        self.out_features = out_features\n",
    "        self.weights = nn.Parameter( torch.randn(in_features, out_features))\n",
    "        self.bias = nn.Parameter(torch.randn(out_features))\n",
    "        \n",
    "    def forward(self, x : Tensor):\n",
    "        return x @ self.weights + self.bias"
   ]
  },
  {
   "cell_type": "code",
   "execution_count": 7,
   "id": "c9f09889",
   "metadata": {},
   "outputs": [
    {
     "data": {
      "text/plain": [
       "tensor([[ 0.6236, -0.0226, -0.8860, -0.0686,  1.5872, -0.8850,  0.0093],\n",
       "        [-1.5891,  0.5969, -0.7870,  1.7694, -0.9055,  0.2874,  0.7195],\n",
       "        [-0.8088,  1.8794, -0.5150, -0.0609, -0.3350, -0.7888, -0.8552],\n",
       "        [ 0.9455, -2.3489, -1.1002,  0.4902, -0.4278,  0.0410,  0.2200],\n",
       "        [ 0.1747,  2.0251, -0.2496,  1.9189,  0.5555, -0.1738, -0.4269]])"
      ]
     },
     "execution_count": 7,
     "metadata": {},
     "output_type": "execute_result"
    }
   ],
   "source": [
    "x = torch.randn(5,7)\n",
    "x"
   ]
  },
  {
   "cell_type": "code",
   "execution_count": 9,
   "id": "5d47aa51",
   "metadata": {},
   "outputs": [
    {
     "data": {
      "text/plain": [
       "tensor([[ 6.8398,  0.7833, -3.5014, -3.1863, -1.0404, -1.6269,  0.4762,  1.9433,\n",
       "         -0.1163, -1.6473,  4.6185, -1.7483],\n",
       "        [-0.1040, -0.9914, -0.3910, -4.0098,  0.5801,  1.5896,  0.5067, -1.2194,\n",
       "          1.6423,  4.3569, -6.5723, -1.9710],\n",
       "        [ 6.3128, -1.2299, -3.0683,  1.4583, -1.1256, -0.7821, -0.1486,  0.5614,\n",
       "          0.1668,  3.2894,  1.8895, -3.8384],\n",
       "        [ 1.7602, -0.8723,  0.8875, -6.4845,  4.8553, -3.0603, -3.4996,  2.5326,\n",
       "         -1.1802, -6.2832,  0.1183,  1.5424],\n",
       "        [ 5.5411,  1.1261, -1.5215, -0.6738, -1.1094, -1.8419, -0.1921,  1.5096,\n",
       "         -1.1281,  6.9245, -2.5544, -4.1467]], grad_fn=<AddBackward0>)"
      ]
     },
     "execution_count": 9,
     "metadata": {},
     "output_type": "execute_result"
    }
   ],
   "source": [
    "layer = Linear(7,12)\n",
    "layer(x)  # 5x7 7x12 -> 5x12"
   ]
  },
  {
   "cell_type": "code",
   "execution_count": 10,
   "id": "10d558cc",
   "metadata": {},
   "outputs": [
    {
     "data": {
      "text/plain": [
       "torch.Size([5, 12])"
      ]
     },
     "execution_count": 10,
     "metadata": {},
     "output_type": "execute_result"
    }
   ],
   "source": [
    "layer(x).shape"
   ]
  },
  {
   "cell_type": "code",
   "execution_count": 11,
   "id": "0ebcbb53",
   "metadata": {},
   "outputs": [
    {
     "name": "stdout",
     "output_type": "stream",
     "text": [
      "Parameter containing:\n",
      "tensor([[ 1.1928, -0.2725,  0.2329,  0.0727,  0.8286, -1.9852, -1.8202,  1.6429,\n",
      "         -1.1689,  0.4140,  1.7198, -0.3431],\n",
      "        [ 1.0518, -0.3983, -0.6384,  1.0885, -0.9743,  0.1397, -0.2862,  0.0833,\n",
      "         -0.1259,  3.2069,  0.4778, -1.3787],\n",
      "        [-1.3081,  1.7870, -0.1066,  2.7773, -1.0980,  0.0186,  1.8028, -0.0916,\n",
      "         -0.6587,  0.4740, -1.1562,  1.0833],\n",
      "        [-0.2341,  0.3862,  0.7557, -0.9059,  0.5529, -0.8420,  0.2608,  0.1526,\n",
      "          0.3191,  0.5596, -2.1189, -0.6446],\n",
      "        [ 0.4873,  1.3853, -0.6373, -0.5893, -1.3967,  1.0732,  1.4142, -0.4706,\n",
      "          0.0164, -0.2680,  0.0943,  0.3314],\n",
      "        [-2.1454,  0.5783,  1.3607, -0.7887,  0.1771,  2.2312, -1.1816, -0.8564,\n",
      "         -1.5596,  1.7184, -3.1062,  1.6034],\n",
      "        [-0.9383, -0.3416, -0.7619, -0.6918, -0.7591,  0.4821,  0.6092, -0.0273,\n",
      "          0.8423,  1.6547,  0.2878, -0.1464]], requires_grad=True)\n",
      "Parameter containing:\n",
      "tensor([ 2.2813,  0.8704, -1.4808, -0.5645, -0.1335, -0.1603, -0.0759,  0.8391,\n",
      "        -1.3662,  0.5562, -0.5144,  0.2445], requires_grad=True)\n"
     ]
    }
   ],
   "source": [
    "## 학습이 되는 parameter들의 weight 값들 + gradient의 대상이 되는지\n",
    "\n",
    "value in layer.parameters():\n",
    "    print(value)"
   ]
  },
  {
   "cell_type": "code",
   "execution_count": 15,
   "id": "b8a407e0",
   "metadata": {},
   "outputs": [],
   "source": [
    "class Linear2(nn.Module):\n",
    "    def __init__(self, in_features, out_features, bias=True):\n",
    "        super().__init__()\n",
    "        self.in_features = in_features\n",
    "        self.out_features = out_features\n",
    "        self.weights = Tensor( torch.randn(in_features, out_features))\n",
    "        self.bias = Tensor(torch.randn(out_features))\n",
    "        \n",
    "    def forward(self, x : Tensor):\n",
    "        return x @ self.weights + self.bias"
   ]
  },
  {
   "cell_type": "code",
   "execution_count": 16,
   "id": "260d2eac",
   "metadata": {},
   "outputs": [
    {
     "data": {
      "text/plain": [
       "tensor([[ -3.4041,  -1.3884,   0.3131,  -1.2982,   2.8797,   1.2154,   3.7233,\n",
       "           1.2704,  -1.0036,   1.2614,  -4.0316,   1.5605],\n",
       "        [ 12.7847,  -2.8607,   6.3770,  -0.1035,  -5.3442,   1.0013,  -4.3065,\n",
       "           8.7476,   4.2628,  -5.1358,  -5.6382,   7.8114],\n",
       "        [  2.1631,  -1.1966,   1.1967,   3.4239,  -1.0605,  -0.6591,   1.8756,\n",
       "           4.6703,   1.8186,   2.7705,  -4.0074,   3.1330],\n",
       "        [  4.0623,   1.1453,  -1.9436,  -4.3983,  -2.0053,  -2.3895,  -2.7465,\n",
       "          -1.3565,   4.3692,  -4.7093,   1.6004,   1.4107],\n",
       "        [  6.2389,   1.3254,   2.5586,   1.2247,  -1.3234,   4.1746,  -4.2251,\n",
       "           8.7653,   1.8862,  -3.0045, -10.5781,   3.7010]])"
      ]
     },
     "execution_count": 16,
     "metadata": {},
     "output_type": "execute_result"
    }
   ],
   "source": [
    "layer2 = Linear2(7,12)\n",
    "layer2(x)"
   ]
  },
  {
   "cell_type": "code",
   "execution_count": 19,
   "id": "ff9a3006",
   "metadata": {},
   "outputs": [],
   "source": [
    "## Parameter 대신 Tensor 사용\n",
    "## Parameter는 미분의 대상이 되는 것만 보여줌 - backward propagation의 대상이 되는 것이 아니면 출현 X\n",
    "\n",
    "for value in layer2.parameters():\n",
    "    print(value)"
   ]
  },
  {
   "cell_type": "code",
   "execution_count": null,
   "id": "52738443",
   "metadata": {},
   "outputs": [],
   "source": []
  }
 ],
 "metadata": {
  "kernelspec": {
   "display_name": "Python 3 (ipykernel)",
   "language": "python",
   "name": "python3"
  },
  "language_info": {
   "codemirror_mode": {
    "name": "ipython",
    "version": 3
   },
   "file_extension": ".py",
   "mimetype": "text/x-python",
   "name": "python",
   "nbconvert_exporter": "python",
   "pygments_lexer": "ipython3",
   "version": "3.9.7"
  }
 },
 "nbformat": 4,
 "nbformat_minor": 5
}
