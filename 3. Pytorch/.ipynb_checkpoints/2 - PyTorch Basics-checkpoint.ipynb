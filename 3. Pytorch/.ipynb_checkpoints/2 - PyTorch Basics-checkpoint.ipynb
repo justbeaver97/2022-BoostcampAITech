{
 "cells": [
  {
   "cell_type": "markdown",
   "id": "bc1b0d1e",
   "metadata": {},
   "source": [
    "### Tensor"
   ]
  },
  {
   "cell_type": "code",
   "execution_count": 1,
   "id": "d3ad03e4",
   "metadata": {},
   "outputs": [
    {
     "name": "stdout",
     "output_type": "stream",
     "text": [
      "[[0 1 2 3 4]\n",
      " [5 6 7 8 9]]\n",
      "ndim : 2 shape : (2, 5)\n"
     ]
    }
   ],
   "source": [
    "import numpy as np\n",
    "n_array = np.arange(10).reshape(2,5)\n",
    "print(n_array)\n",
    "print(\"ndim :\", n_array.ndim, \"shape :\", n_array.shape)"
   ]
  },
  {
   "cell_type": "code",
   "execution_count": 2,
   "id": "377c71ee",
   "metadata": {},
   "outputs": [
    {
     "name": "stdout",
     "output_type": "stream",
     "text": [
      "tensor([[0., 1., 2., 3., 4.],\n",
      "        [5., 6., 7., 8., 9.]])\n",
      "ndim : 2 shape : torch.Size([2, 5])\n"
     ]
    }
   ],
   "source": [
    "import torch\n",
    "t_array = torch.FloatTensor(n_array)\n",
    "print(t_array)\n",
    "print(\"ndim :\", t_array.ndim, \"shape :\", t_array.shape)"
   ]
  },
  {
   "cell_type": "code",
   "execution_count": 4,
   "id": "e4d0c575",
   "metadata": {},
   "outputs": [
    {
     "name": "stdout",
     "output_type": "stream",
     "text": [
      "torch.Size([2, 5])\n",
      "2\n",
      "torch.Size([2, 5])\n"
     ]
    }
   ],
   "source": [
    "print(t_array.shape)\n",
    "print(t_array.ndim)\n",
    "print(t_array.size())"
   ]
  },
  {
   "cell_type": "markdown",
   "id": "164bc5d3",
   "metadata": {},
   "source": [
    "### Array to Tensor"
   ]
  },
  {
   "cell_type": "code",
   "execution_count": 5,
   "id": "4808fe5d",
   "metadata": {},
   "outputs": [
    {
     "data": {
      "text/plain": [
       "tensor([[ 3,  5],\n",
       "        [10,  5]])"
      ]
     },
     "execution_count": 5,
     "metadata": {},
     "output_type": "execute_result"
    }
   ],
   "source": [
    "## data to tensor\n",
    "data = [[3, 5],[10, 5]] \n",
    "x_data = torch.tensor(data) \n",
    "x_data"
   ]
  },
  {
   "cell_type": "code",
   "execution_count": 6,
   "id": "2333b5f2",
   "metadata": {},
   "outputs": [
    {
     "data": {
      "text/plain": [
       "tensor([[ 3,  5],\n",
       "        [10,  5]])"
      ]
     },
     "execution_count": 6,
     "metadata": {},
     "output_type": "execute_result"
    }
   ],
   "source": [
    "## ndarray to tensor\n",
    "nd_array_ex = np.array(data)\n",
    "tensor_array = torch.from_numpy(nd_array_ex) \n",
    "tensor_array"
   ]
  },
  {
   "cell_type": "code",
   "execution_count": 7,
   "id": "f20eb6ea",
   "metadata": {},
   "outputs": [],
   "source": [
    "## But DL 하면서 위 방법을 쓰지는 않음. 직접 생성은 거의 안한다고 생각하면 됨 ㅇㅇ"
   ]
  },
  {
   "cell_type": "markdown",
   "id": "75524ae7",
   "metadata": {},
   "source": [
    "### Numpy like Operations"
   ]
  },
  {
   "cell_type": "code",
   "execution_count": 8,
   "id": "b744e637",
   "metadata": {},
   "outputs": [],
   "source": [
    "data = [[3, 5, 20],[10, 5, 50], [1, 5, 10]]\n",
    "x_data = torch.tensor(data)"
   ]
  },
  {
   "cell_type": "code",
   "execution_count": 9,
   "id": "db927d9c",
   "metadata": {},
   "outputs": [
    {
     "data": {
      "text/plain": [
       "tensor([[10,  5, 50],\n",
       "        [ 1,  5, 10]])"
      ]
     },
     "execution_count": 9,
     "metadata": {},
     "output_type": "execute_result"
    }
   ],
   "source": [
    "x_data[1:]"
   ]
  },
  {
   "cell_type": "code",
   "execution_count": 10,
   "id": "7e393e14",
   "metadata": {},
   "outputs": [
    {
     "data": {
      "text/plain": [
       "tensor([[ 5, 20],\n",
       "        [ 5, 50]])"
      ]
     },
     "execution_count": 10,
     "metadata": {},
     "output_type": "execute_result"
    }
   ],
   "source": [
    "x_data[:2, 1:]"
   ]
  },
  {
   "cell_type": "code",
   "execution_count": 11,
   "id": "f44a5fb6",
   "metadata": {},
   "outputs": [
    {
     "data": {
      "text/plain": [
       "tensor([ 3,  5, 20, 10,  5, 50,  1,  5, 10])"
      ]
     },
     "execution_count": 11,
     "metadata": {},
     "output_type": "execute_result"
    }
   ],
   "source": [
    "x_data.flatten()"
   ]
  },
  {
   "cell_type": "code",
   "execution_count": 12,
   "id": "37dc5149",
   "metadata": {},
   "outputs": [
    {
     "data": {
      "text/plain": [
       "tensor([[1, 1, 1],\n",
       "        [1, 1, 1],\n",
       "        [1, 1, 1]])"
      ]
     },
     "execution_count": 12,
     "metadata": {},
     "output_type": "execute_result"
    }
   ],
   "source": [
    "torch.ones_like(x_data)"
   ]
  },
  {
   "cell_type": "code",
   "execution_count": 13,
   "id": "87faa175",
   "metadata": {},
   "outputs": [
    {
     "data": {
      "text/plain": [
       "array([[ 3,  5, 20],\n",
       "       [10,  5, 50],\n",
       "       [ 1,  5, 10]])"
      ]
     },
     "execution_count": 13,
     "metadata": {},
     "output_type": "execute_result"
    }
   ],
   "source": [
    "x_data.numpy()"
   ]
  },
  {
   "cell_type": "code",
   "execution_count": 14,
   "id": "7f8dec0f",
   "metadata": {},
   "outputs": [
    {
     "name": "stdout",
     "output_type": "stream",
     "text": [
      "torch.Size([3, 3])\n",
      "torch.int64\n"
     ]
    }
   ],
   "source": [
    "print(x_data.shape)\n",
    "print(x_data.dtype)"
   ]
  },
  {
   "cell_type": "code",
   "execution_count": 19,
   "id": "8425958e",
   "metadata": {},
   "outputs": [
    {
     "name": "stdout",
     "output_type": "stream",
     "text": [
      "cpu\n"
     ]
    }
   ],
   "source": [
    "if torch.cuda.is_available(): \n",
    "    x_data_cuda = x_data.to('cuda')\n",
    "    print(x_data_cuda.device)\n",
    "else:\n",
    "    print(x_data.device)"
   ]
  },
  {
   "cell_type": "markdown",
   "id": "bfacee11",
   "metadata": {},
   "source": [
    "### Tensor Handling"
   ]
  },
  {
   "cell_type": "code",
   "execution_count": 20,
   "id": "a5fb6850",
   "metadata": {},
   "outputs": [
    {
     "data": {
      "text/plain": [
       "tensor([[[0.4089, 0.9683],\n",
       "         [0.1413, 0.1374],\n",
       "         [0.7401, 0.8710]],\n",
       "\n",
       "        [[0.4570, 0.3869],\n",
       "         [0.2948, 0.0542],\n",
       "         [0.8164, 0.4339]]])"
      ]
     },
     "execution_count": 20,
     "metadata": {},
     "output_type": "execute_result"
    }
   ],
   "source": [
    "tensor_ex = torch.rand(size=(2, 3, 2)) \n",
    "tensor_ex"
   ]
  },
  {
   "cell_type": "code",
   "execution_count": 21,
   "id": "77e8b5f0",
   "metadata": {},
   "outputs": [
    {
     "data": {
      "text/plain": [
       "tensor([[0.4089, 0.9683, 0.1413, 0.1374, 0.7401, 0.8710],\n",
       "        [0.4570, 0.3869, 0.2948, 0.0542, 0.8164, 0.4339]])"
      ]
     },
     "execution_count": 21,
     "metadata": {},
     "output_type": "execute_result"
    }
   ],
   "source": [
    "tensor_ex.view([-1, 6])"
   ]
  },
  {
   "cell_type": "code",
   "execution_count": 22,
   "id": "40db7f64",
   "metadata": {},
   "outputs": [
    {
     "data": {
      "text/plain": [
       "tensor([[0.4089, 0.9683, 0.1413, 0.1374, 0.7401, 0.8710],\n",
       "        [0.4570, 0.3869, 0.2948, 0.0542, 0.8164, 0.4339]])"
      ]
     },
     "execution_count": 22,
     "metadata": {},
     "output_type": "execute_result"
    }
   ],
   "source": [
    "tensor_ex.reshape([-1,6])"
   ]
  },
  {
   "cell_type": "code",
   "execution_count": 27,
   "id": "72013c65",
   "metadata": {},
   "outputs": [
    {
     "data": {
      "text/plain": [
       "tensor([[1., 1.],\n",
       "        [1., 1.],\n",
       "        [1., 1.]])"
      ]
     },
     "execution_count": 27,
     "metadata": {},
     "output_type": "execute_result"
    }
   ],
   "source": [
    "## veiw는 copy를 하는 것이 아니라, 기존의 memory address를 그대로 사용해서\n",
    "## 표현하는 형태만 바꿔주는 것\n",
    "\n",
    "a = torch.zeros(3, 2) \n",
    "b = a.view(2, 3) \n",
    "a.fill_(1)"
   ]
  },
  {
   "cell_type": "code",
   "execution_count": 28,
   "id": "d7a494de",
   "metadata": {},
   "outputs": [
    {
     "data": {
      "text/plain": [
       "tensor([[1., 1., 1.],\n",
       "        [1., 1., 1.]])"
      ]
     },
     "execution_count": 28,
     "metadata": {},
     "output_type": "execute_result"
    }
   ],
   "source": [
    "b"
   ]
  },
  {
   "cell_type": "code",
   "execution_count": 29,
   "id": "f0321537",
   "metadata": {},
   "outputs": [
    {
     "data": {
      "text/plain": [
       "tensor([[1., 1.],\n",
       "        [1., 1.],\n",
       "        [1., 1.]])"
      ]
     },
     "execution_count": 29,
     "metadata": {},
     "output_type": "execute_result"
    }
   ],
   "source": [
    "## reshape은 기존의 것 보장하지 않음\n",
    "\n",
    "a = torch.zeros(3, 2) \n",
    "b = a.t().reshape(6) \n",
    "a.fill_(1)"
   ]
  },
  {
   "cell_type": "code",
   "execution_count": 30,
   "id": "be627b9d",
   "metadata": {},
   "outputs": [
    {
     "data": {
      "text/plain": [
       "tensor([0., 0., 0., 0., 0., 0.])"
      ]
     },
     "execution_count": 30,
     "metadata": {},
     "output_type": "execute_result"
    }
   ],
   "source": [
    "b"
   ]
  },
  {
   "cell_type": "code",
   "execution_count": 31,
   "id": "f4e7dcef",
   "metadata": {},
   "outputs": [
    {
     "data": {
      "text/plain": [
       "tensor([[0.5404, 0.0823],\n",
       "        [0.5295, 0.9516]])"
      ]
     },
     "execution_count": 31,
     "metadata": {},
     "output_type": "execute_result"
    }
   ],
   "source": [
    "## Squeeze & Unsqueeze\n",
    "\n",
    "tensor_ex = torch.rand(size=(2, 1, 2)) \n",
    "tensor_ex.squeeze()"
   ]
  },
  {
   "cell_type": "code",
   "execution_count": 37,
   "id": "c31bf148",
   "metadata": {},
   "outputs": [
    {
     "name": "stdout",
     "output_type": "stream",
     "text": [
      "tensor([[[0.5919, 0.5746],\n",
      "         [0.3025, 0.3901]]])\n",
      "torch.Size([1, 2, 2])\n"
     ]
    }
   ],
   "source": [
    "tensor_ex = torch.rand(size=(2, 2)) \n",
    "print(tensor_ex.unsqueeze(0))\n",
    "print(tensor_ex.unsqueeze(0).shape)"
   ]
  },
  {
   "cell_type": "code",
   "execution_count": 38,
   "id": "f8afc9de",
   "metadata": {},
   "outputs": [
    {
     "name": "stdout",
     "output_type": "stream",
     "text": [
      "tensor([[[0.5919, 0.5746]],\n",
      "\n",
      "        [[0.3025, 0.3901]]])\n",
      "torch.Size([2, 1, 2])\n"
     ]
    }
   ],
   "source": [
    "print(tensor_ex.unsqueeze(1))\n",
    "print(tensor_ex.unsqueeze(1).shape)"
   ]
  },
  {
   "cell_type": "code",
   "execution_count": 39,
   "id": "fa92ce7f",
   "metadata": {},
   "outputs": [
    {
     "name": "stdout",
     "output_type": "stream",
     "text": [
      "tensor([[[0.5919],\n",
      "         [0.5746]],\n",
      "\n",
      "        [[0.3025],\n",
      "         [0.3901]]])\n",
      "torch.Size([2, 2, 1])\n"
     ]
    }
   ],
   "source": [
    "print(tensor_ex.unsqueeze(2))\n",
    "print(tensor_ex.unsqueeze(2).shape)"
   ]
  },
  {
   "cell_type": "markdown",
   "id": "93f636c1",
   "metadata": {},
   "source": [
    "### Tensor Operations"
   ]
  },
  {
   "cell_type": "code",
   "execution_count": 42,
   "id": "a5c528f2",
   "metadata": {},
   "outputs": [
    {
     "name": "stdout",
     "output_type": "stream",
     "text": [
      "[[0 1 2 3 4]\n",
      " [5 6 7 8 9]]\n",
      "tensor([[0., 1., 2., 3., 4.],\n",
      "        [5., 6., 7., 8., 9.]])\n"
     ]
    }
   ],
   "source": [
    "n1 = np.arange(10).reshape(2,5) \n",
    "t1 = torch.FloatTensor(n1)\n",
    "print(n1)\n",
    "print(t1)"
   ]
  },
  {
   "cell_type": "code",
   "execution_count": 43,
   "id": "9d658e1b",
   "metadata": {},
   "outputs": [
    {
     "data": {
      "text/plain": [
       "tensor([[ 0.,  2.,  4.,  6.,  8.],\n",
       "        [10., 12., 14., 16., 18.]])"
      ]
     },
     "execution_count": 43,
     "metadata": {},
     "output_type": "execute_result"
    }
   ],
   "source": [
    "t1 + t1"
   ]
  },
  {
   "cell_type": "code",
   "execution_count": 44,
   "id": "908f8b47",
   "metadata": {},
   "outputs": [
    {
     "data": {
      "text/plain": [
       "tensor([[0., 0., 0., 0., 0.],\n",
       "        [0., 0., 0., 0., 0.]])"
      ]
     },
     "execution_count": 44,
     "metadata": {},
     "output_type": "execute_result"
    }
   ],
   "source": [
    "t1 - t1"
   ]
  },
  {
   "cell_type": "code",
   "execution_count": 45,
   "id": "16ca38cc",
   "metadata": {},
   "outputs": [
    {
     "data": {
      "text/plain": [
       "tensor([[10., 11., 12., 13., 14.],\n",
       "        [15., 16., 17., 18., 19.]])"
      ]
     },
     "execution_count": 45,
     "metadata": {},
     "output_type": "execute_result"
    }
   ],
   "source": [
    "t1 + 10"
   ]
  },
  {
   "cell_type": "code",
   "execution_count": 46,
   "id": "c8eb649b",
   "metadata": {
    "scrolled": true
   },
   "outputs": [
    {
     "data": {
      "text/plain": [
       "tensor([[ 60.,  70.],\n",
       "        [160., 195.]])"
      ]
     },
     "execution_count": 46,
     "metadata": {},
     "output_type": "execute_result"
    }
   ],
   "source": [
    "## 행렬 곱셈 연산 dot -> mm (matrix multiplication)\n",
    "## dot: scalar / vector , mm: matrix(tensor)\n",
    "\n",
    "n2 = np.arange(10).reshape(5,2)\n",
    "t2 = torch.FloatTensor(n2)\n",
    "\n",
    "t1.mm(t2)"
   ]
  },
  {
   "cell_type": "code",
   "execution_count": 47,
   "id": "5a72c528",
   "metadata": {},
   "outputs": [
    {
     "ename": "RuntimeError",
     "evalue": "1D tensors expected, but got 2D and 2D tensors",
     "output_type": "error",
     "traceback": [
      "\u001b[0;31m---------------------------------------------------------------------------\u001b[0m",
      "\u001b[0;31mRuntimeError\u001b[0m                              Traceback (most recent call last)",
      "Input \u001b[0;32mIn [47]\u001b[0m, in \u001b[0;36m<module>\u001b[0;34m\u001b[0m\n\u001b[0;32m----> 1\u001b[0m \u001b[43mt1\u001b[49m\u001b[38;5;241;43m.\u001b[39;49m\u001b[43mdot\u001b[49m\u001b[43m(\u001b[49m\u001b[43mt2\u001b[49m\u001b[43m)\u001b[49m\n",
      "\u001b[0;31mRuntimeError\u001b[0m: 1D tensors expected, but got 2D and 2D tensors"
     ]
    }
   ],
   "source": [
    "t1.dot(t2)"
   ]
  },
  {
   "cell_type": "code",
   "execution_count": 48,
   "id": "6af6987c",
   "metadata": {},
   "outputs": [
    {
     "data": {
      "text/plain": [
       "tensor([[ 60.,  70.],\n",
       "        [160., 195.]])"
      ]
     },
     "execution_count": 48,
     "metadata": {},
     "output_type": "execute_result"
    }
   ],
   "source": [
    "t1.matmul(t2)"
   ]
  },
  {
   "cell_type": "code",
   "execution_count": 50,
   "id": "331a3dd1",
   "metadata": {},
   "outputs": [
    {
     "data": {
      "text/plain": [
       "tensor(2.8006)"
      ]
     },
     "execution_count": 50,
     "metadata": {},
     "output_type": "execute_result"
    }
   ],
   "source": [
    "a = torch.rand(10)\n",
    "b = torch.rand(10)\n",
    "a.dot(b)"
   ]
  },
  {
   "cell_type": "code",
   "execution_count": 51,
   "id": "a9555512",
   "metadata": {},
   "outputs": [
    {
     "ename": "RuntimeError",
     "evalue": "self must be a matrix",
     "output_type": "error",
     "traceback": [
      "\u001b[0;31m---------------------------------------------------------------------------\u001b[0m",
      "\u001b[0;31mRuntimeError\u001b[0m                              Traceback (most recent call last)",
      "Input \u001b[0;32mIn [51]\u001b[0m, in \u001b[0;36m<module>\u001b[0;34m\u001b[0m\n\u001b[1;32m      1\u001b[0m a \u001b[38;5;241m=\u001b[39m torch\u001b[38;5;241m.\u001b[39mrand(\u001b[38;5;241m10\u001b[39m)\n\u001b[1;32m      2\u001b[0m b \u001b[38;5;241m=\u001b[39m torch\u001b[38;5;241m.\u001b[39mrand(\u001b[38;5;241m10\u001b[39m)\n\u001b[0;32m----> 3\u001b[0m \u001b[43ma\u001b[49m\u001b[38;5;241;43m.\u001b[39;49m\u001b[43mmm\u001b[49m\u001b[43m(\u001b[49m\u001b[43mb\u001b[49m\u001b[43m)\u001b[49m\n",
      "\u001b[0;31mRuntimeError\u001b[0m: self must be a matrix"
     ]
    }
   ],
   "source": [
    "a = torch.rand(10)\n",
    "b = torch.rand(10)\n",
    "a.mm(b)"
   ]
  },
  {
   "cell_type": "code",
   "execution_count": 52,
   "id": "156ad09b",
   "metadata": {},
   "outputs": [
    {
     "ename": "RuntimeError",
     "evalue": "self must be a matrix",
     "output_type": "error",
     "traceback": [
      "\u001b[0;31m---------------------------------------------------------------------------\u001b[0m",
      "\u001b[0;31mRuntimeError\u001b[0m                              Traceback (most recent call last)",
      "Input \u001b[0;32mIn [52]\u001b[0m, in \u001b[0;36m<module>\u001b[0;34m\u001b[0m\n\u001b[1;32m      3\u001b[0m a \u001b[38;5;241m=\u001b[39m torch\u001b[38;5;241m.\u001b[39mrand(\u001b[38;5;241m5\u001b[39m, \u001b[38;5;241m2\u001b[39m, \u001b[38;5;241m3\u001b[39m)\n\u001b[1;32m      4\u001b[0m b \u001b[38;5;241m=\u001b[39m torch\u001b[38;5;241m.\u001b[39mrand(\u001b[38;5;241m5\u001b[39m)\n\u001b[0;32m----> 5\u001b[0m \u001b[43ma\u001b[49m\u001b[38;5;241;43m.\u001b[39;49m\u001b[43mmm\u001b[49m\u001b[43m(\u001b[49m\u001b[43mb\u001b[49m\u001b[43m)\u001b[49m\n",
      "\u001b[0;31mRuntimeError\u001b[0m: self must be a matrix"
     ]
    }
   ],
   "source": [
    "## matmul: broadcasting 지원 (but 결과값에 대한 혼돈을 가져올 수 있음)\n",
    "\n",
    "a = torch.rand(5, 2, 3)\n",
    "b = torch.rand(5)\n",
    "a.mm(b)"
   ]
  },
  {
   "cell_type": "code",
   "execution_count": 53,
   "id": "5fc31603",
   "metadata": {},
   "outputs": [
    {
     "data": {
      "text/plain": [
       "tensor([[0.5253, 0.5011],\n",
       "        [0.7724, 0.3600],\n",
       "        [0.5391, 1.4982],\n",
       "        [1.2850, 0.5891],\n",
       "        [0.7981, 0.3385]])"
      ]
     },
     "execution_count": 53,
     "metadata": {},
     "output_type": "execute_result"
    }
   ],
   "source": [
    "a = torch.rand(5, 2, 3) \n",
    "b = torch.rand(3) \n",
    "a.matmul(b)"
   ]
  },
  {
   "cell_type": "code",
   "execution_count": 59,
   "id": "a79ff865",
   "metadata": {},
   "outputs": [
    {
     "name": "stdout",
     "output_type": "stream",
     "text": [
      "tensor([0.5253, 0.5011])\n",
      "tensor([0.7724, 0.3600])\n",
      "tensor([0.5391, 1.4982])\n",
      "tensor([1.2850, 0.5891])\n",
      "tensor([0.7981, 0.3385])\n"
     ]
    }
   ],
   "source": [
    "print(a[0].mm(torch.unsqueeze(b,1)).squeeze())\n",
    "print(a[1].mm(torch.unsqueeze(b,1)).squeeze())\n",
    "print(a[2].mm(torch.unsqueeze(b,1)).squeeze())\n",
    "print(a[3].mm(torch.unsqueeze(b,1)).squeeze())\n",
    "print(a[4].mm(torch.unsqueeze(b,1)).squeeze())"
   ]
  },
  {
   "cell_type": "markdown",
   "id": "f6a518dc",
   "metadata": {},
   "source": [
    "### Tensor Operations for ML/DL Formula"
   ]
  },
  {
   "cell_type": "code",
   "execution_count": 60,
   "id": "4125272c",
   "metadata": {},
   "outputs": [],
   "source": [
    "import torch\n",
    "import torch.nn.functional as F"
   ]
  },
  {
   "cell_type": "code",
   "execution_count": 61,
   "id": "0a674862",
   "metadata": {},
   "outputs": [
    {
     "data": {
      "text/plain": [
       "tensor([0.3458, 0.4224, 0.2318])"
      ]
     },
     "execution_count": 61,
     "metadata": {},
     "output_type": "execute_result"
    }
   ],
   "source": [
    "tensor = torch.FloatTensor([0.5, 0.7, 0.1]) \n",
    "h_tensor = F.softmax(tensor, dim=0) \n",
    "h_tensor"
   ]
  },
  {
   "cell_type": "code",
   "execution_count": 62,
   "id": "ef19d899",
   "metadata": {},
   "outputs": [],
   "source": [
    "y = torch.randint(5, (10,5)) \n",
    "y_label = y.argmax(dim=1)"
   ]
  },
  {
   "cell_type": "code",
   "execution_count": 63,
   "id": "bc388969",
   "metadata": {
    "scrolled": true
   },
   "outputs": [
    {
     "data": {
      "text/plain": [
       "tensor([[0, 1, 0, 0, 0],\n",
       "        [0, 0, 0, 1, 0],\n",
       "        [1, 0, 0, 0, 0],\n",
       "        [0, 0, 0, 0, 1],\n",
       "        [1, 0, 0, 0, 0],\n",
       "        [0, 1, 0, 0, 0],\n",
       "        [1, 0, 0, 0, 0],\n",
       "        [1, 0, 0, 0, 0],\n",
       "        [1, 0, 0, 0, 0],\n",
       "        [0, 0, 1, 0, 0]])"
      ]
     },
     "execution_count": 63,
     "metadata": {},
     "output_type": "execute_result"
    }
   ],
   "source": [
    "torch.nn.functional.one_hot(y_label)"
   ]
  },
  {
   "cell_type": "code",
   "execution_count": 65,
   "id": "4938beda",
   "metadata": {},
   "outputs": [
    {
     "data": {
      "text/plain": [
       "[(1, 4), (1, 5), (2, 4), (2, 5), (3, 4), (3, 5)]"
      ]
     },
     "execution_count": 65,
     "metadata": {},
     "output_type": "execute_result"
    }
   ],
   "source": [
    "## Cartesian Produts\n",
    "\n",
    "import itertools\n",
    "\n",
    "a = [1,2,3]\n",
    "b = [4,5]\n",
    "list(itertools.product(a,b))"
   ]
  },
  {
   "cell_type": "code",
   "execution_count": 66,
   "id": "b92a46fb",
   "metadata": {},
   "outputs": [
    {
     "name": "stderr",
     "output_type": "stream",
     "text": [
      "/opt/homebrew/Caskroom/miniforge/base/lib/python3.9/site-packages/torch/functional.py:1069: UserWarning: torch.meshgrid: in an upcoming release, it will be required to pass the indexing argument. (Triggered internally at  /Users/runner/miniforge3/conda-bld/pytorch-recipe_1635217266490/work/aten/src/ATen/native/TensorShape.cpp:2157.)\n",
      "  return _VF.cartesian_prod(tensors)  # type: ignore[attr-defined]\n"
     ]
    },
    {
     "data": {
      "text/plain": [
       "tensor([[1, 4],\n",
       "        [1, 5],\n",
       "        [2, 4],\n",
       "        [2, 5],\n",
       "        [3, 4],\n",
       "        [3, 5]])"
      ]
     },
     "execution_count": 66,
     "metadata": {},
     "output_type": "execute_result"
    }
   ],
   "source": [
    "tensor_a = torch.tensor(a)\n",
    "tensor_b = torch.tensor(b)\n",
    "torch.cartesian_prod(tensor_a, tensor_b)"
   ]
  },
  {
   "cell_type": "markdown",
   "id": "e1c01e0a",
   "metadata": {},
   "source": [
    "### AutoGrad"
   ]
  },
  {
   "cell_type": "code",
   "execution_count": 67,
   "id": "04b114ba",
   "metadata": {},
   "outputs": [
    {
     "data": {
      "text/plain": [
       "tensor(40.)"
      ]
     },
     "execution_count": 67,
     "metadata": {},
     "output_type": "execute_result"
    }
   ],
   "source": [
    "w = torch.tensor(2.0, requires_grad=True)\n",
    "y = w**2\n",
    "z = 10*y + 2 \n",
    "z.backward()\n",
    "w.grad"
   ]
  },
  {
   "cell_type": "code",
   "execution_count": 68,
   "id": "8875236b",
   "metadata": {},
   "outputs": [],
   "source": [
    "## 편미분\n",
    "\n",
    "a = torch.tensor([2., 3.], requires_grad=True) \n",
    "b = torch.tensor([6., 4.], requires_grad=True) \n",
    "Q = 3*a**3 - b**2\n",
    "external_grad = torch.tensor([1., 1.]) \n",
    "Q.backward(gradient=external_grad)"
   ]
  },
  {
   "cell_type": "code",
   "execution_count": 70,
   "id": "3b0faae0",
   "metadata": {},
   "outputs": [
    {
     "data": {
      "text/plain": [
       "tensor([36., 81.])"
      ]
     },
     "execution_count": 70,
     "metadata": {},
     "output_type": "execute_result"
    }
   ],
   "source": [
    "a.grad"
   ]
  },
  {
   "cell_type": "code",
   "execution_count": 71,
   "id": "fb2d6878",
   "metadata": {},
   "outputs": [
    {
     "data": {
      "text/plain": [
       "tensor([-12.,  -8.])"
      ]
     },
     "execution_count": 71,
     "metadata": {},
     "output_type": "execute_result"
    }
   ],
   "source": [
    "b.grad"
   ]
  }
 ],
 "metadata": {
  "kernelspec": {
   "display_name": "Python 3 (ipykernel)",
   "language": "python",
   "name": "python3"
  },
  "language_info": {
   "codemirror_mode": {
    "name": "ipython",
    "version": 3
   },
   "file_extension": ".py",
   "mimetype": "text/x-python",
   "name": "python",
   "nbconvert_exporter": "python",
   "pygments_lexer": "ipython3",
   "version": "3.9.7"
  }
 },
 "nbformat": 4,
 "nbformat_minor": 5
}
