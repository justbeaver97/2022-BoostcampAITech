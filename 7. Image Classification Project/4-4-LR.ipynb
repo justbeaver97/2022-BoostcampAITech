{
 "cells": [
  {
   "cell_type": "markdown",
   "id": "15ac0276-4be2-46f9-95e0-4f7d63ac1570",
   "metadata": {},
   "source": [
    "## Import Libraries"
   ]
  },
  {
   "cell_type": "code",
   "execution_count": 1,
   "id": "5583bce5-f0d1-4cee-97ab-dbb3b40c2d03",
   "metadata": {},
   "outputs": [],
   "source": [
    "import os\n",
    "import time\n",
    "import copy\n",
    "\n",
    "\n",
    "# 데이터 분석 라이브러리\n",
    "import numpy as np\n",
    "import pandas as pd\n",
    "\n",
    "# 시각화 라이브러리\n",
    "import matplotlib as mpl\n",
    "import matplotlib.pyplot as plt\n",
    "\n",
    "from PIL import Image"
   ]
  },
  {
   "cell_type": "code",
   "execution_count": 2,
   "id": "6b91bbd8-ce22-43a2-9802-43896ac421ae",
   "metadata": {},
   "outputs": [],
   "source": [
    "import torch\n",
    "import torch.nn as nn\n",
    "import torch.optim as optim\n",
    "import torch.backends.cudnn as cudnn\n",
    "import timm\n",
    "\n",
    "from __future__ import print_function, division\n",
    "from torch.optim import lr_scheduler\n",
    "from torchvision import transforms, models\n",
    "from torch.utils.data import Dataset, DataLoader\n",
    "from tqdm.notebook import tqdm\n",
    "from sklearn.metrics import f1_score\n",
    "\n",
    "cudnn.benchmark = True\n",
    "plt.ion()   # interactive mode"
   ]
  },
  {
   "cell_type": "code",
   "execution_count": 3,
   "id": "6aba9731-c8b1-4b55-8e13-e0547c767ae2",
   "metadata": {},
   "outputs": [
    {
     "data": {
      "text/plain": [
       "device(type='cuda', index=0)"
      ]
     },
     "execution_count": 3,
     "metadata": {},
     "output_type": "execute_result"
    }
   ],
   "source": [
    "device = torch.device(\"cuda:0\" if torch.cuda.is_available() else \"cpu\") \n",
    "device"
   ]
  },
  {
   "cell_type": "markdown",
   "id": "b899813d-d62e-4c3b-8ffc-beaa7b3ae87a",
   "metadata": {},
   "source": [
    "## Bring csv file with path & label"
   ]
  },
  {
   "cell_type": "code",
   "execution_count": 4,
   "id": "725bd4bc-4e76-4494-92e4-dd337bf4012b",
   "metadata": {
    "tags": []
   },
   "outputs": [],
   "source": [
    "traindata_path = pd.read_csv('train_data.csv')\n",
    "valdata_path = pd.read_csv('val_data.csv')\n",
    "testdata_path = pd.read_csv('test_data.csv')"
   ]
  },
  {
   "cell_type": "code",
   "execution_count": 5,
   "id": "b9d643be-71cb-428f-bb9c-e2c714e71550",
   "metadata": {},
   "outputs": [
    {
     "name": "stdout",
     "output_type": "stream",
     "text": [
      "15126\n"
     ]
    }
   ],
   "source": [
    "print(len(traindata_path))"
   ]
  },
  {
   "cell_type": "markdown",
   "id": "d74c83ba-2933-4e99-a3b9-bd8d08ada37f",
   "metadata": {},
   "source": [
    "## Hyper Parameter\n",
    "Resize([224,224]) - https://www.programcreek.com/python/example/104834/torchvision.transforms.Resize"
   ]
  },
  {
   "cell_type": "code",
   "execution_count": 6,
   "id": "fd944d10-156d-494e-b7b1-9f0af0552c53",
   "metadata": {},
   "outputs": [],
   "source": [
    "transform = transforms.Compose([\n",
    "        transforms.Resize([224,224]),\n",
    "#         transforms.CenterCrop(224),\n",
    "        transforms.ToTensor(),\n",
    "        transforms.Normalize([0.485, 0.456, 0.406], [0.229, 0.224, 0.225])\n",
    "    ])\n",
    "batch_size = 256\n",
    "num_workers = 2"
   ]
  },
  {
   "cell_type": "markdown",
   "id": "94ec44af-367c-4138-a841-a4959962344e",
   "metadata": {},
   "source": [
    "## Dataset"
   ]
  },
  {
   "cell_type": "code",
   "execution_count": 7,
   "id": "e2c0e391-f4d7-41cd-9544-7291bab2c996",
   "metadata": {},
   "outputs": [],
   "source": [
    "def readImage(path_data):\n",
    "    path_to_image = []\n",
    "    for path in path_data:\n",
    "        img = Image.open(path)\n",
    "        path_to_image.append(img)\n",
    "    return path_to_image"
   ]
  },
  {
   "cell_type": "code",
   "execution_count": 8,
   "id": "5c1fc805-496c-4951-bb00-95e53041c36c",
   "metadata": {},
   "outputs": [],
   "source": [
    "class MyDataset(Dataset):\n",
    "    def __init__(self, data, transform, train):\n",
    "        self._repr_indent = 4\n",
    "        self.data = data\n",
    "        self.X = readImage(self.data['img_path'])\n",
    "        self.y = self.data['label']\n",
    "        self.transform = transform\n",
    "        self.train = train\n",
    "        self.classes = list(set(self.y))\n",
    "    \n",
    "    def __getitem__(self, idx):\n",
    "        X, y = self.X[idx], None\n",
    "#         X, y = self.X[idx], -1\n",
    "\n",
    "        if self.transform:\n",
    "            X = self.transform(X)\n",
    "        if self.train:\n",
    "            y = self.y[idx]\n",
    "\n",
    "        return X,y\n",
    "#         return torch.tensor(X), torch.tensor(y)\n",
    "#         return X.clone().detach(), y.clone().detach()\n",
    "    \n",
    "    def __len__(self):\n",
    "        return len(self.X)\n",
    "    \n",
    "    def __repr__(self):\n",
    "        '''\n",
    "        https://github.com/pytorch/vision/blob/master/torchvision/datasets/vision.py\n",
    "        '''\n",
    "        head = \"My Custom Dataset : Mask Dataset\"\n",
    "        num_data = self._repr_indent*\" \" + \"Number of datapoints: {}\".format(self.__len__())\n",
    "        num_classes = self._repr_indent*\" \" + \"Number of classes: {}\".format(len(self.classes))\n",
    "        return '\\n'.join([head, num_data, num_classes])"
   ]
  },
  {
   "cell_type": "code",
   "execution_count": 9,
   "id": "be4c8d51-df06-465b-86c8-b7247c29957e",
   "metadata": {},
   "outputs": [],
   "source": [
    "train_dataset = MyDataset(\n",
    "    data = traindata_path,\n",
    "    transform = transform,\n",
    "    train = True\n",
    ")\n",
    "val_dataset = MyDataset(\n",
    "    data = valdata_path,\n",
    "    transform = transform,\n",
    "    train = True\n",
    ")\n",
    "test_dataset = MyDataset(\n",
    "    data = testdata_path,\n",
    "    transform = transform,\n",
    "    train = False\n",
    ")"
   ]
  },
  {
   "cell_type": "code",
   "execution_count": 37,
   "id": "b53fb9fd-3c09-48a0-9005-586e93ae7429",
   "metadata": {},
   "outputs": [
    {
     "data": {
      "text/plain": [
       "My Custom Dataset : Mask Dataset\n",
       "    Number of datapoints: 15126\n",
       "    Number of classes: 18"
      ]
     },
     "execution_count": 37,
     "metadata": {},
     "output_type": "execute_result"
    }
   ],
   "source": [
    "train_dataset"
   ]
  },
  {
   "cell_type": "code",
   "execution_count": 11,
   "id": "df25099f-5b7b-4588-87cf-8862076332f7",
   "metadata": {},
   "outputs": [
    {
     "data": {
      "text/plain": [
       "My Custom Dataset : Mask Dataset\n",
       "    Number of datapoints: 3774\n",
       "    Number of classes: 18"
      ]
     },
     "execution_count": 11,
     "metadata": {},
     "output_type": "execute_result"
    }
   ],
   "source": [
    "val_dataset"
   ]
  },
  {
   "cell_type": "code",
   "execution_count": 12,
   "id": "8e03e2ce-9dc0-44d7-b58f-2ab50aa0534f",
   "metadata": {},
   "outputs": [
    {
     "data": {
      "text/plain": [
       "My Custom Dataset : Mask Dataset\n",
       "    Number of datapoints: 12600\n",
       "    Number of classes: 1"
      ]
     },
     "execution_count": 12,
     "metadata": {},
     "output_type": "execute_result"
    }
   ],
   "source": [
    "test_dataset"
   ]
  },
  {
   "cell_type": "markdown",
   "id": "5e0ae916-2a67-4d05-a46b-8f412295c28a",
   "metadata": {},
   "source": [
    "## DataLoader"
   ]
  },
  {
   "cell_type": "code",
   "execution_count": 13,
   "id": "d0816b21-d0e5-41ee-8697-44ef89557cac",
   "metadata": {
    "tags": []
   },
   "outputs": [],
   "source": [
    "train_loader = torch.utils.data.DataLoader(\n",
    "    train_dataset,\n",
    "    batch_size = batch_size,\n",
    "    num_workers = num_workers,\n",
    "    shuffle = True,\n",
    "    drop_last = False\n",
    ")\n",
    "val_loader = torch.utils.data.DataLoader(\n",
    "    val_dataset,\n",
    "    batch_size = batch_size,\n",
    "    num_workers = num_workers,\n",
    "    shuffle = True,\n",
    "    drop_last = False\n",
    ")\n",
    "test_loader = torch.utils.data.DataLoader(\n",
    "    test_dataset,\n",
    "    batch_size = batch_size,\n",
    "    num_workers = num_workers,\n",
    "    shuffle = True,\n",
    "    drop_last = False\n",
    ")"
   ]
  },
  {
   "cell_type": "code",
   "execution_count": 14,
   "id": "8dcc9587-3a71-415c-bfd8-2d1dae892706",
   "metadata": {},
   "outputs": [],
   "source": [
    "dataloaders = {\n",
    "    'train': train_loader,\n",
    "    'val': val_loader,\n",
    "    'test': test_loader\n",
    "}"
   ]
  },
  {
   "cell_type": "code",
   "execution_count": 15,
   "id": "4479feb8-8031-4112-9ce6-69c4b03a97d4",
   "metadata": {},
   "outputs": [
    {
     "data": {
      "text/plain": [
       "{'train': <torch.utils.data.dataloader.DataLoader at 0x7facd0c34fd0>,\n",
       " 'val': <torch.utils.data.dataloader.DataLoader at 0x7facd0c34d90>,\n",
       " 'test': <torch.utils.data.dataloader.DataLoader at 0x7facd0c4e0d0>}"
      ]
     },
     "execution_count": 15,
     "metadata": {},
     "output_type": "execute_result"
    }
   ],
   "source": [
    "dataloaders"
   ]
  },
  {
   "cell_type": "markdown",
   "id": "53ba0a92-a22b-4cff-afd7-ba615c6b3ec1",
   "metadata": {
    "tags": []
   },
   "source": [
    "## Model\n",
    "model 생성 및 확인 - https://towardsdatascience.com/getting-started-with-pytorch-image-models-timm-a-practitioners-guide-4e77b4bf9055"
   ]
  },
  {
   "cell_type": "code",
   "execution_count": 16,
   "id": "72b6efeb-daf6-42b8-89e3-3e7c24b7e6b7",
   "metadata": {},
   "outputs": [],
   "source": [
    "# timm.list_models('*vit*',pretrained=True)"
   ]
  },
  {
   "cell_type": "code",
   "execution_count": 28,
   "id": "a76e4550-8f33-4f11-9344-314561737c7e",
   "metadata": {},
   "outputs": [],
   "source": [
    "model = timm.create_model('vit_small_patch16_224', pretrained=True, num_classes=18)\n",
    "\n",
    "# num_ftrs = model.fc.in_features\n",
    "# model.fc = nn.Linear(num_ftrs, 18)\n",
    "\n",
    "# model.get_classifier()"
   ]
  },
  {
   "cell_type": "code",
   "execution_count": 18,
   "id": "345fff97-e1ed-467a-89f7-aee3d5a17fe4",
   "metadata": {},
   "outputs": [],
   "source": [
    "# model(torch.randn(64,3,224,224)).shape"
   ]
  },
  {
   "cell_type": "code",
   "execution_count": 29,
   "id": "06cfee04-1b54-4943-9678-9bdbf848bfe3",
   "metadata": {},
   "outputs": [],
   "source": [
    "model = model.to(device)\n",
    "\n",
    "loss_fn = torch.nn.CrossEntropyLoss() \n",
    "\n",
    "# Observe that all parameters are being optimized\n",
    "optimizer = torch.optim.Adam(model.parameters(), lr=0.0001)\n",
    "exp_lr_scheduler = lr_scheduler.StepLR(optimizer, step_size=7, gamma=0.1)"
   ]
  },
  {
   "cell_type": "code",
   "execution_count": 30,
   "id": "8664b89f-c2f0-4751-a531-f6de86509518",
   "metadata": {},
   "outputs": [],
   "source": [
    "# model.default_cfg"
   ]
  },
  {
   "cell_type": "code",
   "execution_count": 31,
   "id": "8fa6b470-f902-475b-8c63-febf116ee611",
   "metadata": {},
   "outputs": [],
   "source": [
    "import torchsummary\n",
    "# torchsummary.summary(model,(3,224,224))"
   ]
  },
  {
   "cell_type": "markdown",
   "id": "dad914c2-5091-4816-a4be-aa76930b6284",
   "metadata": {},
   "source": [
    "## Train\n",
    "transfer learning train model - https://pytorch.org/tutorials/beginner/transfer_learning_tutorial.html   \n",
    "save checkpoint - https://tutorials.pytorch.kr/recipes/recipes/saving_and_loading_a_general_checkpoint.html   \n",
    "f1 score - https://eunsukimme.github.io/ml/2019/10/21/Accuracy-Recall-Precision-F1-score/   "
   ]
  },
  {
   "cell_type": "code",
   "execution_count": 32,
   "id": "61a606d7-58d8-482c-b97e-b4c0f3920c3f",
   "metadata": {},
   "outputs": [],
   "source": [
    "from PIL import ImageFile\n",
    "ImageFile.LOAD_TRUNCATED_IMAGES = True"
   ]
  },
  {
   "cell_type": "code",
   "execution_count": 35,
   "id": "b3ecd948-f7fa-4021-bf30-829134347c40",
   "metadata": {},
   "outputs": [],
   "source": [
    "def train_model(model, loss_fn, optimizer, scheduler, num_epochs=25):\n",
    "    NUM_ACC = 2\n",
    "    since = time.time()   \n",
    "    best_acc = 0.0\n",
    "\n",
    "    for epoch in range(num_epochs):\n",
    "        # Each epoch has a training and validation phase\n",
    "        for phase in [\"train\", \"val\"]:\n",
    "            i=0\n",
    "            running_loss = 0.\n",
    "            running_acc = 0.\n",
    "            if phase == \"train\":\n",
    "                model.train() \n",
    "            elif phase == \"val\":\n",
    "                model.eval() \n",
    "            optimizer.zero_grad() \n",
    "\n",
    "            for images, labels in tqdm(dataloaders[phase]):\n",
    "                images = images.to(device)\n",
    "                labels = labels.to(device)\n",
    "\n",
    "                with torch.set_grad_enabled(phase == \"train\"):\n",
    "                    logits = model(images)\n",
    "                    _, preds = torch.max(logits, 1)\n",
    "                    loss = loss_fn(logits, labels)\n",
    "\n",
    "                    if phase == \"train\":\n",
    "                        loss.backward() \n",
    "                        i+=1\n",
    "                        if i % NUM_ACC ==0: \n",
    "                            optimizer.step() \n",
    "                            optimizer.zero_grad() \n",
    "\n",
    "                running_loss += loss.item() * images.size(0) \n",
    "                running_acc += torch.sum(preds == labels.data)\n",
    "            if phase == 'train':\n",
    "                scheduler.step()\n",
    "\n",
    "            epoch_loss = running_loss / len(dataloaders[phase].dataset) \n",
    "            epoch_acc = running_acc / len(dataloaders[phase].dataset)\n",
    "            print('Epoch {}/{} - {} Loss: {:.4f} Acc: {:.4f} '.format(epoch, num_epochs-1, phase, epoch_loss, epoch_acc))\n",
    "            \n",
    "            # deep copy the model\n",
    "            if phase == 'val' and epoch_acc > best_acc:\n",
    "                best_acc = epoch_acc\n",
    "        print()\n",
    "\n",
    "    time_elapsed = time.time() - since\n",
    "    print('Training complete in {:.0f}m {:.0f}s'.format(time_elapsed // 60, time_elapsed % 60))\n",
    "    print('Best val Acc: {:4f}'.format(best_acc))\n",
    "\n",
    "    return model"
   ]
  },
  {
   "cell_type": "code",
   "execution_count": 36,
   "id": "3ac7b221-b81e-4906-9774-6201932c37e1",
   "metadata": {},
   "outputs": [
    {
     "data": {
      "application/vnd.jupyter.widget-view+json": {
       "model_id": "1550132d8b974e8b813edd3d5bf463d5",
       "version_major": 2,
       "version_minor": 0
      },
      "text/plain": [
       "HBox(children=(HTML(value=''), FloatProgress(value=0.0, max=60.0), HTML(value='')))"
      ]
     },
     "metadata": {},
     "output_type": "display_data"
    },
    {
     "name": "stdout",
     "output_type": "stream",
     "text": [
      "\n",
      "Epoch 0/9 - train Loss: 1.3235 Acc: 0.5731 \n"
     ]
    },
    {
     "data": {
      "application/vnd.jupyter.widget-view+json": {
       "model_id": "caa3d08816ff479a892ffedf49bcefda",
       "version_major": 2,
       "version_minor": 0
      },
      "text/plain": [
       "HBox(children=(HTML(value=''), FloatProgress(value=0.0, max=15.0), HTML(value='')))"
      ]
     },
     "metadata": {},
     "output_type": "display_data"
    },
    {
     "name": "stdout",
     "output_type": "stream",
     "text": [
      "\n",
      "Epoch 0/9 - val Loss: 2.1211 Acc: 0.3718 \n",
      "\n"
     ]
    },
    {
     "data": {
      "application/vnd.jupyter.widget-view+json": {
       "model_id": "b873ce0156684752a69f977b20766d3c",
       "version_major": 2,
       "version_minor": 0
      },
      "text/plain": [
       "HBox(children=(HTML(value=''), FloatProgress(value=0.0, max=60.0), HTML(value='')))"
      ]
     },
     "metadata": {},
     "output_type": "display_data"
    },
    {
     "name": "stdout",
     "output_type": "stream",
     "text": [
      "\n",
      "Epoch 1/9 - train Loss: 1.0050 Acc: 0.6655 \n"
     ]
    },
    {
     "data": {
      "application/vnd.jupyter.widget-view+json": {
       "model_id": "8843520017e242d98e2c2efb66c15578",
       "version_major": 2,
       "version_minor": 0
      },
      "text/plain": [
       "HBox(children=(HTML(value=''), FloatProgress(value=0.0, max=15.0), HTML(value='')))"
      ]
     },
     "metadata": {},
     "output_type": "display_data"
    },
    {
     "name": "stdout",
     "output_type": "stream",
     "text": [
      "\n",
      "Epoch 1/9 - val Loss: 1.5545 Acc: 0.5040 \n",
      "\n"
     ]
    },
    {
     "data": {
      "application/vnd.jupyter.widget-view+json": {
       "model_id": "030c8662a5974e99a7f54da6c252b0b6",
       "version_major": 2,
       "version_minor": 0
      },
      "text/plain": [
       "HBox(children=(HTML(value=''), FloatProgress(value=0.0, max=60.0), HTML(value='')))"
      ]
     },
     "metadata": {},
     "output_type": "display_data"
    },
    {
     "name": "stdout",
     "output_type": "stream",
     "text": [
      "\n",
      "Epoch 2/9 - train Loss: 0.7675 Acc: 0.7350 \n"
     ]
    },
    {
     "data": {
      "application/vnd.jupyter.widget-view+json": {
       "model_id": "e2f57add2e024f8d82322634bcd00635",
       "version_major": 2,
       "version_minor": 0
      },
      "text/plain": [
       "HBox(children=(HTML(value=''), FloatProgress(value=0.0, max=15.0), HTML(value='')))"
      ]
     },
     "metadata": {},
     "output_type": "display_data"
    },
    {
     "name": "stdout",
     "output_type": "stream",
     "text": [
      "\n",
      "Epoch 2/9 - val Loss: 1.6621 Acc: 0.4624 \n",
      "\n"
     ]
    },
    {
     "data": {
      "application/vnd.jupyter.widget-view+json": {
       "model_id": "43f9ff6e0aa849e0891fcb41c6b68f75",
       "version_major": 2,
       "version_minor": 0
      },
      "text/plain": [
       "HBox(children=(HTML(value=''), FloatProgress(value=0.0, max=60.0), HTML(value='')))"
      ]
     },
     "metadata": {},
     "output_type": "display_data"
    },
    {
     "name": "stdout",
     "output_type": "stream",
     "text": [
      "\n",
      "Epoch 3/9 - train Loss: 0.5245 Acc: 0.8246 \n"
     ]
    },
    {
     "data": {
      "application/vnd.jupyter.widget-view+json": {
       "model_id": "b168176362984afab315288511333010",
       "version_major": 2,
       "version_minor": 0
      },
      "text/plain": [
       "HBox(children=(HTML(value=''), FloatProgress(value=0.0, max=15.0), HTML(value='')))"
      ]
     },
     "metadata": {},
     "output_type": "display_data"
    },
    {
     "name": "stdout",
     "output_type": "stream",
     "text": [
      "\n",
      "Epoch 3/9 - val Loss: 1.8401 Acc: 0.4518 \n",
      "\n"
     ]
    },
    {
     "data": {
      "application/vnd.jupyter.widget-view+json": {
       "model_id": "1ed9d06dcbe740e6bb6a6a7dd1980bb5",
       "version_major": 2,
       "version_minor": 0
      },
      "text/plain": [
       "HBox(children=(HTML(value=''), FloatProgress(value=0.0, max=60.0), HTML(value='')))"
      ]
     },
     "metadata": {},
     "output_type": "display_data"
    },
    {
     "name": "stdout",
     "output_type": "stream",
     "text": [
      "\n",
      "Epoch 4/9 - train Loss: 0.3143 Acc: 0.9103 \n"
     ]
    },
    {
     "data": {
      "application/vnd.jupyter.widget-view+json": {
       "model_id": "ae4cea6816ce4ba29443caa35d684e50",
       "version_major": 2,
       "version_minor": 0
      },
      "text/plain": [
       "HBox(children=(HTML(value=''), FloatProgress(value=0.0, max=15.0), HTML(value='')))"
      ]
     },
     "metadata": {},
     "output_type": "display_data"
    },
    {
     "name": "stdout",
     "output_type": "stream",
     "text": [
      "\n",
      "Epoch 4/9 - val Loss: 1.9170 Acc: 0.4610 \n",
      "\n"
     ]
    },
    {
     "data": {
      "application/vnd.jupyter.widget-view+json": {
       "model_id": "086ff77abdb7444c9df408e8fb430850",
       "version_major": 2,
       "version_minor": 0
      },
      "text/plain": [
       "HBox(children=(HTML(value=''), FloatProgress(value=0.0, max=60.0), HTML(value='')))"
      ]
     },
     "metadata": {},
     "output_type": "display_data"
    },
    {
     "name": "stdout",
     "output_type": "stream",
     "text": [
      "\n",
      "Epoch 5/9 - train Loss: 0.1900 Acc: 0.9546 \n"
     ]
    },
    {
     "data": {
      "application/vnd.jupyter.widget-view+json": {
       "model_id": "011176bf43744d3e9a1c73b2472e6cf1",
       "version_major": 2,
       "version_minor": 0
      },
      "text/plain": [
       "HBox(children=(HTML(value=''), FloatProgress(value=0.0, max=15.0), HTML(value='')))"
      ]
     },
     "metadata": {},
     "output_type": "display_data"
    },
    {
     "name": "stdout",
     "output_type": "stream",
     "text": [
      "\n",
      "Epoch 5/9 - val Loss: 2.1379 Acc: 0.4576 \n",
      "\n"
     ]
    },
    {
     "data": {
      "application/vnd.jupyter.widget-view+json": {
       "model_id": "0528c2b6c6bc4c00ac38898ec841ae4d",
       "version_major": 2,
       "version_minor": 0
      },
      "text/plain": [
       "HBox(children=(HTML(value=''), FloatProgress(value=0.0, max=60.0), HTML(value='')))"
      ]
     },
     "metadata": {},
     "output_type": "display_data"
    },
    {
     "name": "stdout",
     "output_type": "stream",
     "text": [
      "\n",
      "Epoch 6/9 - train Loss: 0.1211 Acc: 0.9734 \n"
     ]
    },
    {
     "data": {
      "application/vnd.jupyter.widget-view+json": {
       "model_id": "fb567ae03eec48cfa4a267ef385e668b",
       "version_major": 2,
       "version_minor": 0
      },
      "text/plain": [
       "HBox(children=(HTML(value=''), FloatProgress(value=0.0, max=15.0), HTML(value='')))"
      ]
     },
     "metadata": {},
     "output_type": "display_data"
    },
    {
     "name": "stdout",
     "output_type": "stream",
     "text": [
      "\n",
      "Epoch 6/9 - val Loss: 2.4395 Acc: 0.4531 \n",
      "\n"
     ]
    },
    {
     "data": {
      "application/vnd.jupyter.widget-view+json": {
       "model_id": "f50ef2abe3ba4ac8800e351a560750b0",
       "version_major": 2,
       "version_minor": 0
      },
      "text/plain": [
       "HBox(children=(HTML(value=''), FloatProgress(value=0.0, max=60.0), HTML(value='')))"
      ]
     },
     "metadata": {},
     "output_type": "display_data"
    },
    {
     "name": "stdout",
     "output_type": "stream",
     "text": [
      "\n",
      "Epoch 7/9 - train Loss: 0.0646 Acc: 0.9868 \n"
     ]
    },
    {
     "data": {
      "application/vnd.jupyter.widget-view+json": {
       "model_id": "e7e4ba7e286b476fa2d3450d85d0bd0b",
       "version_major": 2,
       "version_minor": 0
      },
      "text/plain": [
       "HBox(children=(HTML(value=''), FloatProgress(value=0.0, max=15.0), HTML(value='')))"
      ]
     },
     "metadata": {},
     "output_type": "display_data"
    },
    {
     "name": "stdout",
     "output_type": "stream",
     "text": [
      "\n",
      "Epoch 7/9 - val Loss: 2.3542 Acc: 0.4568 \n",
      "\n"
     ]
    },
    {
     "data": {
      "application/vnd.jupyter.widget-view+json": {
       "model_id": "a67cdfe3006c4ca3b2a28083d69001be",
       "version_major": 2,
       "version_minor": 0
      },
      "text/plain": [
       "HBox(children=(HTML(value=''), FloatProgress(value=0.0, max=60.0), HTML(value='')))"
      ]
     },
     "metadata": {},
     "output_type": "display_data"
    },
    {
     "name": "stdout",
     "output_type": "stream",
     "text": [
      "\n",
      "Epoch 8/9 - train Loss: 0.0474 Acc: 0.9911 \n"
     ]
    },
    {
     "data": {
      "application/vnd.jupyter.widget-view+json": {
       "model_id": "289716dc06f64ffab51ce3dc9463166d",
       "version_major": 2,
       "version_minor": 0
      },
      "text/plain": [
       "HBox(children=(HTML(value=''), FloatProgress(value=0.0, max=15.0), HTML(value='')))"
      ]
     },
     "metadata": {},
     "output_type": "display_data"
    },
    {
     "name": "stdout",
     "output_type": "stream",
     "text": [
      "\n",
      "Epoch 8/9 - val Loss: 2.3759 Acc: 0.4645 \n",
      "\n"
     ]
    },
    {
     "data": {
      "application/vnd.jupyter.widget-view+json": {
       "model_id": "21377fd5f37a42469dc7781f7ab6a846",
       "version_major": 2,
       "version_minor": 0
      },
      "text/plain": [
       "HBox(children=(HTML(value=''), FloatProgress(value=0.0, max=60.0), HTML(value='')))"
      ]
     },
     "metadata": {},
     "output_type": "display_data"
    },
    {
     "name": "stdout",
     "output_type": "stream",
     "text": [
      "\n",
      "Epoch 9/9 - train Loss: 0.0415 Acc: 0.9917 \n"
     ]
    },
    {
     "data": {
      "application/vnd.jupyter.widget-view+json": {
       "model_id": "05e5accca37e4222accee6a16c45b6e3",
       "version_major": 2,
       "version_minor": 0
      },
      "text/plain": [
       "HBox(children=(HTML(value=''), FloatProgress(value=0.0, max=15.0), HTML(value='')))"
      ]
     },
     "metadata": {},
     "output_type": "display_data"
    },
    {
     "name": "stdout",
     "output_type": "stream",
     "text": [
      "\n",
      "Epoch 9/9 - val Loss: 2.3901 Acc: 0.4693 \n",
      "\n",
      "Training complete in 10m 38s\n",
      "Best val Acc: 0.503975\n"
     ]
    }
   ],
   "source": [
    "model = train_model(model, loss_fn, optimizer, exp_lr_scheduler, num_epochs=10)"
   ]
  },
  {
   "cell_type": "code",
   "execution_count": null,
   "id": "12f4a552-ef02-43d2-a81e-54edee0b106e",
   "metadata": {},
   "outputs": [],
   "source": []
  }
 ],
 "metadata": {
  "kernelspec": {
   "display_name": "Python 3 (ipykernel)",
   "language": "python",
   "name": "python3"
  },
  "language_info": {
   "codemirror_mode": {
    "name": "ipython",
    "version": 3
   },
   "file_extension": ".py",
   "mimetype": "text/x-python",
   "name": "python",
   "nbconvert_exporter": "python",
   "pygments_lexer": "ipython3",
   "version": "3.8.5"
  }
 },
 "nbformat": 4,
 "nbformat_minor": 5
}
