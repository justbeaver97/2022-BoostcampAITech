{
 "cells": [
  {
   "cell_type": "markdown",
   "id": "15ac0276-4be2-46f9-95e0-4f7d63ac1570",
   "metadata": {},
   "source": [
    "## Import Libraries"
   ]
  },
  {
   "cell_type": "code",
   "execution_count": 1,
   "id": "5583bce5-f0d1-4cee-97ab-dbb3b40c2d03",
   "metadata": {},
   "outputs": [],
   "source": [
    "import os\n",
    "import time\n",
    "import copy\n",
    "\n",
    "\n",
    "# 데이터 분석 라이브러리\n",
    "import numpy as np\n",
    "import pandas as pd\n",
    "\n",
    "# 시각화 라이브러리\n",
    "import matplotlib as mpl\n",
    "import matplotlib.pyplot as plt\n",
    "\n",
    "from PIL import Image"
   ]
  },
  {
   "cell_type": "code",
   "execution_count": 2,
   "id": "6b91bbd8-ce22-43a2-9802-43896ac421ae",
   "metadata": {},
   "outputs": [],
   "source": [
    "import torch\n",
    "import torch.nn as nn\n",
    "import torch.optim as optim\n",
    "import torch.backends.cudnn as cudnn\n",
    "import timm\n",
    "\n",
    "from __future__ import print_function, division\n",
    "from torch.optim import lr_scheduler\n",
    "from torchvision import transforms, models\n",
    "from torch.utils.data import Dataset, DataLoader\n",
    "from tqdm.notebook import tqdm\n",
    "from sklearn.metrics import f1_score\n",
    "\n",
    "cudnn.benchmark = True\n",
    "plt.ion()   # interactive mode"
   ]
  },
  {
   "cell_type": "code",
   "execution_count": 3,
   "id": "6aba9731-c8b1-4b55-8e13-e0547c767ae2",
   "metadata": {},
   "outputs": [
    {
     "data": {
      "text/plain": [
       "device(type='cuda', index=0)"
      ]
     },
     "execution_count": 3,
     "metadata": {},
     "output_type": "execute_result"
    }
   ],
   "source": [
    "device = torch.device(\"cuda:0\" if torch.cuda.is_available() else \"cpu\") \n",
    "device"
   ]
  },
  {
   "cell_type": "markdown",
   "id": "b899813d-d62e-4c3b-8ffc-beaa7b3ae87a",
   "metadata": {},
   "source": [
    "## Bring csv file with path & label"
   ]
  },
  {
   "cell_type": "code",
   "execution_count": 4,
   "id": "725bd4bc-4e76-4494-92e4-dd337bf4012b",
   "metadata": {
    "tags": []
   },
   "outputs": [],
   "source": [
    "traindata_path = pd.read_csv('train_data.csv')\n",
    "valdata_path = pd.read_csv('val_data.csv')\n",
    "testdata_path = pd.read_csv('test_data.csv')"
   ]
  },
  {
   "cell_type": "code",
   "execution_count": 5,
   "id": "b9d643be-71cb-428f-bb9c-e2c714e71550",
   "metadata": {},
   "outputs": [
    {
     "name": "stdout",
     "output_type": "stream",
     "text": [
      "15126\n"
     ]
    }
   ],
   "source": [
    "print(len(traindata_path))"
   ]
  },
  {
   "cell_type": "markdown",
   "id": "d74c83ba-2933-4e99-a3b9-bd8d08ada37f",
   "metadata": {},
   "source": [
    "## Hyper Parameter\n",
    "Resize([224,224]) - https://www.programcreek.com/python/example/104834/torchvision.transforms.Resize"
   ]
  },
  {
   "cell_type": "code",
   "execution_count": 6,
   "id": "fd944d10-156d-494e-b7b1-9f0af0552c53",
   "metadata": {},
   "outputs": [],
   "source": [
    "transform = transforms.Compose([\n",
    "        transforms.Resize([224,224]),\n",
    "#         transforms.CenterCrop(224),\n",
    "        transforms.ToTensor(),\n",
    "        transforms.Normalize([0.485, 0.456, 0.406], [0.229, 0.224, 0.225])\n",
    "    ])\n",
    "batch_size = 256\n",
    "num_workers = 2"
   ]
  },
  {
   "cell_type": "markdown",
   "id": "94ec44af-367c-4138-a841-a4959962344e",
   "metadata": {},
   "source": [
    "## Dataset"
   ]
  },
  {
   "cell_type": "code",
   "execution_count": 7,
   "id": "e2c0e391-f4d7-41cd-9544-7291bab2c996",
   "metadata": {},
   "outputs": [],
   "source": [
    "def readImage(path_data):\n",
    "    path_to_image = []\n",
    "    for path in path_data:\n",
    "        img = Image.open(path)\n",
    "        path_to_image.append(img)\n",
    "    return path_to_image"
   ]
  },
  {
   "cell_type": "code",
   "execution_count": 8,
   "id": "5c1fc805-496c-4951-bb00-95e53041c36c",
   "metadata": {},
   "outputs": [],
   "source": [
    "class MyDataset(Dataset):\n",
    "    def __init__(self, data, transform, train):\n",
    "        self._repr_indent = 4\n",
    "        self.data = data\n",
    "        self.X = readImage(self.data['img_path'])\n",
    "        self.y = self.data['label']\n",
    "        self.transform = transform\n",
    "        self.train = train\n",
    "        self.classes = list(set(self.y))\n",
    "    \n",
    "    def __getitem__(self, idx):\n",
    "        X, y = self.X[idx], None\n",
    "#         X, y = self.X[idx], -1\n",
    "\n",
    "        if self.transform:\n",
    "            X = self.transform(X)\n",
    "        if self.train:\n",
    "            y = self.y[idx]\n",
    "\n",
    "        return X,y\n",
    "#         return torch.tensor(X), torch.tensor(y)\n",
    "#         return X.clone().detach(), y.clone().detach()\n",
    "    \n",
    "    def __len__(self):\n",
    "        return len(self.X)\n",
    "    \n",
    "    def __repr__(self):\n",
    "        '''\n",
    "        https://github.com/pytorch/vision/blob/master/torchvision/datasets/vision.py\n",
    "        '''\n",
    "        head = \"My Custom Dataset : Mask Dataset\"\n",
    "        num_data = self._repr_indent*\" \" + \"Number of datapoints: {}\".format(self.__len__())\n",
    "        num_classes = self._repr_indent*\" \" + \"Number of classes: {}\".format(len(self.classes))\n",
    "        return '\\n'.join([head, num_data, num_classes])"
   ]
  },
  {
   "cell_type": "code",
   "execution_count": 9,
   "id": "be4c8d51-df06-465b-86c8-b7247c29957e",
   "metadata": {},
   "outputs": [],
   "source": [
    "train_dataset = MyDataset(\n",
    "    data = traindata_path,\n",
    "    transform = transform,\n",
    "    train = True\n",
    ")\n",
    "val_dataset = MyDataset(\n",
    "    data = valdata_path,\n",
    "    transform = transform,\n",
    "    train = True\n",
    ")\n",
    "test_dataset = MyDataset(\n",
    "    data = testdata_path,\n",
    "    transform = transform,\n",
    "    train = False\n",
    ")"
   ]
  },
  {
   "cell_type": "code",
   "execution_count": 10,
   "id": "b53fb9fd-3c09-48a0-9005-586e93ae7429",
   "metadata": {},
   "outputs": [
    {
     "data": {
      "text/plain": [
       "My Custom Dataset : Mask Dataset\n",
       "    Number of datapoints: 15126\n",
       "    Number of classes: 18"
      ]
     },
     "execution_count": 10,
     "metadata": {},
     "output_type": "execute_result"
    }
   ],
   "source": [
    "train_dataset"
   ]
  },
  {
   "cell_type": "code",
   "execution_count": 11,
   "id": "df25099f-5b7b-4588-87cf-8862076332f7",
   "metadata": {},
   "outputs": [
    {
     "data": {
      "text/plain": [
       "My Custom Dataset : Mask Dataset\n",
       "    Number of datapoints: 3774\n",
       "    Number of classes: 18"
      ]
     },
     "execution_count": 11,
     "metadata": {},
     "output_type": "execute_result"
    }
   ],
   "source": [
    "val_dataset"
   ]
  },
  {
   "cell_type": "code",
   "execution_count": 12,
   "id": "8e03e2ce-9dc0-44d7-b58f-2ab50aa0534f",
   "metadata": {},
   "outputs": [
    {
     "data": {
      "text/plain": [
       "My Custom Dataset : Mask Dataset\n",
       "    Number of datapoints: 12600\n",
       "    Number of classes: 1"
      ]
     },
     "execution_count": 12,
     "metadata": {},
     "output_type": "execute_result"
    }
   ],
   "source": [
    "test_dataset"
   ]
  },
  {
   "cell_type": "markdown",
   "id": "5e0ae916-2a67-4d05-a46b-8f412295c28a",
   "metadata": {},
   "source": [
    "## DataLoader"
   ]
  },
  {
   "cell_type": "code",
   "execution_count": 13,
   "id": "d0816b21-d0e5-41ee-8697-44ef89557cac",
   "metadata": {
    "tags": []
   },
   "outputs": [],
   "source": [
    "train_loader = torch.utils.data.DataLoader(\n",
    "    train_dataset,\n",
    "    batch_size = batch_size,\n",
    "    num_workers = num_workers,\n",
    "    shuffle = True,\n",
    "    drop_last = False\n",
    ")\n",
    "val_loader = torch.utils.data.DataLoader(\n",
    "    val_dataset,\n",
    "    batch_size = batch_size,\n",
    "    num_workers = num_workers,\n",
    "    shuffle = True,\n",
    "    drop_last = False\n",
    ")\n",
    "test_loader = torch.utils.data.DataLoader(\n",
    "    test_dataset,\n",
    "    batch_size = batch_size,\n",
    "    num_workers = num_workers,\n",
    "    shuffle = True,\n",
    "    drop_last = False\n",
    ")"
   ]
  },
  {
   "cell_type": "code",
   "execution_count": 14,
   "id": "8dcc9587-3a71-415c-bfd8-2d1dae892706",
   "metadata": {},
   "outputs": [],
   "source": [
    "dataloaders = {\n",
    "    'train': train_loader,\n",
    "    'val': val_loader,\n",
    "    'test': test_loader\n",
    "}"
   ]
  },
  {
   "cell_type": "code",
   "execution_count": 15,
   "id": "4479feb8-8031-4112-9ce6-69c4b03a97d4",
   "metadata": {},
   "outputs": [
    {
     "data": {
      "text/plain": [
       "{'train': <torch.utils.data.dataloader.DataLoader at 0x7fe2d4af6310>,\n",
       " 'val': <torch.utils.data.dataloader.DataLoader at 0x7fe2d4af6370>,\n",
       " 'test': <torch.utils.data.dataloader.DataLoader at 0x7fe2d4af6460>}"
      ]
     },
     "execution_count": 15,
     "metadata": {},
     "output_type": "execute_result"
    }
   ],
   "source": [
    "dataloaders"
   ]
  },
  {
   "cell_type": "markdown",
   "id": "53ba0a92-a22b-4cff-afd7-ba615c6b3ec1",
   "metadata": {
    "tags": []
   },
   "source": [
    "## Model\n",
    "model 생성 및 확인 - https://towardsdatascience.com/getting-started-with-pytorch-image-models-timm-a-practitioners-guide-4e77b4bf9055"
   ]
  },
  {
   "cell_type": "code",
   "execution_count": 16,
   "id": "72b6efeb-daf6-42b8-89e3-3e7c24b7e6b7",
   "metadata": {},
   "outputs": [
    {
     "data": {
      "text/plain": [
       "['convit_base',\n",
       " 'convit_small',\n",
       " 'convit_tiny',\n",
       " 'crossvit_9_240',\n",
       " 'crossvit_9_dagger_240',\n",
       " 'crossvit_15_240',\n",
       " 'crossvit_15_dagger_240',\n",
       " 'crossvit_15_dagger_408',\n",
       " 'crossvit_18_240',\n",
       " 'crossvit_18_dagger_240',\n",
       " 'crossvit_18_dagger_408',\n",
       " 'crossvit_base_240',\n",
       " 'crossvit_small_240',\n",
       " 'crossvit_tiny_240',\n",
       " 'levit_128',\n",
       " 'levit_128s',\n",
       " 'levit_192',\n",
       " 'levit_256',\n",
       " 'levit_384',\n",
       " 'vit_base_patch8_224',\n",
       " 'vit_base_patch8_224_in21k',\n",
       " 'vit_base_patch16_224',\n",
       " 'vit_base_patch16_224_in21k',\n",
       " 'vit_base_patch16_224_miil',\n",
       " 'vit_base_patch16_224_miil_in21k',\n",
       " 'vit_base_patch16_384',\n",
       " 'vit_base_patch16_sam_224',\n",
       " 'vit_base_patch32_224',\n",
       " 'vit_base_patch32_224_in21k',\n",
       " 'vit_base_patch32_384',\n",
       " 'vit_base_patch32_sam_224',\n",
       " 'vit_base_r50_s16_224_in21k',\n",
       " 'vit_base_r50_s16_384',\n",
       " 'vit_huge_patch14_224_in21k',\n",
       " 'vit_large_patch16_224',\n",
       " 'vit_large_patch16_224_in21k',\n",
       " 'vit_large_patch16_384',\n",
       " 'vit_large_patch32_224_in21k',\n",
       " 'vit_large_patch32_384',\n",
       " 'vit_large_r50_s32_224',\n",
       " 'vit_large_r50_s32_224_in21k',\n",
       " 'vit_large_r50_s32_384',\n",
       " 'vit_small_patch16_224',\n",
       " 'vit_small_patch16_224_in21k',\n",
       " 'vit_small_patch16_384',\n",
       " 'vit_small_patch32_224',\n",
       " 'vit_small_patch32_224_in21k',\n",
       " 'vit_small_patch32_384',\n",
       " 'vit_small_r26_s32_224',\n",
       " 'vit_small_r26_s32_224_in21k',\n",
       " 'vit_small_r26_s32_384',\n",
       " 'vit_tiny_patch16_224',\n",
       " 'vit_tiny_patch16_224_in21k',\n",
       " 'vit_tiny_patch16_384',\n",
       " 'vit_tiny_r_s16_p8_224',\n",
       " 'vit_tiny_r_s16_p8_224_in21k',\n",
       " 'vit_tiny_r_s16_p8_384']"
      ]
     },
     "execution_count": 16,
     "metadata": {},
     "output_type": "execute_result"
    }
   ],
   "source": [
    "timm.list_models('*vit*',pretrained=True)"
   ]
  },
  {
   "cell_type": "code",
   "execution_count": 17,
   "id": "a76e4550-8f33-4f11-9344-314561737c7e",
   "metadata": {},
   "outputs": [
    {
     "data": {
      "text/plain": [
       "Linear(in_features=384, out_features=18, bias=True)"
      ]
     },
     "execution_count": 17,
     "metadata": {},
     "output_type": "execute_result"
    }
   ],
   "source": [
    "model = timm.create_model('vit_small_patch16_224', pretrained=True, num_classes=18)\n",
    "\n",
    "# num_ftrs = model.fc.in_features\n",
    "# model.fc = nn.Linear(num_ftrs, 18)\n",
    "\n",
    "model.get_classifier()"
   ]
  },
  {
   "cell_type": "code",
   "execution_count": 18,
   "id": "345fff97-e1ed-467a-89f7-aee3d5a17fe4",
   "metadata": {},
   "outputs": [
    {
     "data": {
      "text/plain": [
       "torch.Size([64, 18])"
      ]
     },
     "execution_count": 18,
     "metadata": {},
     "output_type": "execute_result"
    }
   ],
   "source": [
    "model(torch.randn(64,3,224,224)).shape"
   ]
  },
  {
   "cell_type": "code",
   "execution_count": 19,
   "id": "06cfee04-1b54-4943-9678-9bdbf848bfe3",
   "metadata": {},
   "outputs": [],
   "source": [
    "model = model.to(device)\n",
    "\n",
    "loss_fn = torch.nn.CrossEntropyLoss() \n",
    "\n",
    "# Observe that all parameters are being optimized\n",
    "optimizer = torch.optim.Adam(model.parameters(), lr=0.0001) "
   ]
  },
  {
   "cell_type": "code",
   "execution_count": 20,
   "id": "8664b89f-c2f0-4751-a531-f6de86509518",
   "metadata": {},
   "outputs": [
    {
     "data": {
      "text/plain": [
       "{'url': 'https://storage.googleapis.com/vit_models/augreg/S_16-i21k-300ep-lr_0.001-aug_light1-wd_0.03-do_0.0-sd_0.0--imagenet2012-steps_20k-lr_0.03-res_224.npz',\n",
       " 'num_classes': 1000,\n",
       " 'input_size': (3, 224, 224),\n",
       " 'pool_size': None,\n",
       " 'crop_pct': 0.9,\n",
       " 'interpolation': 'bicubic',\n",
       " 'fixed_input_size': True,\n",
       " 'mean': (0.5, 0.5, 0.5),\n",
       " 'std': (0.5, 0.5, 0.5),\n",
       " 'first_conv': 'patch_embed.proj',\n",
       " 'classifier': 'head',\n",
       " 'architecture': 'vit_small_patch16_224'}"
      ]
     },
     "execution_count": 20,
     "metadata": {},
     "output_type": "execute_result"
    }
   ],
   "source": [
    "model.default_cfg"
   ]
  },
  {
   "cell_type": "code",
   "execution_count": 21,
   "id": "8fa6b470-f902-475b-8c63-febf116ee611",
   "metadata": {},
   "outputs": [
    {
     "name": "stdout",
     "output_type": "stream",
     "text": [
      "----------------------------------------------------------------\n",
      "        Layer (type)               Output Shape         Param #\n",
      "================================================================\n",
      "            Conv2d-1          [-1, 384, 14, 14]         295,296\n",
      "          Identity-2             [-1, 196, 384]               0\n",
      "        PatchEmbed-3             [-1, 196, 384]               0\n",
      "           Dropout-4             [-1, 197, 384]               0\n",
      "         LayerNorm-5             [-1, 197, 384]             768\n",
      "            Linear-6            [-1, 197, 1152]         443,520\n",
      "           Dropout-7          [-1, 6, 197, 197]               0\n",
      "            Linear-8             [-1, 197, 384]         147,840\n",
      "           Dropout-9             [-1, 197, 384]               0\n",
      "        Attention-10             [-1, 197, 384]               0\n",
      "         Identity-11             [-1, 197, 384]               0\n",
      "        LayerNorm-12             [-1, 197, 384]             768\n",
      "           Linear-13            [-1, 197, 1536]         591,360\n",
      "             GELU-14            [-1, 197, 1536]               0\n",
      "          Dropout-15            [-1, 197, 1536]               0\n",
      "           Linear-16             [-1, 197, 384]         590,208\n",
      "          Dropout-17             [-1, 197, 384]               0\n",
      "              Mlp-18             [-1, 197, 384]               0\n",
      "         Identity-19             [-1, 197, 384]               0\n",
      "            Block-20             [-1, 197, 384]               0\n",
      "        LayerNorm-21             [-1, 197, 384]             768\n",
      "           Linear-22            [-1, 197, 1152]         443,520\n",
      "          Dropout-23          [-1, 6, 197, 197]               0\n",
      "           Linear-24             [-1, 197, 384]         147,840\n",
      "          Dropout-25             [-1, 197, 384]               0\n",
      "        Attention-26             [-1, 197, 384]               0\n",
      "         Identity-27             [-1, 197, 384]               0\n",
      "        LayerNorm-28             [-1, 197, 384]             768\n",
      "           Linear-29            [-1, 197, 1536]         591,360\n",
      "             GELU-30            [-1, 197, 1536]               0\n",
      "          Dropout-31            [-1, 197, 1536]               0\n",
      "           Linear-32             [-1, 197, 384]         590,208\n",
      "          Dropout-33             [-1, 197, 384]               0\n",
      "              Mlp-34             [-1, 197, 384]               0\n",
      "         Identity-35             [-1, 197, 384]               0\n",
      "            Block-36             [-1, 197, 384]               0\n",
      "        LayerNorm-37             [-1, 197, 384]             768\n",
      "           Linear-38            [-1, 197, 1152]         443,520\n",
      "          Dropout-39          [-1, 6, 197, 197]               0\n",
      "           Linear-40             [-1, 197, 384]         147,840\n",
      "          Dropout-41             [-1, 197, 384]               0\n",
      "        Attention-42             [-1, 197, 384]               0\n",
      "         Identity-43             [-1, 197, 384]               0\n",
      "        LayerNorm-44             [-1, 197, 384]             768\n",
      "           Linear-45            [-1, 197, 1536]         591,360\n",
      "             GELU-46            [-1, 197, 1536]               0\n",
      "          Dropout-47            [-1, 197, 1536]               0\n",
      "           Linear-48             [-1, 197, 384]         590,208\n",
      "          Dropout-49             [-1, 197, 384]               0\n",
      "              Mlp-50             [-1, 197, 384]               0\n",
      "         Identity-51             [-1, 197, 384]               0\n",
      "            Block-52             [-1, 197, 384]               0\n",
      "        LayerNorm-53             [-1, 197, 384]             768\n",
      "           Linear-54            [-1, 197, 1152]         443,520\n",
      "          Dropout-55          [-1, 6, 197, 197]               0\n",
      "           Linear-56             [-1, 197, 384]         147,840\n",
      "          Dropout-57             [-1, 197, 384]               0\n",
      "        Attention-58             [-1, 197, 384]               0\n",
      "         Identity-59             [-1, 197, 384]               0\n",
      "        LayerNorm-60             [-1, 197, 384]             768\n",
      "           Linear-61            [-1, 197, 1536]         591,360\n",
      "             GELU-62            [-1, 197, 1536]               0\n",
      "          Dropout-63            [-1, 197, 1536]               0\n",
      "           Linear-64             [-1, 197, 384]         590,208\n",
      "          Dropout-65             [-1, 197, 384]               0\n",
      "              Mlp-66             [-1, 197, 384]               0\n",
      "         Identity-67             [-1, 197, 384]               0\n",
      "            Block-68             [-1, 197, 384]               0\n",
      "        LayerNorm-69             [-1, 197, 384]             768\n",
      "           Linear-70            [-1, 197, 1152]         443,520\n",
      "          Dropout-71          [-1, 6, 197, 197]               0\n",
      "           Linear-72             [-1, 197, 384]         147,840\n",
      "          Dropout-73             [-1, 197, 384]               0\n",
      "        Attention-74             [-1, 197, 384]               0\n",
      "         Identity-75             [-1, 197, 384]               0\n",
      "        LayerNorm-76             [-1, 197, 384]             768\n",
      "           Linear-77            [-1, 197, 1536]         591,360\n",
      "             GELU-78            [-1, 197, 1536]               0\n",
      "          Dropout-79            [-1, 197, 1536]               0\n",
      "           Linear-80             [-1, 197, 384]         590,208\n",
      "          Dropout-81             [-1, 197, 384]               0\n",
      "              Mlp-82             [-1, 197, 384]               0\n",
      "         Identity-83             [-1, 197, 384]               0\n",
      "            Block-84             [-1, 197, 384]               0\n",
      "        LayerNorm-85             [-1, 197, 384]             768\n",
      "           Linear-86            [-1, 197, 1152]         443,520\n",
      "          Dropout-87          [-1, 6, 197, 197]               0\n",
      "           Linear-88             [-1, 197, 384]         147,840\n",
      "          Dropout-89             [-1, 197, 384]               0\n",
      "        Attention-90             [-1, 197, 384]               0\n",
      "         Identity-91             [-1, 197, 384]               0\n",
      "        LayerNorm-92             [-1, 197, 384]             768\n",
      "           Linear-93            [-1, 197, 1536]         591,360\n",
      "             GELU-94            [-1, 197, 1536]               0\n",
      "          Dropout-95            [-1, 197, 1536]               0\n",
      "           Linear-96             [-1, 197, 384]         590,208\n",
      "          Dropout-97             [-1, 197, 384]               0\n",
      "              Mlp-98             [-1, 197, 384]               0\n",
      "         Identity-99             [-1, 197, 384]               0\n",
      "           Block-100             [-1, 197, 384]               0\n",
      "       LayerNorm-101             [-1, 197, 384]             768\n",
      "          Linear-102            [-1, 197, 1152]         443,520\n",
      "         Dropout-103          [-1, 6, 197, 197]               0\n",
      "          Linear-104             [-1, 197, 384]         147,840\n",
      "         Dropout-105             [-1, 197, 384]               0\n",
      "       Attention-106             [-1, 197, 384]               0\n",
      "        Identity-107             [-1, 197, 384]               0\n",
      "       LayerNorm-108             [-1, 197, 384]             768\n",
      "          Linear-109            [-1, 197, 1536]         591,360\n",
      "            GELU-110            [-1, 197, 1536]               0\n",
      "         Dropout-111            [-1, 197, 1536]               0\n",
      "          Linear-112             [-1, 197, 384]         590,208\n",
      "         Dropout-113             [-1, 197, 384]               0\n",
      "             Mlp-114             [-1, 197, 384]               0\n",
      "        Identity-115             [-1, 197, 384]               0\n",
      "           Block-116             [-1, 197, 384]               0\n",
      "       LayerNorm-117             [-1, 197, 384]             768\n",
      "          Linear-118            [-1, 197, 1152]         443,520\n",
      "         Dropout-119          [-1, 6, 197, 197]               0\n",
      "          Linear-120             [-1, 197, 384]         147,840\n",
      "         Dropout-121             [-1, 197, 384]               0\n",
      "       Attention-122             [-1, 197, 384]               0\n",
      "        Identity-123             [-1, 197, 384]               0\n",
      "       LayerNorm-124             [-1, 197, 384]             768\n",
      "          Linear-125            [-1, 197, 1536]         591,360\n",
      "            GELU-126            [-1, 197, 1536]               0\n",
      "         Dropout-127            [-1, 197, 1536]               0\n",
      "          Linear-128             [-1, 197, 384]         590,208\n",
      "         Dropout-129             [-1, 197, 384]               0\n",
      "             Mlp-130             [-1, 197, 384]               0\n",
      "        Identity-131             [-1, 197, 384]               0\n",
      "           Block-132             [-1, 197, 384]               0\n",
      "       LayerNorm-133             [-1, 197, 384]             768\n",
      "          Linear-134            [-1, 197, 1152]         443,520\n",
      "         Dropout-135          [-1, 6, 197, 197]               0\n",
      "          Linear-136             [-1, 197, 384]         147,840\n",
      "         Dropout-137             [-1, 197, 384]               0\n",
      "       Attention-138             [-1, 197, 384]               0\n",
      "        Identity-139             [-1, 197, 384]               0\n",
      "       LayerNorm-140             [-1, 197, 384]             768\n",
      "          Linear-141            [-1, 197, 1536]         591,360\n",
      "            GELU-142            [-1, 197, 1536]               0\n",
      "         Dropout-143            [-1, 197, 1536]               0\n",
      "          Linear-144             [-1, 197, 384]         590,208\n",
      "         Dropout-145             [-1, 197, 384]               0\n",
      "             Mlp-146             [-1, 197, 384]               0\n",
      "        Identity-147             [-1, 197, 384]               0\n",
      "           Block-148             [-1, 197, 384]               0\n",
      "       LayerNorm-149             [-1, 197, 384]             768\n",
      "          Linear-150            [-1, 197, 1152]         443,520\n",
      "         Dropout-151          [-1, 6, 197, 197]               0\n",
      "          Linear-152             [-1, 197, 384]         147,840\n",
      "         Dropout-153             [-1, 197, 384]               0\n",
      "       Attention-154             [-1, 197, 384]               0\n",
      "        Identity-155             [-1, 197, 384]               0\n",
      "       LayerNorm-156             [-1, 197, 384]             768\n",
      "          Linear-157            [-1, 197, 1536]         591,360\n",
      "            GELU-158            [-1, 197, 1536]               0\n",
      "         Dropout-159            [-1, 197, 1536]               0\n",
      "          Linear-160             [-1, 197, 384]         590,208\n",
      "         Dropout-161             [-1, 197, 384]               0\n",
      "             Mlp-162             [-1, 197, 384]               0\n",
      "        Identity-163             [-1, 197, 384]               0\n",
      "           Block-164             [-1, 197, 384]               0\n",
      "       LayerNorm-165             [-1, 197, 384]             768\n",
      "          Linear-166            [-1, 197, 1152]         443,520\n",
      "         Dropout-167          [-1, 6, 197, 197]               0\n",
      "          Linear-168             [-1, 197, 384]         147,840\n",
      "         Dropout-169             [-1, 197, 384]               0\n",
      "       Attention-170             [-1, 197, 384]               0\n",
      "        Identity-171             [-1, 197, 384]               0\n",
      "       LayerNorm-172             [-1, 197, 384]             768\n",
      "          Linear-173            [-1, 197, 1536]         591,360\n",
      "            GELU-174            [-1, 197, 1536]               0\n",
      "         Dropout-175            [-1, 197, 1536]               0\n",
      "          Linear-176             [-1, 197, 384]         590,208\n",
      "         Dropout-177             [-1, 197, 384]               0\n",
      "             Mlp-178             [-1, 197, 384]               0\n",
      "        Identity-179             [-1, 197, 384]               0\n",
      "           Block-180             [-1, 197, 384]               0\n",
      "       LayerNorm-181             [-1, 197, 384]             768\n",
      "          Linear-182            [-1, 197, 1152]         443,520\n",
      "         Dropout-183          [-1, 6, 197, 197]               0\n",
      "          Linear-184             [-1, 197, 384]         147,840\n",
      "         Dropout-185             [-1, 197, 384]               0\n",
      "       Attention-186             [-1, 197, 384]               0\n",
      "        Identity-187             [-1, 197, 384]               0\n",
      "       LayerNorm-188             [-1, 197, 384]             768\n",
      "          Linear-189            [-1, 197, 1536]         591,360\n",
      "            GELU-190            [-1, 197, 1536]               0\n",
      "         Dropout-191            [-1, 197, 1536]               0\n",
      "          Linear-192             [-1, 197, 384]         590,208\n",
      "         Dropout-193             [-1, 197, 384]               0\n",
      "             Mlp-194             [-1, 197, 384]               0\n",
      "        Identity-195             [-1, 197, 384]               0\n",
      "           Block-196             [-1, 197, 384]               0\n",
      "       LayerNorm-197             [-1, 197, 384]             768\n",
      "        Identity-198                  [-1, 384]               0\n",
      "          Linear-199                   [-1, 18]           6,930\n",
      "================================================================\n",
      "Total params: 21,596,562\n",
      "Trainable params: 21,596,562\n",
      "Non-trainable params: 0\n",
      "----------------------------------------------------------------\n",
      "Input size (MB): 0.57\n",
      "Forward/backward pass size (MB): 204.27\n",
      "Params size (MB): 82.38\n",
      "Estimated Total Size (MB): 287.23\n",
      "----------------------------------------------------------------\n"
     ]
    }
   ],
   "source": [
    "import torchsummary\n",
    "torchsummary.summary(model,(3,224,224))"
   ]
  },
  {
   "cell_type": "markdown",
   "id": "dad914c2-5091-4816-a4be-aa76930b6284",
   "metadata": {},
   "source": [
    "## Train\n",
    "transfer learning train model - https://pytorch.org/tutorials/beginner/transfer_learning_tutorial.html   \n",
    "save checkpoint - https://tutorials.pytorch.kr/recipes/recipes/saving_and_loading_a_general_checkpoint.html   \n",
    "f1 score - https://eunsukimme.github.io/ml/2019/10/21/Accuracy-Recall-Precision-F1-score/   "
   ]
  },
  {
   "cell_type": "code",
   "execution_count": 22,
   "id": "61a606d7-58d8-482c-b97e-b4c0f3920c3f",
   "metadata": {},
   "outputs": [],
   "source": [
    "from PIL import ImageFile\n",
    "ImageFile.LOAD_TRUNCATED_IMAGES = True"
   ]
  },
  {
   "cell_type": "code",
   "execution_count": 25,
   "id": "b3ecd948-f7fa-4021-bf30-829134347c40",
   "metadata": {},
   "outputs": [],
   "source": [
    "def train_model(model, loss_fn, optimizer, num_epochs=25):\n",
    "    since = time.time()\n",
    "    \n",
    "#     best_model_wts = copy.deepcopy(model.state_dict()) \n",
    "    best_acc = 0.0\n",
    "\n",
    "    for epoch in range(num_epochs):\n",
    "        # Each epoch has a training and validation phase\n",
    "        for phase in [\"train\", \"val\"]:\n",
    "            running_loss = 0.\n",
    "#             running_f1 = 0.\n",
    "            running_acc = 0.\n",
    "            if phase == \"train\":\n",
    "                model.train() \n",
    "            elif phase == \"val\":\n",
    "                model.eval() \n",
    "\n",
    "            for images, labels in dataloaders[phase]:\n",
    "                images = images.to(device)\n",
    "                labels = labels.to(device)\n",
    "\n",
    "                optimizer.zero_grad() \n",
    "\n",
    "                with torch.set_grad_enabled(phase == \"train\"):\n",
    "                    logits = model(images)\n",
    "                    _, preds = torch.max(logits, 1)\n",
    "                    loss = loss_fn(logits, labels)\n",
    "#                     f1 = f1_score(labels, logits)\n",
    "\n",
    "                    if phase == \"train\":\n",
    "                        loss.backward() \n",
    "                        optimizer.step() \n",
    "\n",
    "                running_loss += loss.item() * images.size(0) \n",
    "#                 running_f1 += f1 * images.size(0)\n",
    "                running_acc += torch.sum(preds == labels.data) \n",
    "\n",
    "            epoch_loss = running_loss / len(dataloaders[phase].dataset) \n",
    "#             epoch_f1 = running_f1 / len(dataloaders[phase].dataset)\n",
    "            epoch_acc = running_acc / len(dataloaders[phase].dataset)\n",
    "\n",
    "#             print('{} Loss: {:.4f} F1_Score:{:.4f} Acc: {:.4f}'.format(phase, epoch_loss, epoch_f1, epoch_acc))\n",
    "            print('Epoch {}/{} - {} Loss: {:.4f} Acc: {:.4f}'.format(epoch, num_epochs-1, phase, epoch_loss, epoch_acc))\n",
    "\n",
    "            # deep copy the model\n",
    "            if phase == 'val' and epoch_acc > best_acc:\n",
    "                best_acc = epoch_acc\n",
    "#                 best_model_wts = copy.deepcopy(model.state_dict())\n",
    "            torch.save({\n",
    "                    'epoch': epoch,\n",
    "                    'model_state_dict': model.state_dict(),\n",
    "                    'optimizer_state_dict': optimizer.state_dict(),\n",
    "                    'loss': epoch_loss\n",
    "                }, f\"./results/{epoch:03}_loss_{epoch_loss:4.2}.pt\")\n",
    "        print()\n",
    "\n",
    "    time_elapsed = time.time() - since\n",
    "    print('Training complete in {:.0f}m {:.0f}s'.format(time_elapsed // 60, time_elapsed % 60))\n",
    "    print('Best val Acc: {:4f}'.format(best_acc))\n",
    "\n",
    "    # load best model weights\n",
    "#     model.load_state_dict(best_model_wts)\n",
    "    return model"
   ]
  },
  {
   "cell_type": "code",
   "execution_count": 26,
   "id": "3ac7b221-b81e-4906-9774-6201932c37e1",
   "metadata": {},
   "outputs": [
    {
     "name": "stdout",
     "output_type": "stream",
     "text": [
      "Epoch 0/24 - train Loss: 1.5625 Acc: 0.5132\n",
      "Epoch 0/24 - val Loss: 1.1337 Acc: 0.6592\n",
      "\n",
      "Epoch 1/24 - train Loss: 1.1200 Acc: 0.6257\n",
      "Epoch 1/24 - val Loss: 1.4338 Acc: 0.5318\n",
      "\n",
      "Epoch 2/24 - train Loss: 0.8526 Acc: 0.7003\n",
      "Epoch 2/24 - val Loss: 1.5129 Acc: 0.5074\n",
      "\n",
      "Epoch 4/24 - train Loss: 0.4598 Acc: 0.8431\n",
      "Epoch 4/24 - val Loss: 1.8374 Acc: 0.4730\n",
      "\n",
      "Epoch 5/24 - train Loss: 0.3011 Acc: 0.9035\n",
      "Epoch 5/24 - val Loss: 2.0665 Acc: 0.4671\n",
      "\n",
      "Epoch 6/24 - train Loss: 0.1749 Acc: 0.9482\n",
      "Epoch 6/24 - val Loss: 2.4244 Acc: 0.4422\n",
      "\n",
      "Epoch 7/24 - train Loss: 0.1282 Acc: 0.9637\n",
      "Epoch 7/24 - val Loss: 2.5813 Acc: 0.4436\n",
      "\n",
      "Epoch 8/24 - train Loss: 0.1024 Acc: 0.9701\n",
      "Epoch 8/24 - val Loss: 2.7437 Acc: 0.4255\n",
      "\n",
      "Epoch 9/24 - train Loss: 0.1826 Acc: 0.9425\n",
      "Epoch 9/24 - val Loss: 2.7532 Acc: 0.4149\n",
      "\n",
      "Epoch 10/24 - train Loss: 0.1187 Acc: 0.9635\n",
      "Epoch 10/24 - val Loss: 2.7033 Acc: 0.4491\n",
      "\n",
      "Epoch 11/24 - train Loss: 0.0772 Acc: 0.9782\n",
      "Epoch 11/24 - val Loss: 2.8808 Acc: 0.4568\n",
      "\n",
      "Epoch 12/24 - train Loss: 0.1246 Acc: 0.9617\n",
      "Epoch 12/24 - val Loss: 3.0797 Acc: 0.4303\n",
      "\n",
      "Epoch 13/24 - train Loss: 0.1013 Acc: 0.9685\n",
      "Epoch 13/24 - val Loss: 3.0656 Acc: 0.4234\n",
      "\n",
      "Epoch 14/24 - train Loss: 0.0680 Acc: 0.9802\n",
      "Epoch 14/24 - val Loss: 3.1143 Acc: 0.4340\n",
      "\n",
      "Epoch 15/24 - train Loss: 0.0440 Acc: 0.9862\n",
      "Epoch 15/24 - val Loss: 3.0181 Acc: 0.4711\n",
      "\n",
      "Epoch 16/24 - train Loss: 0.0357 Acc: 0.9890\n",
      "Epoch 16/24 - val Loss: 3.2176 Acc: 0.4332\n",
      "\n",
      "Epoch 17/24 - train Loss: 0.0327 Acc: 0.9895\n",
      "Epoch 17/24 - val Loss: 3.2892 Acc: 0.4348\n",
      "\n",
      "Epoch 18/24 - train Loss: 0.0319 Acc: 0.9894\n",
      "Epoch 18/24 - val Loss: 3.4072 Acc: 0.4396\n",
      "\n",
      "Epoch 19/24 - train Loss: 0.0417 Acc: 0.9854\n",
      "Epoch 19/24 - val Loss: 3.4932 Acc: 0.4422\n",
      "\n",
      "Epoch 20/24 - train Loss: 0.0687 Acc: 0.9769\n",
      "Epoch 20/24 - val Loss: 3.1751 Acc: 0.4830\n",
      "\n",
      "Epoch 21/24 - train Loss: 0.1035 Acc: 0.9659\n",
      "Epoch 21/24 - val Loss: 3.1956 Acc: 0.4205\n",
      "\n",
      "Epoch 22/24 - train Loss: 0.1700 Acc: 0.9425\n",
      "Epoch 22/24 - val Loss: 2.9385 Acc: 0.4446\n",
      "\n",
      "Epoch 23/24 - train Loss: 0.2231 Acc: 0.9253\n",
      "Epoch 23/24 - val Loss: 2.8243 Acc: 0.4412\n",
      "\n",
      "Epoch 24/24 - train Loss: 0.0851 Acc: 0.9718\n",
      "Epoch 24/24 - val Loss: 3.1608 Acc: 0.4263\n",
      "\n",
      "Training complete in 26m 50s\n",
      "Best val Acc: 0.659247\n"
     ]
    }
   ],
   "source": [
    "model = train_model(model, loss_fn, optimizer, num_epochs=25)"
   ]
  },
  {
   "cell_type": "code",
   "execution_count": null,
   "id": "12f4a552-ef02-43d2-a81e-54edee0b106e",
   "metadata": {},
   "outputs": [],
   "source": []
  }
 ],
 "metadata": {
  "kernelspec": {
   "display_name": "Python 3 (ipykernel)",
   "language": "python",
   "name": "python3"
  },
  "language_info": {
   "codemirror_mode": {
    "name": "ipython",
    "version": 3
   },
   "file_extension": ".py",
   "mimetype": "text/x-python",
   "name": "python",
   "nbconvert_exporter": "python",
   "pygments_lexer": "ipython3",
   "version": "3.8.5"
  }
 },
 "nbformat": 4,
 "nbformat_minor": 5
}
