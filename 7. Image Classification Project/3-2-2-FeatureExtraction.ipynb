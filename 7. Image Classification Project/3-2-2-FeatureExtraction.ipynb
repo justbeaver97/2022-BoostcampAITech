{
 "cells": [
  {
   "cell_type": "markdown",
   "id": "15ac0276-4be2-46f9-95e0-4f7d63ac1570",
   "metadata": {},
   "source": [
    "## Import Libraries"
   ]
  },
  {
   "cell_type": "code",
   "execution_count": 1,
   "id": "5583bce5-f0d1-4cee-97ab-dbb3b40c2d03",
   "metadata": {},
   "outputs": [],
   "source": [
    "import os\n",
    "import time\n",
    "import copy\n",
    "\n",
    "\n",
    "# 데이터 분석 라이브러리\n",
    "import numpy as np\n",
    "import pandas as pd\n",
    "\n",
    "# 시각화 라이브러리\n",
    "import matplotlib as mpl\n",
    "import matplotlib.pyplot as plt\n",
    "\n",
    "from PIL import Image"
   ]
  },
  {
   "cell_type": "code",
   "execution_count": 2,
   "id": "6b91bbd8-ce22-43a2-9802-43896ac421ae",
   "metadata": {},
   "outputs": [],
   "source": [
    "import torch\n",
    "import torch.nn as nn\n",
    "import torch.optim as optim\n",
    "import torch.backends.cudnn as cudnn\n",
    "import timm\n",
    "\n",
    "from __future__ import print_function, division\n",
    "from torch.optim import lr_scheduler\n",
    "from torchvision import transforms, models\n",
    "from torch.utils.data import Dataset, DataLoader\n",
    "from tqdm.notebook import tqdm\n",
    "\n",
    "cudnn.benchmark = True\n",
    "plt.ion()   # interactive mode"
   ]
  },
  {
   "cell_type": "code",
   "execution_count": 3,
   "id": "6aba9731-c8b1-4b55-8e13-e0547c767ae2",
   "metadata": {},
   "outputs": [
    {
     "data": {
      "text/plain": [
       "device(type='cuda', index=0)"
      ]
     },
     "execution_count": 3,
     "metadata": {},
     "output_type": "execute_result"
    }
   ],
   "source": [
    "device = torch.device(\"cuda:0\" if torch.cuda.is_available() else \"cpu\") \n",
    "device"
   ]
  },
  {
   "cell_type": "markdown",
   "id": "b899813d-d62e-4c3b-8ffc-beaa7b3ae87a",
   "metadata": {},
   "source": [
    "## Bring csv file with path & label"
   ]
  },
  {
   "cell_type": "code",
   "execution_count": 4,
   "id": "725bd4bc-4e76-4494-92e4-dd337bf4012b",
   "metadata": {
    "tags": []
   },
   "outputs": [],
   "source": [
    "traindata_path = pd.read_csv('train_data.csv')\n",
    "valdata_path = pd.read_csv('val_data.csv')\n",
    "testdata_path = pd.read_csv('test_data.csv')"
   ]
  },
  {
   "cell_type": "code",
   "execution_count": 5,
   "id": "b9d643be-71cb-428f-bb9c-e2c714e71550",
   "metadata": {},
   "outputs": [
    {
     "name": "stdout",
     "output_type": "stream",
     "text": [
      "15126\n"
     ]
    }
   ],
   "source": [
    "print(len(traindata_path))"
   ]
  },
  {
   "cell_type": "markdown",
   "id": "d74c83ba-2933-4e99-a3b9-bd8d08ada37f",
   "metadata": {},
   "source": [
    "## Hyper Parameter\n",
    "Resize([224,224]) - https://www.programcreek.com/python/example/104834/torchvision.transforms.Resize"
   ]
  },
  {
   "cell_type": "code",
   "execution_count": 6,
   "id": "fd944d10-156d-494e-b7b1-9f0af0552c53",
   "metadata": {},
   "outputs": [],
   "source": [
    "transform = transforms.Compose([\n",
    "#         transforms.Resize([224,224]),\n",
    "#         transforms.CenterCrop(224),\n",
    "        transforms.ToTensor(),\n",
    "        transforms.Normalize([0.485, 0.456, 0.406], [0.229, 0.224, 0.225])\n",
    "    ])\n",
    "batch_size = 256\n",
    "num_workers = 1"
   ]
  },
  {
   "cell_type": "markdown",
   "id": "94ec44af-367c-4138-a841-a4959962344e",
   "metadata": {},
   "source": [
    "## Dataset"
   ]
  },
  {
   "cell_type": "code",
   "execution_count": 7,
   "id": "e2c0e391-f4d7-41cd-9544-7291bab2c996",
   "metadata": {},
   "outputs": [],
   "source": [
    "def readImage(path_data):\n",
    "    path_to_image = []\n",
    "    for path in path_data:\n",
    "        img = Image.open(path)\n",
    "        path_to_image.append(img)\n",
    "    return path_to_image"
   ]
  },
  {
   "cell_type": "code",
   "execution_count": 8,
   "id": "5c1fc805-496c-4951-bb00-95e53041c36c",
   "metadata": {},
   "outputs": [],
   "source": [
    "class MyDataset(Dataset):\n",
    "    def __init__(self, data, transform, train):\n",
    "        self._repr_indent = 4\n",
    "        self.data = data\n",
    "        self.X = readImage(self.data['img_path'])\n",
    "        self.y = self.data['label']\n",
    "        self.transform = transform\n",
    "        self.train = train\n",
    "        self.classes = list(set(self.y))\n",
    "    \n",
    "    def __getitem__(self, idx):\n",
    "        X, y = self.X[idx], None\n",
    "#         X, y = self.X[idx], -1\n",
    "\n",
    "        if self.transform:\n",
    "            X = self.transform(X)\n",
    "        if self.train:\n",
    "            y = self.y[idx]\n",
    "\n",
    "        return X,y\n",
    "#         return torch.tensor(X), torch.tensor(y)\n",
    "#         return X.clone().detach(), y.clone().detach()\n",
    "    \n",
    "    def __len__(self):\n",
    "        return len(self.X)\n",
    "    \n",
    "    def __repr__(self):\n",
    "        '''\n",
    "        https://github.com/pytorch/vision/blob/master/torchvision/datasets/vision.py\n",
    "        '''\n",
    "        head = \"My Custom Dataset : Mask Dataset\"\n",
    "        num_data = self._repr_indent*\" \" + \"Number of datapoints: {}\".format(self.__len__())\n",
    "        num_classes = self._repr_indent*\" \" + \"Number of classes: {}\".format(len(self.classes))\n",
    "        return '\\n'.join([head, num_data, num_classes])"
   ]
  },
  {
   "cell_type": "code",
   "execution_count": 9,
   "id": "be4c8d51-df06-465b-86c8-b7247c29957e",
   "metadata": {},
   "outputs": [],
   "source": [
    "train_dataset = MyDataset(\n",
    "    data = traindata_path,\n",
    "    transform = transform,\n",
    "    train = True\n",
    ")\n",
    "val_dataset = MyDataset(\n",
    "    data = valdata_path,\n",
    "    transform = transform,\n",
    "    train = True\n",
    ")\n",
    "test_dataset = MyDataset(\n",
    "    data = testdata_path,\n",
    "    transform = transform,\n",
    "    train = False\n",
    ")"
   ]
  },
  {
   "cell_type": "code",
   "execution_count": 10,
   "id": "b53fb9fd-3c09-48a0-9005-586e93ae7429",
   "metadata": {},
   "outputs": [
    {
     "data": {
      "text/plain": [
       "My Custom Dataset : Mask Dataset\n",
       "    Number of datapoints: 15126\n",
       "    Number of classes: 18"
      ]
     },
     "execution_count": 10,
     "metadata": {},
     "output_type": "execute_result"
    }
   ],
   "source": [
    "train_dataset"
   ]
  },
  {
   "cell_type": "code",
   "execution_count": 11,
   "id": "df25099f-5b7b-4588-87cf-8862076332f7",
   "metadata": {},
   "outputs": [
    {
     "data": {
      "text/plain": [
       "My Custom Dataset : Mask Dataset\n",
       "    Number of datapoints: 3774\n",
       "    Number of classes: 18"
      ]
     },
     "execution_count": 11,
     "metadata": {},
     "output_type": "execute_result"
    }
   ],
   "source": [
    "val_dataset"
   ]
  },
  {
   "cell_type": "code",
   "execution_count": 12,
   "id": "8e03e2ce-9dc0-44d7-b58f-2ab50aa0534f",
   "metadata": {},
   "outputs": [
    {
     "data": {
      "text/plain": [
       "My Custom Dataset : Mask Dataset\n",
       "    Number of datapoints: 12600\n",
       "    Number of classes: 1"
      ]
     },
     "execution_count": 12,
     "metadata": {},
     "output_type": "execute_result"
    }
   ],
   "source": [
    "test_dataset"
   ]
  },
  {
   "cell_type": "markdown",
   "id": "5e0ae916-2a67-4d05-a46b-8f412295c28a",
   "metadata": {},
   "source": [
    "## DataLoader"
   ]
  },
  {
   "cell_type": "code",
   "execution_count": 13,
   "id": "d0816b21-d0e5-41ee-8697-44ef89557cac",
   "metadata": {
    "tags": []
   },
   "outputs": [],
   "source": [
    "train_loader = torch.utils.data.DataLoader(\n",
    "    train_dataset,\n",
    "    batch_size = batch_size,\n",
    "    num_workers = num_workers,\n",
    "    shuffle = True,\n",
    "    drop_last = False\n",
    ")\n",
    "val_loader = torch.utils.data.DataLoader(\n",
    "    val_dataset,\n",
    "    batch_size = batch_size,\n",
    "    num_workers = num_workers,\n",
    "    shuffle = True,\n",
    "    drop_last = False\n",
    ")\n",
    "test_loader = torch.utils.data.DataLoader(\n",
    "    test_dataset,\n",
    "    batch_size = batch_size,\n",
    "    num_workers = num_workers,\n",
    "    shuffle = True,\n",
    "    drop_last = False\n",
    ")"
   ]
  },
  {
   "cell_type": "code",
   "execution_count": 14,
   "id": "8dcc9587-3a71-415c-bfd8-2d1dae892706",
   "metadata": {},
   "outputs": [],
   "source": [
    "dataloaders = {\n",
    "    'train': train_loader,\n",
    "    'val': val_loader,\n",
    "    'test': test_loader\n",
    "}"
   ]
  },
  {
   "cell_type": "code",
   "execution_count": 15,
   "id": "4479feb8-8031-4112-9ce6-69c4b03a97d4",
   "metadata": {},
   "outputs": [
    {
     "data": {
      "text/plain": [
       "{'train': <torch.utils.data.dataloader.DataLoader at 0x7f859f0ea580>,\n",
       " 'val': <torch.utils.data.dataloader.DataLoader at 0x7f859f0ea5e0>,\n",
       " 'test': <torch.utils.data.dataloader.DataLoader at 0x7f859f0ea6d0>}"
      ]
     },
     "execution_count": 15,
     "metadata": {},
     "output_type": "execute_result"
    }
   ],
   "source": [
    "dataloaders"
   ]
  },
  {
   "cell_type": "markdown",
   "id": "53ba0a92-a22b-4cff-afd7-ba615c6b3ec1",
   "metadata": {
    "tags": []
   },
   "source": [
    "## Model\n",
    "model 생성 및 확인 - https://towardsdatascience.com/getting-started-with-pytorch-image-models-timm-a-practitioners-guide-4e77b4bf9055"
   ]
  },
  {
   "cell_type": "code",
   "execution_count": 16,
   "id": "a76e4550-8f33-4f11-9344-314561737c7e",
   "metadata": {},
   "outputs": [],
   "source": [
    "model = timm.create_model('resnet18', pretrained=True)\n",
    "\n",
    "num_ftrs = model.fc.in_features\n",
    "model.fc = nn.Linear(num_ftrs, 18)"
   ]
  },
  {
   "cell_type": "code",
   "execution_count": 17,
   "id": "345fff97-e1ed-467a-89f7-aee3d5a17fe4",
   "metadata": {},
   "outputs": [
    {
     "data": {
      "text/plain": [
       "torch.Size([64, 18])"
      ]
     },
     "execution_count": 17,
     "metadata": {},
     "output_type": "execute_result"
    }
   ],
   "source": [
    "model(torch.randn(64,3,384,512)).shape"
   ]
  },
  {
   "cell_type": "code",
   "execution_count": 18,
   "id": "690c0b11-595b-4590-8591-9579d2aed0a8",
   "metadata": {},
   "outputs": [
    {
     "name": "stdout",
     "output_type": "stream",
     "text": [
      "0 conv1\n",
      "1 bn1\n",
      "2 act1\n",
      "3 maxpool\n",
      "4 layer1\n",
      "5 layer2\n",
      "6 layer3\n",
      "7 layer4\n",
      "8 global_pool\n",
      "9 fc\n",
      "\n",
      "0 False\n",
      "1 False\n",
      "2 False\n",
      "3 False\n",
      "4 False\n",
      "5 False\n",
      "6 False\n",
      "7 False\n",
      "8 False\n",
      "9 True\n"
     ]
    }
   ],
   "source": [
    "count = 0 \n",
    "for name, child in model.named_children():\n",
    "    print(count,name)\n",
    "    count+=1\n",
    "\n",
    "count = 0\n",
    "\n",
    "for param in model.children():\n",
    "    if count < 9:\n",
    "        param.requires_grad = False\n",
    "    else:\n",
    "        param.requires_grad = True\n",
    "\n",
    "    count+=1\n",
    "\n",
    "print()\n",
    "count = 0\n",
    "\n",
    "for param in model.children():\n",
    "    print(count,param.requires_grad)\n",
    "    count +=1\n"
   ]
  },
  {
   "cell_type": "code",
   "execution_count": 19,
   "id": "06cfee04-1b54-4943-9678-9bdbf848bfe3",
   "metadata": {},
   "outputs": [],
   "source": [
    "model = model.to(device)\n",
    "\n",
    "loss_fn = torch.nn.CrossEntropyLoss() \n",
    "\n",
    "# Observe that all parameters are being optimized\n",
    "optimizer = torch.optim.Adam(model.parameters(), lr=0.0001) "
   ]
  },
  {
   "cell_type": "code",
   "execution_count": 20,
   "id": "8664b89f-c2f0-4751-a531-f6de86509518",
   "metadata": {},
   "outputs": [
    {
     "data": {
      "text/plain": [
       "{'url': 'https://download.pytorch.org/models/resnet18-5c106cde.pth',\n",
       " 'num_classes': 1000,\n",
       " 'input_size': (3, 224, 224),\n",
       " 'pool_size': (7, 7),\n",
       " 'crop_pct': 0.875,\n",
       " 'interpolation': 'bilinear',\n",
       " 'mean': (0.485, 0.456, 0.406),\n",
       " 'std': (0.229, 0.224, 0.225),\n",
       " 'first_conv': 'conv1',\n",
       " 'classifier': 'fc',\n",
       " 'architecture': 'resnet18'}"
      ]
     },
     "execution_count": 20,
     "metadata": {},
     "output_type": "execute_result"
    }
   ],
   "source": [
    "model.default_cfg"
   ]
  },
  {
   "cell_type": "code",
   "execution_count": 21,
   "id": "dbdc4352-980c-4e6d-a8b0-26bd9650d906",
   "metadata": {},
   "outputs": [
    {
     "data": {
      "text/plain": [
       "Linear(in_features=512, out_features=18, bias=True)"
      ]
     },
     "execution_count": 21,
     "metadata": {},
     "output_type": "execute_result"
    }
   ],
   "source": [
    "model.get_classifier()"
   ]
  },
  {
   "cell_type": "code",
   "execution_count": 1,
   "id": "8fa6b470-f902-475b-8c63-febf116ee611",
   "metadata": {},
   "outputs": [
    {
     "ename": "NameError",
     "evalue": "name 'model' is not defined",
     "output_type": "error",
     "traceback": [
      "\u001b[0;31m---------------------------------------------------------------------------\u001b[0m",
      "\u001b[0;31mNameError\u001b[0m                                 Traceback (most recent call last)",
      "\u001b[0;32m<ipython-input-1-6e337d56944f>\u001b[0m in \u001b[0;36m<module>\u001b[0;34m\u001b[0m\n\u001b[1;32m      1\u001b[0m \u001b[0;32mimport\u001b[0m \u001b[0mtorchsummary\u001b[0m\u001b[0;34m\u001b[0m\u001b[0;34m\u001b[0m\u001b[0m\n\u001b[0;32m----> 2\u001b[0;31m \u001b[0mtorchsummary\u001b[0m\u001b[0;34m.\u001b[0m\u001b[0msummary\u001b[0m\u001b[0;34m(\u001b[0m\u001b[0mmodel\u001b[0m\u001b[0;34m,\u001b[0m\u001b[0;34m(\u001b[0m\u001b[0;36m3\u001b[0m\u001b[0;34m,\u001b[0m\u001b[0;36m224\u001b[0m\u001b[0;34m,\u001b[0m\u001b[0;36m224\u001b[0m\u001b[0;34m)\u001b[0m\u001b[0;34m)\u001b[0m\u001b[0;34m\u001b[0m\u001b[0;34m\u001b[0m\u001b[0m\n\u001b[0m",
      "\u001b[0;31mNameError\u001b[0m: name 'model' is not defined"
     ]
    }
   ],
   "source": [
    "import torchsummary\n",
    "torchsummary.summary(model,(3,224,224))"
   ]
  },
  {
   "cell_type": "code",
   "execution_count": 23,
   "id": "0656a218-361b-481e-9df3-8bfc3343c4e4",
   "metadata": {},
   "outputs": [],
   "source": [
    "# model.state_dict()"
   ]
  },
  {
   "cell_type": "markdown",
   "id": "dad914c2-5091-4816-a4be-aa76930b6284",
   "metadata": {},
   "source": [
    "## Train\n",
    "transfer learning train model - https://pytorch.org/tutorials/beginner/transfer_learning_tutorial.html   "
   ]
  },
  {
   "cell_type": "code",
   "execution_count": 24,
   "id": "61a606d7-58d8-482c-b97e-b4c0f3920c3f",
   "metadata": {},
   "outputs": [],
   "source": [
    "from PIL import ImageFile\n",
    "ImageFile.LOAD_TRUNCATED_IMAGES = True"
   ]
  },
  {
   "cell_type": "code",
   "execution_count": 25,
   "id": "b3ecd948-f7fa-4021-bf30-829134347c40",
   "metadata": {},
   "outputs": [],
   "source": [
    "def train_model(model, loss_fn, optimizer, num_epochs=25):\n",
    "    since = time.time()\n",
    "    \n",
    "#     best_model_wts = copy.deepcopy(model.state_dict()) \n",
    "    best_acc = 0.0\n",
    "\n",
    "    for epoch in range(num_epochs):\n",
    "        print('Epoch {}/{}'.format(epoch, num_epochs - 1))\n",
    "        print('-' * 10)\n",
    "        \n",
    "        # Each epoch has a training and validation phase\n",
    "        for phase in [\"train\", \"val\"]:\n",
    "            running_loss = 0.\n",
    "            running_acc = 0.\n",
    "            if phase == \"train\":\n",
    "                model.train() \n",
    "            elif phase == \"val\":\n",
    "                model.eval() \n",
    "\n",
    "            for images, labels in dataloaders[phase]:\n",
    "                images = images.to(device)\n",
    "                labels = labels.to(device)\n",
    "\n",
    "                optimizer.zero_grad() \n",
    "\n",
    "                with torch.set_grad_enabled(phase == \"train\"):\n",
    "                    logits = model(images)\n",
    "                    _, preds = torch.max(logits, 1)\n",
    "#                     print(logits, labels)\n",
    "                    loss = loss_fn(logits, labels)\n",
    "#                     print(\"loss:\",loss)\n",
    "\n",
    "                    if phase == \"train\":\n",
    "                        loss.backward() \n",
    "                        optimizer.step() \n",
    "\n",
    "                running_loss += loss.item() * images.size(0) \n",
    "                running_acc += torch.sum(preds == labels.data) \n",
    "\n",
    "            epoch_loss = running_loss / len(dataloaders[phase].dataset) \n",
    "            epoch_acc = running_acc / len(dataloaders[phase].dataset)\n",
    "\n",
    "            print('{} Loss: {:.4f} Acc: {:.4f}'.format(phase, epoch_loss, epoch_acc))\n",
    "\n",
    "            # deep copy the model\n",
    "            if phase == 'val' and epoch_acc > best_acc:\n",
    "                best_acc = epoch_acc\n",
    "#                 best_model_wts = copy.deepcopy(model.state_dict())\n",
    "\n",
    "        print()\n",
    "\n",
    "    time_elapsed = time.time() - since\n",
    "    print('Training complete in {:.0f}m {:.0f}s'.format(time_elapsed // 60, time_elapsed % 60))\n",
    "    print('Best val Acc: {:4f}'.format(best_acc))\n",
    "\n",
    "    # load best model weights\n",
    "#     model.load_state_dict(best_model_wts)\n",
    "    return model"
   ]
  },
  {
   "cell_type": "code",
   "execution_count": 26,
   "id": "3ac7b221-b81e-4906-9774-6201932c37e1",
   "metadata": {},
   "outputs": [
    {
     "name": "stdout",
     "output_type": "stream",
     "text": [
      "Epoch 0/24\n",
      "----------\n",
      "train Loss: 1.0204 Acc: 0.7279\n",
      "val Loss: 0.5402 Acc: 0.8574\n",
      "\n",
      "Epoch 1/24\n",
      "----------\n",
      "train Loss: 1.5310 Acc: 0.5170\n",
      "val Loss: 1.6136 Acc: 0.4634\n",
      "\n",
      "Epoch 2/24\n",
      "----------\n",
      "train Loss: 1.1914 Acc: 0.6069\n",
      "val Loss: 1.4537 Acc: 0.5241\n",
      "\n",
      "Epoch 3/24\n",
      "----------\n",
      "train Loss: 1.0330 Acc: 0.6550\n",
      "val Loss: 1.4929 Acc: 0.4833\n",
      "\n",
      "Epoch 4/24\n",
      "----------\n",
      "train Loss: 0.8739 Acc: 0.7012\n",
      "val Loss: 1.4486 Acc: 0.5503\n",
      "\n",
      "Epoch 5/24\n",
      "----------\n",
      "train Loss: 0.7379 Acc: 0.7462\n",
      "val Loss: 1.5788 Acc: 0.4891\n",
      "\n",
      "Epoch 6/24\n",
      "----------\n",
      "train Loss: 0.6087 Acc: 0.7892\n",
      "val Loss: 1.6456 Acc: 0.5011\n",
      "\n",
      "Epoch 7/24\n",
      "----------\n",
      "train Loss: 0.5168 Acc: 0.8269\n",
      "val Loss: 1.7541 Acc: 0.4769\n",
      "\n",
      "Epoch 8/24\n",
      "----------\n",
      "train Loss: 0.3874 Acc: 0.8814\n",
      "val Loss: 1.9349 Acc: 0.4322\n",
      "\n",
      "Epoch 9/24\n",
      "----------\n",
      "train Loss: 0.2944 Acc: 0.9172\n",
      "val Loss: 2.1883 Acc: 0.4640\n",
      "\n",
      "Epoch 10/24\n",
      "----------\n",
      "train Loss: 0.2610 Acc: 0.9312\n",
      "val Loss: 1.8900 Acc: 0.4815\n",
      "\n",
      "Epoch 11/24\n",
      "----------\n",
      "train Loss: 0.1507 Acc: 0.9686\n",
      "val Loss: 2.1807 Acc: 0.4698\n",
      "\n",
      "Epoch 12/24\n",
      "----------\n",
      "train Loss: 0.1222 Acc: 0.9758\n",
      "val Loss: 2.5649 Acc: 0.4025\n",
      "\n",
      "Epoch 13/24\n",
      "----------\n",
      "train Loss: 0.0879 Acc: 0.9842\n",
      "val Loss: 2.1159 Acc: 0.4595\n",
      "\n",
      "Epoch 14/24\n",
      "----------\n",
      "train Loss: 0.0674 Acc: 0.9890\n",
      "val Loss: 2.5292 Acc: 0.4038\n",
      "\n",
      "Epoch 15/24\n",
      "----------\n",
      "train Loss: 0.0627 Acc: 0.9890\n",
      "val Loss: 2.2786 Acc: 0.4626\n",
      "\n",
      "Epoch 16/24\n",
      "----------\n",
      "train Loss: 0.0502 Acc: 0.9896\n",
      "val Loss: 2.2197 Acc: 0.4875\n",
      "\n",
      "Epoch 17/24\n",
      "----------\n",
      "train Loss: 0.0448 Acc: 0.9892\n",
      "val Loss: 2.6208 Acc: 0.3691\n",
      "\n",
      "Epoch 18/24\n",
      "----------\n",
      "train Loss: 0.0562 Acc: 0.9882\n",
      "val Loss: 2.3187 Acc: 0.4685\n",
      "\n",
      "Epoch 19/24\n",
      "----------\n",
      "train Loss: 0.0539 Acc: 0.9892\n",
      "val Loss: 2.4158 Acc: 0.4600\n",
      "\n",
      "Epoch 20/24\n",
      "----------\n",
      "train Loss: 0.0558 Acc: 0.9873\n",
      "val Loss: 2.5036 Acc: 0.4512\n",
      "\n",
      "Epoch 21/24\n",
      "----------\n",
      "train Loss: 0.0536 Acc: 0.9878\n",
      "val Loss: 2.2992 Acc: 0.5281\n",
      "\n",
      "Epoch 22/24\n",
      "----------\n",
      "train Loss: 0.0303 Acc: 0.9922\n",
      "val Loss: 2.3001 Acc: 0.4936\n",
      "\n",
      "Epoch 23/24\n",
      "----------\n",
      "train Loss: 0.0469 Acc: 0.9892\n",
      "val Loss: 2.3698 Acc: 0.4523\n",
      "\n",
      "Epoch 24/24\n",
      "----------\n",
      "train Loss: 0.0401 Acc: 0.9903\n",
      "val Loss: 2.3969 Acc: 0.5098\n",
      "\n",
      "Training complete in 50m 46s\n",
      "Best val Acc: 0.857446\n"
     ]
    }
   ],
   "source": [
    "model = train_model(model, loss_fn, optimizer, num_epochs=25)"
   ]
  },
  {
   "cell_type": "markdown",
   "id": "6baaa4fc-efda-4a21-81fe-0a470425ff5a",
   "metadata": {},
   "source": [
    "DataLoader worker (pid 4735) is killed by signal: Bus error. It is possible that dataloader's workers are out of shared memory. Please try to raise your shared memory limit."
   ]
  },
  {
   "cell_type": "code",
   "execution_count": null,
   "id": "f709a76b-2949-4b75-847f-3e6b877c4075",
   "metadata": {},
   "outputs": [],
   "source": []
  }
 ],
 "metadata": {
  "kernelspec": {
   "display_name": "Python 3 (ipykernel)",
   "language": "python",
   "name": "python3"
  },
  "language_info": {
   "codemirror_mode": {
    "name": "ipython",
    "version": 3
   },
   "file_extension": ".py",
   "mimetype": "text/x-python",
   "name": "python",
   "nbconvert_exporter": "python",
   "pygments_lexer": "ipython3",
   "version": "3.8.5"
  }
 },
 "nbformat": 4,
 "nbformat_minor": 5
}
