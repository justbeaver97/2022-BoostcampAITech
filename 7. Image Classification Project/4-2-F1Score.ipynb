{
 "cells": [
  {
   "cell_type": "markdown",
   "id": "15ac0276-4be2-46f9-95e0-4f7d63ac1570",
   "metadata": {},
   "source": [
    "## Import Libraries"
   ]
  },
  {
   "cell_type": "code",
   "execution_count": 1,
   "id": "5583bce5-f0d1-4cee-97ab-dbb3b40c2d03",
   "metadata": {},
   "outputs": [],
   "source": [
    "import os\n",
    "import time\n",
    "import copy\n",
    "\n",
    "\n",
    "# 데이터 분석 라이브러리\n",
    "import numpy as np\n",
    "import pandas as pd\n",
    "\n",
    "# 시각화 라이브러리\n",
    "import matplotlib as mpl\n",
    "import matplotlib.pyplot as plt\n",
    "\n",
    "from PIL import Image"
   ]
  },
  {
   "cell_type": "code",
   "execution_count": 2,
   "id": "6b91bbd8-ce22-43a2-9802-43896ac421ae",
   "metadata": {},
   "outputs": [],
   "source": [
    "import torch\n",
    "import torch.nn as nn\n",
    "import torch.optim as optim\n",
    "import torch.backends.cudnn as cudnn\n",
    "import timm\n",
    "\n",
    "from __future__ import print_function, division\n",
    "from torch.optim import lr_scheduler\n",
    "from torchvision import transforms, models\n",
    "from torch.utils.data import Dataset, DataLoader\n",
    "from tqdm.notebook import tqdm\n",
    "\n",
    "cudnn.benchmark = True\n",
    "plt.ion()   # interactive mode"
   ]
  },
  {
   "cell_type": "code",
   "execution_count": 3,
   "id": "6aba9731-c8b1-4b55-8e13-e0547c767ae2",
   "metadata": {},
   "outputs": [
    {
     "data": {
      "text/plain": [
       "device(type='cuda', index=0)"
      ]
     },
     "execution_count": 3,
     "metadata": {},
     "output_type": "execute_result"
    }
   ],
   "source": [
    "device = torch.device(\"cuda:0\" if torch.cuda.is_available() else \"cpu\") \n",
    "device"
   ]
  },
  {
   "cell_type": "markdown",
   "id": "b899813d-d62e-4c3b-8ffc-beaa7b3ae87a",
   "metadata": {},
   "source": [
    "## Bring csv file with path & label"
   ]
  },
  {
   "cell_type": "code",
   "execution_count": 4,
   "id": "725bd4bc-4e76-4494-92e4-dd337bf4012b",
   "metadata": {
    "tags": []
   },
   "outputs": [],
   "source": [
    "traindata_path = pd.read_csv('train_data.csv')\n",
    "valdata_path = pd.read_csv('val_data.csv')\n",
    "testdata_path = pd.read_csv('test_data.csv')"
   ]
  },
  {
   "cell_type": "code",
   "execution_count": 5,
   "id": "b9d643be-71cb-428f-bb9c-e2c714e71550",
   "metadata": {},
   "outputs": [
    {
     "name": "stdout",
     "output_type": "stream",
     "text": [
      "15126\n"
     ]
    }
   ],
   "source": [
    "print(len(traindata_path))"
   ]
  },
  {
   "cell_type": "markdown",
   "id": "d74c83ba-2933-4e99-a3b9-bd8d08ada37f",
   "metadata": {},
   "source": [
    "## Hyper Parameter\n",
    "Resize([224,224]) - https://www.programcreek.com/python/example/104834/torchvision.transforms.Resize"
   ]
  },
  {
   "cell_type": "code",
   "execution_count": 6,
   "id": "fd944d10-156d-494e-b7b1-9f0af0552c53",
   "metadata": {},
   "outputs": [],
   "source": [
    "transform = transforms.Compose([\n",
    "        transforms.Resize([384,384]),\n",
    "#         transforms.CenterCrop(224),\n",
    "        transforms.ToTensor(),\n",
    "        transforms.Normalize([0.485, 0.456, 0.406], [0.229, 0.224, 0.225])\n",
    "    ])\n",
    "batch_size = 256\n",
    "num_workers = 1"
   ]
  },
  {
   "cell_type": "markdown",
   "id": "94ec44af-367c-4138-a841-a4959962344e",
   "metadata": {},
   "source": [
    "## Dataset"
   ]
  },
  {
   "cell_type": "code",
   "execution_count": 7,
   "id": "e2c0e391-f4d7-41cd-9544-7291bab2c996",
   "metadata": {},
   "outputs": [],
   "source": [
    "def readImage(path_data):\n",
    "    path_to_image = []\n",
    "    for path in path_data:\n",
    "        img = Image.open(path)\n",
    "        path_to_image.append(img)\n",
    "    return path_to_image"
   ]
  },
  {
   "cell_type": "code",
   "execution_count": 8,
   "id": "5c1fc805-496c-4951-bb00-95e53041c36c",
   "metadata": {},
   "outputs": [],
   "source": [
    "class MyDataset(Dataset):\n",
    "    def __init__(self, data, transform, train):\n",
    "        self._repr_indent = 4\n",
    "        self.data = data\n",
    "        self.X = readImage(self.data['img_path'])\n",
    "        self.y = self.data['label']\n",
    "        self.transform = transform\n",
    "        self.train = train\n",
    "        self.classes = list(set(self.y))\n",
    "    \n",
    "    def __getitem__(self, idx):\n",
    "        X, y = self.X[idx], None\n",
    "#         X, y = self.X[idx], -1\n",
    "\n",
    "        if self.transform:\n",
    "            X = self.transform(X)\n",
    "        if self.train:\n",
    "            y = self.y[idx]\n",
    "\n",
    "        return X,y\n",
    "#         return torch.tensor(X), torch.tensor(y)\n",
    "#         return X.clone().detach(), y.clone().detach()\n",
    "    \n",
    "    def __len__(self):\n",
    "        return len(self.X)\n",
    "    \n",
    "    def __repr__(self):\n",
    "        '''\n",
    "        https://github.com/pytorch/vision/blob/master/torchvision/datasets/vision.py\n",
    "        '''\n",
    "        head = \"My Custom Dataset : Mask Dataset\"\n",
    "        num_data = self._repr_indent*\" \" + \"Number of datapoints: {}\".format(self.__len__())\n",
    "        num_classes = self._repr_indent*\" \" + \"Number of classes: {}\".format(len(self.classes))\n",
    "        return '\\n'.join([head, num_data, num_classes])"
   ]
  },
  {
   "cell_type": "code",
   "execution_count": 9,
   "id": "be4c8d51-df06-465b-86c8-b7247c29957e",
   "metadata": {},
   "outputs": [],
   "source": [
    "train_dataset = MyDataset(\n",
    "    data = traindata_path,\n",
    "    transform = transform,\n",
    "    train = True\n",
    ")\n",
    "val_dataset = MyDataset(\n",
    "    data = valdata_path,\n",
    "    transform = transform,\n",
    "    train = True\n",
    ")\n",
    "test_dataset = MyDataset(\n",
    "    data = testdata_path,\n",
    "    transform = transform,\n",
    "    train = False\n",
    ")"
   ]
  },
  {
   "cell_type": "code",
   "execution_count": 10,
   "id": "b53fb9fd-3c09-48a0-9005-586e93ae7429",
   "metadata": {},
   "outputs": [
    {
     "data": {
      "text/plain": [
       "My Custom Dataset : Mask Dataset\n",
       "    Number of datapoints: 15126\n",
       "    Number of classes: 18"
      ]
     },
     "execution_count": 10,
     "metadata": {},
     "output_type": "execute_result"
    }
   ],
   "source": [
    "train_dataset"
   ]
  },
  {
   "cell_type": "code",
   "execution_count": 11,
   "id": "df25099f-5b7b-4588-87cf-8862076332f7",
   "metadata": {},
   "outputs": [
    {
     "data": {
      "text/plain": [
       "My Custom Dataset : Mask Dataset\n",
       "    Number of datapoints: 3774\n",
       "    Number of classes: 18"
      ]
     },
     "execution_count": 11,
     "metadata": {},
     "output_type": "execute_result"
    }
   ],
   "source": [
    "val_dataset"
   ]
  },
  {
   "cell_type": "code",
   "execution_count": 12,
   "id": "8e03e2ce-9dc0-44d7-b58f-2ab50aa0534f",
   "metadata": {},
   "outputs": [
    {
     "data": {
      "text/plain": [
       "My Custom Dataset : Mask Dataset\n",
       "    Number of datapoints: 12600\n",
       "    Number of classes: 1"
      ]
     },
     "execution_count": 12,
     "metadata": {},
     "output_type": "execute_result"
    }
   ],
   "source": [
    "test_dataset"
   ]
  },
  {
   "cell_type": "markdown",
   "id": "5e0ae916-2a67-4d05-a46b-8f412295c28a",
   "metadata": {},
   "source": [
    "## DataLoader"
   ]
  },
  {
   "cell_type": "code",
   "execution_count": 13,
   "id": "d0816b21-d0e5-41ee-8697-44ef89557cac",
   "metadata": {
    "tags": []
   },
   "outputs": [],
   "source": [
    "train_loader = torch.utils.data.DataLoader(\n",
    "    train_dataset,\n",
    "    batch_size = batch_size,\n",
    "    num_workers = num_workers,\n",
    "    shuffle = True,\n",
    "    drop_last = False\n",
    ")\n",
    "val_loader = torch.utils.data.DataLoader(\n",
    "    val_dataset,\n",
    "    batch_size = batch_size,\n",
    "    num_workers = num_workers,\n",
    "    shuffle = True,\n",
    "    drop_last = False\n",
    ")\n",
    "test_loader = torch.utils.data.DataLoader(\n",
    "    test_dataset,\n",
    "    batch_size = batch_size,\n",
    "    num_workers = num_workers,\n",
    "    shuffle = True,\n",
    "    drop_last = False\n",
    ")"
   ]
  },
  {
   "cell_type": "code",
   "execution_count": 14,
   "id": "8dcc9587-3a71-415c-bfd8-2d1dae892706",
   "metadata": {},
   "outputs": [],
   "source": [
    "dataloaders = {\n",
    "    'train': train_loader,\n",
    "    'val': val_loader,\n",
    "    'test': test_loader\n",
    "}"
   ]
  },
  {
   "cell_type": "code",
   "execution_count": 15,
   "id": "4479feb8-8031-4112-9ce6-69c4b03a97d4",
   "metadata": {},
   "outputs": [
    {
     "data": {
      "text/plain": [
       "{'train': <torch.utils.data.dataloader.DataLoader at 0x7f417502e100>,\n",
       " 'val': <torch.utils.data.dataloader.DataLoader at 0x7f417502e160>,\n",
       " 'test': <torch.utils.data.dataloader.DataLoader at 0x7f417502e280>}"
      ]
     },
     "execution_count": 15,
     "metadata": {},
     "output_type": "execute_result"
    }
   ],
   "source": [
    "dataloaders"
   ]
  },
  {
   "cell_type": "markdown",
   "id": "53ba0a92-a22b-4cff-afd7-ba615c6b3ec1",
   "metadata": {
    "tags": []
   },
   "source": [
    "## Model\n",
    "model 생성 및 확인 - https://towardsdatascience.com/getting-started-with-pytorch-image-models-timm-a-practitioners-guide-4e77b4bf9055"
   ]
  },
  {
   "cell_type": "code",
   "execution_count": 16,
   "id": "72b6efeb-daf6-42b8-89e3-3e7c24b7e6b7",
   "metadata": {},
   "outputs": [
    {
     "data": {
      "text/plain": [
       "['swin_base_patch4_window7_224',\n",
       " 'swin_base_patch4_window7_224_in22k',\n",
       " 'swin_base_patch4_window12_384',\n",
       " 'swin_base_patch4_window12_384_in22k',\n",
       " 'swin_large_patch4_window7_224',\n",
       " 'swin_large_patch4_window7_224_in22k',\n",
       " 'swin_large_patch4_window12_384',\n",
       " 'swin_large_patch4_window12_384_in22k',\n",
       " 'swin_small_patch4_window7_224',\n",
       " 'swin_tiny_patch4_window7_224']"
      ]
     },
     "execution_count": 16,
     "metadata": {},
     "output_type": "execute_result"
    }
   ],
   "source": [
    "timm.list_models('swin*',pretrained=True)"
   ]
  },
  {
   "cell_type": "code",
   "execution_count": 17,
   "id": "a76e4550-8f33-4f11-9344-314561737c7e",
   "metadata": {},
   "outputs": [
    {
     "data": {
      "text/plain": [
       "Linear(in_features=384, out_features=18, bias=True)"
      ]
     },
     "execution_count": 17,
     "metadata": {},
     "output_type": "execute_result"
    }
   ],
   "source": [
    "model = timm.create_model('vit_small_patch32_384', pretrained=True, num_classes=18)\n",
    "\n",
    "# num_ftrs = model.fc.in_features\n",
    "# model.fc = nn.Linear(num_ftrs, 18)\n",
    "\n",
    "model.get_classifier()"
   ]
  },
  {
   "cell_type": "code",
   "execution_count": 18,
   "id": "345fff97-e1ed-467a-89f7-aee3d5a17fe4",
   "metadata": {},
   "outputs": [
    {
     "data": {
      "text/plain": [
       "torch.Size([32, 18])"
      ]
     },
     "execution_count": 18,
     "metadata": {},
     "output_type": "execute_result"
    }
   ],
   "source": [
    "model(torch.randn(32,3,384,384)).shape"
   ]
  },
  {
   "cell_type": "code",
   "execution_count": 19,
   "id": "06cfee04-1b54-4943-9678-9bdbf848bfe3",
   "metadata": {},
   "outputs": [],
   "source": [
    "model = model.to(device)\n",
    "\n",
    "loss_fn = torch.nn.CrossEntropyLoss() \n",
    "\n",
    "# Observe that all parameters are being optimized\n",
    "optimizer = torch.optim.Adam(model.parameters(), lr=0.0001) "
   ]
  },
  {
   "cell_type": "code",
   "execution_count": 20,
   "id": "c0787537-3589-4c2c-a22f-48cb93e561ad",
   "metadata": {},
   "outputs": [],
   "source": [
    "model = nn.Sequential(\n",
    "    model,\n",
    "    nn.Softmax(1)\n",
    ")\n",
    "model = model.to(device)\n",
    "# model"
   ]
  },
  {
   "cell_type": "code",
   "execution_count": 21,
   "id": "8664b89f-c2f0-4751-a531-f6de86509518",
   "metadata": {},
   "outputs": [],
   "source": [
    "# model.default_cfg"
   ]
  },
  {
   "cell_type": "code",
   "execution_count": 22,
   "id": "8fa6b470-f902-475b-8c63-febf116ee611",
   "metadata": {},
   "outputs": [],
   "source": [
    "import torchsummary\n",
    "# torchsummary.summary(model,(3,384,384))"
   ]
  },
  {
   "cell_type": "markdown",
   "id": "dad914c2-5091-4816-a4be-aa76930b6284",
   "metadata": {},
   "source": [
    "## Train\n",
    "transfer learning train model - https://pytorch.org/tutorials/beginner/transfer_learning_tutorial.html   \n",
    "save checkpoint - https://tutorials.pytorch.kr/recipes/recipes/saving_and_loading_a_general_checkpoint.html   \n",
    "f1 score - https://eunsukimme.github.io/ml/2019/10/21/Accuracy-Recall-Precision-F1-score/   \n",
    "f1 = f1_score(labels, logits) - ypredict:0-17 ytarget:0-17   \n",
    "https://www.delftstack.com/ko/howto/numpy/python-convert-tensor-to-numpy-array/   \n",
    "tqdm - http://www.gisdeveloper.co.kr/?p=8636    \n"
   ]
  },
  {
   "cell_type": "code",
   "execution_count": 23,
   "id": "61a606d7-58d8-482c-b97e-b4c0f3920c3f",
   "metadata": {},
   "outputs": [],
   "source": [
    "from sklearn.metrics import f1_score\n",
    "from PIL import ImageFile\n",
    "ImageFile.LOAD_TRUNCATED_IMAGES = True"
   ]
  },
  {
   "cell_type": "raw",
   "id": "19407cce-11ed-49f9-ac50-ee336c5db176",
   "metadata": {},
   "source": [
    "def train_model(model, loss_fn, optimizer, num_epochs=25):\n",
    "    since = time.time()\n",
    "    best_acc = 0.0\n",
    "\n",
    "    for epoch in range(num_epochs):\n",
    "        # Each epoch has a training and validation phase\n",
    "        for phase in [\"train\", \"val\"]:\n",
    "            running_loss, running_acc, running_f1 = 0., 0., 0.\n",
    "#             n_total, n_correct = 0, 0\n",
    "            if phase == \"train\":\n",
    "                model.train() \n",
    "            elif phase == \"val\":\n",
    "                model.eval() \n",
    "\n",
    "            for images, labels in tqdm(dataloaders[phase]):\n",
    "                predict = []\n",
    "                images = images.to(device)\n",
    "                labels = labels.to(device)\n",
    "\n",
    "                optimizer.zero_grad() \n",
    "\n",
    "                with torch.set_grad_enabled(phase == \"train\"):\n",
    "                    logits = model(images)\n",
    "                    _, preds = torch.max(logits, 1)\n",
    "                    loss = loss_fn(logits, labels)                \n",
    "#                     score = f1_score(labels.detach().cpu().numpy(),preds.detach().cpu().numpy(),average='micro')\n",
    "\n",
    "                    if phase == \"train\":\n",
    "                        loss.backward() \n",
    "                \n",
    "                running_loss += loss.item() * images.size(0) \n",
    "                running_acc += torch.sum(preds == labels.data) \n",
    "#                 running_f1 += score\n",
    "            \n",
    "            epoch_loss = running_loss / len(dataloaders[phase].dataset) \n",
    "            epoch_acc = running_acc / len(dataloaders[phase].dataset)\n",
    "#             epoch_f1 = running_f1 / (len(dataloaders[phase].dataset)/batch_size)\n",
    "\n",
    "            print('{} Loss: {:.4f} Acc: {:.4f}'.format(phase, epoch_loss, epoch_acc))\n",
    "#             print('Epoch {}/{} - {} Loss: {:.4f} Acc: {:.4f} f1_score: {:.4f}'.format(epoch, num_epochs-1, phase, epoch_loss, epoch_acc, epoch_f1))\n",
    "\n",
    "            # deep copy the model\n",
    "            if phase == 'val' and epoch_acc > best_acc:\n",
    "                best_acc = epoch_acc\n",
    "\n",
    "        print()\n",
    "\n",
    "    time_elapsed = time.time() - since\n",
    "    print('Training complete in {:.0f}m {:.0f}s'.format(time_elapsed // 60, time_elapsed % 60))\n",
    "    print('Best val Acc: {:4f}'.format(best_acc))\n",
    "\n",
    "    return model"
   ]
  },
  {
   "cell_type": "markdown",
   "id": "6b24a32c-9d52-4f56-b24e-3a2c5189a791",
   "metadata": {},
   "source": [
    "can't convert cuda:0 device type tensor to numpy ---> 28 tmp = logits.numpy() -   \n",
    "Can't call numpy() on Tensor that requires grad ---> 28 tmp = logits.cpu().numpy() - "
   ]
  },
  {
   "cell_type": "code",
   "execution_count": 33,
   "id": "b5f0c51c-f847-427e-9f36-073c284cf8e0",
   "metadata": {},
   "outputs": [],
   "source": [
    "def train_model(model, loss_fn, optimizer, num_epochs=25):\n",
    "    since = time.time()   \n",
    "    best_acc = 0.0\n",
    "\n",
    "    for epoch in range(num_epochs):\n",
    "        # Each epoch has a training and validation phase\n",
    "        for phase in [\"train\", \"val\"]:\n",
    "            running_loss = 0.\n",
    "            running_acc = 0.\n",
    "            running_f1 = 0.\n",
    "            running_f2 = 0.\n",
    "            running_f3 = 0.\n",
    "            if phase == \"train\":\n",
    "                model.train() \n",
    "            elif phase == \"val\":\n",
    "                model.eval() \n",
    "\n",
    "            for images, labels in tqdm(dataloaders[phase]):\n",
    "                images = images.to(device)\n",
    "                labels = labels.to(device)\n",
    "\n",
    "                optimizer.zero_grad() \n",
    "\n",
    "                with torch.set_grad_enabled(phase == \"train\"):\n",
    "                    logits = model(images)\n",
    "                    _, preds = torch.max(logits, 1)\n",
    "                    loss = loss_fn(logits, labels)\n",
    "                    a = labels.detach().cpu().numpy()\n",
    "                    b = preds.detach().cpu().numpy()\n",
    "                    f1_1 = f1_score(a, b, average='micro')\n",
    "                    f1_2 = f1_score(a, b, average='macro')\n",
    "                    f1_3 = f1_score(a, b, average='weighted')\n",
    "\n",
    "                    if phase == \"train\":\n",
    "                        loss.backward() \n",
    "                        optimizer.step() \n",
    "\n",
    "                running_loss += loss.item() * images.size(0) \n",
    "                running_acc += torch.sum(preds == labels.data)\n",
    "                running_f1 += f1_1 * images.size(0) \n",
    "                running_f2 += f1_2 * images.size(0) \n",
    "                running_f3 += f1_3 * images.size(0) \n",
    "\n",
    "            epoch_loss = running_loss / len(dataloaders[phase].dataset) \n",
    "            epoch_acc = running_acc / len(dataloaders[phase].dataset)\n",
    "            epoch_f1 = running_f1 / (len(dataloaders[phase].dataset))\n",
    "            epoch_f2 = running_f2 / (len(dataloaders[phase].dataset))\n",
    "            epoch_f3 = running_f3 / (len(dataloaders[phase].dataset))\n",
    "\n",
    "            print('Epoch {}/{} - {} Loss: {:.4f} Acc: {:.4f} '.format(epoch, num_epochs-1, phase, epoch_loss, epoch_acc))\n",
    "            print('f1_score1: {:.4f} f1_score2: {:.4f} f1_score3: {:.4f}'.format(epoch_f1, epoch_f2, epoch_f3))\n",
    "            \n",
    "            # deep copy the model\n",
    "            if phase == 'val' and epoch_acc > best_acc:\n",
    "                best_acc = epoch_acc\n",
    "        print()\n",
    "\n",
    "    time_elapsed = time.time() - since\n",
    "    print('Training complete in {:.0f}m {:.0f}s'.format(time_elapsed // 60, time_elapsed % 60))\n",
    "    print('Best val Acc: {:4f}'.format(best_acc))\n",
    "\n",
    "    return model"
   ]
  },
  {
   "cell_type": "code",
   "execution_count": 34,
   "id": "3ac7b221-b81e-4906-9774-6201932c37e1",
   "metadata": {},
   "outputs": [
    {
     "data": {
      "application/vnd.jupyter.widget-view+json": {
       "model_id": "4385107670684a9dbc0316eb464c0a7a",
       "version_major": 2,
       "version_minor": 0
      },
      "text/plain": [
       "HBox(children=(HTML(value=''), FloatProgress(value=0.0, max=60.0), HTML(value='')))"
      ]
     },
     "metadata": {},
     "output_type": "display_data"
    },
    {
     "name": "stdout",
     "output_type": "stream",
     "text": [
      "\n",
      "Epoch 0/4 - train Loss: 2.3971 Acc: 0.5858 \n",
      "f1_score1: 0.5858 f1_score2: 0.1670 f1_score3: 0.4692\n"
     ]
    },
    {
     "data": {
      "application/vnd.jupyter.widget-view+json": {
       "model_id": "35148133e20b4f389ced73d2a72023f5",
       "version_major": 2,
       "version_minor": 0
      },
      "text/plain": [
       "HBox(children=(HTML(value=''), FloatProgress(value=0.0, max=15.0), HTML(value='')))"
      ]
     },
     "metadata": {},
     "output_type": "display_data"
    },
    {
     "name": "stdout",
     "output_type": "stream",
     "text": [
      "\n",
      "Epoch 0/4 - val Loss: 2.4261 Acc: 0.5556 \n",
      "f1_score1: 0.5556 f1_score2: 0.1571 f1_score3: 0.4463\n",
      "\n"
     ]
    },
    {
     "data": {
      "application/vnd.jupyter.widget-view+json": {
       "model_id": "845be42590574576ac737827fcc858c3",
       "version_major": 2,
       "version_minor": 0
      },
      "text/plain": [
       "HBox(children=(HTML(value=''), FloatProgress(value=0.0, max=60.0), HTML(value='')))"
      ]
     },
     "metadata": {},
     "output_type": "display_data"
    },
    {
     "name": "stdout",
     "output_type": "stream",
     "text": [
      "\n",
      "Epoch 1/4 - train Loss: 2.3894 Acc: 0.5928 \n",
      "f1_score1: 0.5928 f1_score2: 0.1655 f1_score3: 0.4760\n"
     ]
    },
    {
     "data": {
      "application/vnd.jupyter.widget-view+json": {
       "model_id": "1ef8f40027ca44d4830277eeff3825e9",
       "version_major": 2,
       "version_minor": 0
      },
      "text/plain": [
       "HBox(children=(HTML(value=''), FloatProgress(value=0.0, max=15.0), HTML(value='')))"
      ]
     },
     "metadata": {},
     "output_type": "display_data"
    },
    {
     "name": "stdout",
     "output_type": "stream",
     "text": [
      "\n",
      "Epoch 1/4 - val Loss: 2.4568 Acc: 0.5238 \n",
      "f1_score1: 0.5238 f1_score2: 0.1503 f1_score3: 0.4212\n",
      "\n"
     ]
    },
    {
     "data": {
      "application/vnd.jupyter.widget-view+json": {
       "model_id": "78be3c65a7224920a8fb6e75a860353d",
       "version_major": 2,
       "version_minor": 0
      },
      "text/plain": [
       "HBox(children=(HTML(value=''), FloatProgress(value=0.0, max=60.0), HTML(value='')))"
      ]
     },
     "metadata": {},
     "output_type": "display_data"
    },
    {
     "name": "stdout",
     "output_type": "stream",
     "text": [
      "\n",
      "Epoch 2/4 - train Loss: 2.3860 Acc: 0.5958 \n",
      "f1_score1: 0.5958 f1_score2: 0.1674 f1_score3: 0.4775\n"
     ]
    },
    {
     "data": {
      "application/vnd.jupyter.widget-view+json": {
       "model_id": "36d249ee594f4b31b2fc9e1638b7001e",
       "version_major": 2,
       "version_minor": 0
      },
      "text/plain": [
       "HBox(children=(HTML(value=''), FloatProgress(value=0.0, max=15.0), HTML(value='')))"
      ]
     },
     "metadata": {},
     "output_type": "display_data"
    },
    {
     "name": "stdout",
     "output_type": "stream",
     "text": [
      "\n",
      "Epoch 2/4 - val Loss: 2.4274 Acc: 0.5543 \n",
      "f1_score1: 0.5543 f1_score2: 0.1537 f1_score3: 0.4457\n",
      "\n"
     ]
    },
    {
     "data": {
      "application/vnd.jupyter.widget-view+json": {
       "model_id": "3c4b1cbc87124b5592a6dc4caa70ea0e",
       "version_major": 2,
       "version_minor": 0
      },
      "text/plain": [
       "HBox(children=(HTML(value=''), FloatProgress(value=0.0, max=60.0), HTML(value='')))"
      ]
     },
     "metadata": {},
     "output_type": "display_data"
    },
    {
     "name": "stdout",
     "output_type": "stream",
     "text": [
      "\n",
      "Epoch 3/4 - train Loss: 2.3743 Acc: 0.6084 \n",
      "f1_score1: 0.6084 f1_score2: 0.1732 f1_score3: 0.4879\n"
     ]
    },
    {
     "data": {
      "application/vnd.jupyter.widget-view+json": {
       "model_id": "cde186a5fb074254a8e116794fcd462b",
       "version_major": 2,
       "version_minor": 0
      },
      "text/plain": [
       "HBox(children=(HTML(value=''), FloatProgress(value=0.0, max=15.0), HTML(value='')))"
      ]
     },
     "metadata": {},
     "output_type": "display_data"
    },
    {
     "name": "stdout",
     "output_type": "stream",
     "text": [
      "\n",
      "Epoch 3/4 - val Loss: 2.4061 Acc: 0.5771 \n",
      "f1_score1: 0.5771 f1_score2: 0.1638 f1_score3: 0.4637\n",
      "\n"
     ]
    },
    {
     "data": {
      "application/vnd.jupyter.widget-view+json": {
       "model_id": "a72bc9566708418899f33a572c3fc5c2",
       "version_major": 2,
       "version_minor": 0
      },
      "text/plain": [
       "HBox(children=(HTML(value=''), FloatProgress(value=0.0, max=60.0), HTML(value='')))"
      ]
     },
     "metadata": {},
     "output_type": "display_data"
    },
    {
     "name": "stdout",
     "output_type": "stream",
     "text": [
      "\n",
      "Epoch 4/4 - train Loss: 2.3673 Acc: 0.6140 \n",
      "f1_score1: 0.6140 f1_score2: 0.1740 f1_score3: 0.4923\n"
     ]
    },
    {
     "data": {
      "application/vnd.jupyter.widget-view+json": {
       "model_id": "5babf4d3b1354a34856fd9b72cf283ab",
       "version_major": 2,
       "version_minor": 0
      },
      "text/plain": [
       "HBox(children=(HTML(value=''), FloatProgress(value=0.0, max=15.0), HTML(value='')))"
      ]
     },
     "metadata": {},
     "output_type": "display_data"
    },
    {
     "name": "stdout",
     "output_type": "stream",
     "text": [
      "\n",
      "Epoch 4/4 - val Loss: 2.4270 Acc: 0.5556 \n",
      "f1_score1: 0.5556 f1_score2: 0.1558 f1_score3: 0.4461\n",
      "\n",
      "Training complete in 10m 38s\n",
      "Best val Acc: 0.577107\n"
     ]
    }
   ],
   "source": [
    "model = train_model(model, loss_fn, optimizer, num_epochs=5)"
   ]
  },
  {
   "cell_type": "code",
   "execution_count": null,
   "id": "12f4a552-ef02-43d2-a81e-54edee0b106e",
   "metadata": {},
   "outputs": [],
   "source": []
  }
 ],
 "metadata": {
  "kernelspec": {
   "display_name": "Python 3 (ipykernel)",
   "language": "python",
   "name": "python3"
  },
  "language_info": {
   "codemirror_mode": {
    "name": "ipython",
    "version": 3
   },
   "file_extension": ".py",
   "mimetype": "text/x-python",
   "name": "python",
   "nbconvert_exporter": "python",
   "pygments_lexer": "ipython3",
   "version": "3.8.5"
  }
 },
 "nbformat": 4,
 "nbformat_minor": 5
}
