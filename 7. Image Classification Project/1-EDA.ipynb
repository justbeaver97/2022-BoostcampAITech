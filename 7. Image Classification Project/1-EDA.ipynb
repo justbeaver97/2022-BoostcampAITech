{
 "cells": [
  {
   "cell_type": "code",
   "execution_count": 1,
   "id": "9e82b281-cc35-4d5d-bb5b-4b2a6739f2c3",
   "metadata": {},
   "outputs": [],
   "source": [
    "# !pip install seaborn"
   ]
  },
  {
   "cell_type": "markdown",
   "id": "405a17e1-754b-4a1e-94b7-2ff5ec523a05",
   "metadata": {},
   "source": [
    "## Import Libraries"
   ]
  },
  {
   "cell_type": "code",
   "execution_count": 82,
   "id": "0a9596c2-2032-4cdb-b780-850c2c466e6c",
   "metadata": {
    "tags": []
   },
   "outputs": [],
   "source": [
    "import os\n",
    "\n",
    "# 데이터 분석 라이브러리\n",
    "import numpy as np\n",
    "import pandas as pd\n",
    "\n",
    "# 시각화 라이브러리\n",
    "import matplotlib as mpl\n",
    "import matplotlib.pyplot as plt\n",
    "import seaborn as sns\n",
    "\n",
    "from PIL import Image"
   ]
  },
  {
   "cell_type": "markdown",
   "id": "0a1aad99-00b7-48e8-95d0-52ecc4ae2f2c",
   "metadata": {},
   "source": [
    "## Define the Path of the data"
   ]
  },
  {
   "cell_type": "code",
   "execution_count": 83,
   "id": "e0d80c03-f24e-45d0-ab09-69943e74238d",
   "metadata": {},
   "outputs": [],
   "source": [
    "IMAGE_PATH = \"../input/data\"\n",
    "TRAIN_IMAGE_PATH = os.path.join(IMAGE_PATH, 'train/images')\n",
    "TEST_IMAGE_PATH = os.path.join(IMAGE_PATH, 'eval/images')\n",
    "# print(TRAIN_IMAGE_PATH, TEST_IMAGE_PATH)"
   ]
  },
  {
   "cell_type": "markdown",
   "id": "ba796970-b82e-4d5a-bbea-af4d46c54003",
   "metadata": {},
   "source": [
    "## Create an array that shows label for each data's path\n",
    "if 특정단어 in string - https://anweh.tistory.com/15\n"
   ]
  },
  {
   "cell_type": "code",
   "execution_count": 84,
   "id": "75361d3a-bb51-4711-b277-c50e5a8c1a2e",
   "metadata": {},
   "outputs": [],
   "source": [
    "def find_label(path, image):\n",
    "    label = -1\n",
    "    personID, gender, _, age = path.split('/')[-1].split('_')\n",
    "    \n",
    "    ## label 'not wear' - 12 ~ 17\n",
    "    if 'normal' in image:\n",
    "        if gender == \"male\":\n",
    "            if int(age) < 30:   label = 12\n",
    "            elif int(age) < 60: label = 13\n",
    "            else:          label = 14\n",
    "        else:\n",
    "            if int(age) < 30:   label = 15\n",
    "            elif int(age) < 60: label = 16\n",
    "            else:          label = 17\n",
    "            \n",
    "    ## label 'incorrect' - 6 ~ 11\n",
    "    elif 'incorrect' in image:\n",
    "        if gender == \"male\":\n",
    "            if int(age) < 30:   label = 6\n",
    "            elif int(age) < 60: label = 7\n",
    "            else:          label = 8\n",
    "        else:\n",
    "            if int(age) < 30:   label = 9\n",
    "            elif int(age) < 60: label = 10\n",
    "            else:          label = 11\n",
    "        \n",
    "    ## label 'wear' - 0 ~ 5\n",
    "    else:\n",
    "        if gender == \"male\":\n",
    "            if int(age) < 30:   label = 0\n",
    "            elif int(age) < 60: label = 1\n",
    "            else:          label = 2\n",
    "        else:\n",
    "            if int(age) < 30:   label = 3\n",
    "            elif int(age) < 60: label = 4\n",
    "            else:          label = 5\n",
    "    \n",
    "    ## check whether the data has been properly inserted\n",
    "    # print(label, image, gender, age)\n",
    "\n",
    "    return label"
   ]
  },
  {
   "cell_type": "code",
   "execution_count": 85,
   "id": "1c002375-23fb-432b-87b3-8571719e38f3",
   "metadata": {},
   "outputs": [
    {
     "data": {
      "text/plain": [
       "[{'img_path': '../input/data/train/images/001520_female_Asian_47/mask1.jpg',\n",
       "  'label': 4},\n",
       " {'img_path': '../input/data/train/images/001520_female_Asian_47/incorrect_mask.jpg',\n",
       "  'label': 10},\n",
       " {'img_path': '../input/data/train/images/001520_female_Asian_47/mask2.jpg',\n",
       "  'label': 4},\n",
       " {'img_path': '../input/data/train/images/001520_female_Asian_47/normal.jpg',\n",
       "  'label': 16},\n",
       " {'img_path': '../input/data/train/images/001520_female_Asian_47/mask4.jpg',\n",
       "  'label': 4}]"
      ]
     },
     "execution_count": 85,
     "metadata": {},
     "output_type": "execute_result"
    }
   ],
   "source": [
    "individual_train_path = []\n",
    "tmp = []\n",
    "\n",
    "# count = 0\n",
    "for path in os.walk(TRAIN_IMAGE_PATH):     \n",
    "    ## current path\n",
    "    img_path = path[0]  \n",
    "\n",
    "    if img_path.split('/')[-1] == \"images\":\n",
    "        continue\n",
    "    \n",
    "    ## name of files inside the current path\n",
    "    inner_path = os.listdir(img_path)\n",
    "    \n",
    "#     print(\"img_path:\", img_path)     ## check img_path\n",
    "#     print(\"inner_path:\", inner_path) ## check inner_path\n",
    "        \n",
    "    for image in inner_path:\n",
    "        if image[0] != '.':\n",
    "            final_path = os.path.join(img_path, image)\n",
    "#             tmp.append(image)\n",
    "#             print(\"final_path:\",final_path)\n",
    "            label = find_label(img_path, image)\n",
    "            column = {'img_path':final_path, 'label': label}\n",
    "            individual_train_path.append(column)\n",
    "    \n",
    "    # break\n",
    "\n",
    "## To check all the possible labels\n",
    "# print(sorted(list(set(tmp))))\n",
    "\n",
    "## Check Data\n",
    "individual_train_path[:5]"
   ]
  },
  {
   "cell_type": "code",
   "execution_count": 86,
   "id": "fd89b9c7-d7a6-4e13-99f3-38681c53d7a3",
   "metadata": {},
   "outputs": [
    {
     "data": {
      "text/plain": [
       "[{'img_path': '../input/data/eval/images/dd5a58356f1a8784d90cf46ad8b0631240d40730.jpg',\n",
       "  'label': -1},\n",
       " {'img_path': '../input/data/eval/images/15d0255493af42f0049610ee310a843810303fae.jpg',\n",
       "  'label': -1},\n",
       " {'img_path': '../input/data/eval/images/19cc80d3027cf21ff5048eecc1f27d8b65de26e1.jpg',\n",
       "  'label': -1},\n",
       " {'img_path': '../input/data/eval/images/0b86db5626caf284d4ce10e9afc7e32683dd380c.jpg',\n",
       "  'label': -1},\n",
       " {'img_path': '../input/data/eval/images/08f5389b4490ad4b48632fb431537a714a95a314.jpg',\n",
       "  'label': -1}]"
      ]
     },
     "execution_count": 86,
     "metadata": {},
     "output_type": "execute_result"
    }
   ],
   "source": [
    "individual_test_path = []\n",
    "tmp = []\n",
    "\n",
    "for path in os.walk(TEST_IMAGE_PATH):     \n",
    "    ## current path\n",
    "    img_path = path[0]\n",
    "\n",
    "    for image in path[2]:\n",
    "        if image[0] != '.':\n",
    "            final_path = os.path.join(img_path, image)\n",
    "            label = -1\n",
    "            column = {'img_path':final_path, 'label': label}\n",
    "            individual_test_path.append(column)\n",
    "\n",
    "## Check Data\n",
    "individual_test_path[:5]"
   ]
  },
  {
   "cell_type": "code",
   "execution_count": 87,
   "id": "95e5e296-994a-4d93-9092-e30222195bf4",
   "metadata": {},
   "outputs": [
    {
     "name": "stdout",
     "output_type": "stream",
     "text": [
      "                                                img_path  label\n",
      "1233   ../input/data/train/images/005250_male_Asian_2...      0\n",
      "9502   ../input/data/train/images/000531_female_Asian...      4\n",
      "14063  ../input/data/train/images/000237_male_Asian_5...      7\n",
      "15967  ../input/data/train/images/005016_female_Asian...     10\n",
      "8722   ../input/data/train/images/006541_female_Asian...      3\n",
      "                                               img_path  label\n",
      "4216  ../input/data/eval/images/93ef67c042f9415d74dd...     -1\n",
      "5386  ../input/data/eval/images/5f4d3d6aeef3560052b3...     -1\n",
      "7550  ../input/data/eval/images/f1b23f827ce59aa0121e...     -1\n",
      "9112  ../input/data/eval/images/498677be4e1014bac7ae...     -1\n",
      "1151  ../input/data/eval/images/6707950f0367c66b1445...     -1\n"
     ]
    }
   ],
   "source": [
    "## individual_path is dictionary. make it to dataframe so we can use it\n",
    "\n",
    "traindataset = pd.DataFrame(individual_train_path)\n",
    "traindataset = traindataset.sort_values(['label','img_path'])\n",
    "traindataset = traindataset.reset_index(drop=True)    \n",
    "\n",
    "testdataset = pd.DataFrame(individual_test_path)\n",
    "testdataset = testdataset.reset_index(drop=True)  \n",
    "\n",
    "## check whether the data has transformed into DataFrame\n",
    "print(traindataset.sample(5))\n",
    "print(testdataset.sample(5))"
   ]
  },
  {
   "cell_type": "markdown",
   "id": "72a02d19-5c3e-4f34-b5e7-0500d0cd9d7a",
   "metadata": {},
   "source": [
    "## Divide train to train & val\n",
    "value_counts - https://bigdaheta.tistory.com/46"
   ]
  },
  {
   "cell_type": "code",
   "execution_count": 88,
   "id": "7896c75f-d498-4d5b-9a9f-f52135705cdc",
   "metadata": {},
   "outputs": [
    {
     "data": {
      "text/plain": [
       "4     4085\n",
       "3     3660\n",
       "0     2745\n",
       "1     2050\n",
       "16     817\n",
       "10     817\n",
       "15     732\n",
       "9      732\n",
       "12     549\n",
       "6      549\n",
       "5      545\n",
       "2      415\n",
       "7      410\n",
       "13     410\n",
       "11     109\n",
       "17     109\n",
       "8       83\n",
       "14      83\n",
       "Name: label, dtype: int64"
      ]
     },
     "execution_count": 88,
     "metadata": {},
     "output_type": "execute_result"
    }
   ],
   "source": [
    "traindataset['label'].value_counts()"
   ]
  },
  {
   "cell_type": "code",
   "execution_count": 91,
   "id": "44e71685-5d45-43ff-b52f-ab02dbe2fe82",
   "metadata": {},
   "outputs": [],
   "source": [
    "# trainpath = []\n",
    "# valpath = []\n",
    "\n",
    "# label_count = traindataset['label'].value_counts()\n",
    "\n",
    "# for i in range(len(label_count)):\n",
    "#     cut = int(label_count[i]*0.8)\n",
    "#     count = 0\n",
    "#     elsecount = 0\n",
    "#     for j in range(len(traindataset)):\n",
    "#         if traindataset['label'][j] == i and count < cut:\n",
    "#             label = i\n",
    "#             column = {'img_path':traindataset['img_path'][j], 'label': label}\n",
    "#             trainpath.append(column)\n",
    "#             count += 1\n",
    "#         elif traindataset['label'][j] == i and count >= cut:\n",
    "#             label = i\n",
    "#             column = {'img_path':traindataset['img_path'][j], 'label': label}\n",
    "#             valpath.append(column)\n",
    "#             elsecount += 1\n",
    "#     print(count, elsecount, count+elsecount, label_count[i])"
   ]
  },
  {
   "cell_type": "code",
   "execution_count": 89,
   "id": "84fd65c9-53df-41a8-91be-6e23dbc79f9a",
   "metadata": {},
   "outputs": [
    {
     "name": "stdout",
     "output_type": "stream",
     "text": [
      "2196 549 2745 2745\n",
      "1640 410 2050 2050\n",
      "332 83 415 415\n",
      "2928 732 3660 3660\n",
      "3268 817 4085 4085\n",
      "436 109 545 545\n",
      "440 109 549 549\n",
      "328 82 410 410\n",
      "67 16 83 83\n",
      "586 146 732 732\n",
      "654 163 817 817\n",
      "88 21 109 109\n",
      "440 109 549 549\n",
      "328 82 410 410\n",
      "67 16 83 83\n",
      "586 146 732 732\n",
      "654 163 817 817\n",
      "88 21 109 109\n"
     ]
    }
   ],
   "source": [
    "trainpath = []\n",
    "valpath = []\n",
    "\n",
    "label_count = traindataset['label'].value_counts()\n",
    "\n",
    "for i in range(len(label_count)):\n",
    "    cut = int(label_count[i]*0.8)\n",
    "    count = 0\n",
    "    traincount = 0\n",
    "    evalcount = 0\n",
    "    for j in range(len(traindataset)):\n",
    "        if traindataset['label'][j] == i:\n",
    "            if count == 4:\n",
    "                label = i\n",
    "                column = {'img_path':traindataset['img_path'][j], 'label': label}\n",
    "                valpath.append(column)\n",
    "                count = 0\n",
    "                evalcount += 1\n",
    "                continue\n",
    "            label = i\n",
    "            column = {'img_path':traindataset['img_path'][j], 'label': label}\n",
    "            trainpath.append(column)\n",
    "            count += 1\n",
    "            traincount += 1\n",
    "#     print(traincount, evalcount, traincount+evalcount, label_count[i])"
   ]
  },
  {
   "cell_type": "code",
   "execution_count": 92,
   "id": "29f56603-7ecd-4dc1-8d42-4098966b0b02",
   "metadata": {},
   "outputs": [],
   "source": [
    "## Check Data\n",
    "# print(trainpath[:20])\n",
    "# print()\n",
    "# print(valpath[:20])"
   ]
  },
  {
   "cell_type": "code",
   "execution_count": 93,
   "id": "58d32fb7-17ce-455e-95fd-32d3bbbe358e",
   "metadata": {},
   "outputs": [],
   "source": [
    "traindataset = pd.DataFrame(trainpath)\n",
    "traindataset = traindataset.sort_values(['label','img_path'])\n",
    "traindataset = traindataset.reset_index(drop=True)   \n",
    "\n",
    "valdataset = pd.DataFrame(valpath)\n",
    "valdataset = valdataset.sort_values(['label','img_path'])\n",
    "valdataset = valdataset.reset_index(drop=True)   "
   ]
  },
  {
   "cell_type": "markdown",
   "id": "6c342bd9-bc48-4a70-a5a6-4221e2ced404",
   "metadata": {},
   "source": [
    "## Save the datasets in .csv\n",
    "save in csv - https://hleecaster.com/python-pandas-creating-and-loading-dataframes/"
   ]
  },
  {
   "cell_type": "code",
   "execution_count": 94,
   "id": "6ca7e20f-72da-4f67-98d3-237b2cde6985",
   "metadata": {},
   "outputs": [],
   "source": [
    "traindataset.to_csv('train_data.csv')"
   ]
  },
  {
   "cell_type": "code",
   "execution_count": 95,
   "id": "e7959ad7-6a26-4a44-9a4c-fbb5db866e9c",
   "metadata": {},
   "outputs": [],
   "source": [
    "valdataset.to_csv('val_data.csv')"
   ]
  },
  {
   "cell_type": "code",
   "execution_count": 96,
   "id": "e51a5c31-6e8a-4800-b241-c9c6d06bdb1e",
   "metadata": {},
   "outputs": [],
   "source": [
    "testdataset.to_csv('test_data.csv')"
   ]
  },
  {
   "cell_type": "markdown",
   "id": "7eceab36-37f4-484f-ad89-c807f3ec565d",
   "metadata": {},
   "source": [
    "## informations about the data"
   ]
  },
  {
   "cell_type": "code",
   "execution_count": 97,
   "id": "0297a144-3fd5-4c0d-99fa-61cce2c8c2a5",
   "metadata": {},
   "outputs": [],
   "source": [
    "# traindataset.info()"
   ]
  },
  {
   "cell_type": "code",
   "execution_count": 98,
   "id": "7b2594f1-63ce-43c0-b9bc-618f498a5d61",
   "metadata": {},
   "outputs": [],
   "source": [
    "# valdataset.info()"
   ]
  },
  {
   "cell_type": "code",
   "execution_count": 99,
   "id": "7a9b5833-faa3-434d-95c6-60ec9374d8f7",
   "metadata": {},
   "outputs": [],
   "source": [
    "# testdataset.info()"
   ]
  },
  {
   "cell_type": "code",
   "execution_count": 100,
   "id": "51b97212-44e2-44aa-adbc-8b87c7946fac",
   "metadata": {},
   "outputs": [
    {
     "data": {
      "text/plain": [
       "img_path    15126\n",
       "label       15126\n",
       "dtype: int64"
      ]
     },
     "execution_count": 100,
     "metadata": {},
     "output_type": "execute_result"
    }
   ],
   "source": [
    "traindataset.count()"
   ]
  },
  {
   "cell_type": "code",
   "execution_count": 101,
   "id": "b954d430-14f7-42f2-9d3f-124db24a7c5a",
   "metadata": {},
   "outputs": [
    {
     "data": {
      "text/plain": [
       "img_path    3774\n",
       "label       3774\n",
       "dtype: int64"
      ]
     },
     "execution_count": 101,
     "metadata": {},
     "output_type": "execute_result"
    }
   ],
   "source": [
    "valdataset.count()"
   ]
  },
  {
   "cell_type": "code",
   "execution_count": 102,
   "id": "848a350a-5a18-49cf-bd82-55db26321a65",
   "metadata": {},
   "outputs": [
    {
     "data": {
      "text/plain": [
       "img_path    12600\n",
       "label       12600\n",
       "dtype: int64"
      ]
     },
     "execution_count": 102,
     "metadata": {},
     "output_type": "execute_result"
    }
   ],
   "source": [
    "testdataset.count()"
   ]
  },
  {
   "cell_type": "code",
   "execution_count": 103,
   "id": "5f7ebfd6-7e91-4548-bf8d-b6db8bf8ccec",
   "metadata": {},
   "outputs": [
    {
     "name": "stdout",
     "output_type": "stream",
     "text": [
      "2196 549\n"
     ]
    }
   ],
   "source": [
    "print(traindataset['label'].value_counts()[0], valdataset['label'].value_counts()[0])"
   ]
  },
  {
   "cell_type": "code",
   "execution_count": 74,
   "id": "9e5f57e2-c572-4f5e-9492-4a9f5ba98da9",
   "metadata": {},
   "outputs": [
    {
     "data": {
      "text/plain": [
       "4     654\n",
       "3     586\n",
       "0     439\n",
       "1     328\n",
       "10    131\n",
       "16    131\n",
       "9     117\n",
       "15    117\n",
       "12     88\n",
       "6      88\n",
       "5      87\n",
       "2      67\n",
       "7      66\n",
       "13     66\n",
       "11     18\n",
       "17     18\n",
       "14     13\n",
       "8      13\n",
       "Name: label, dtype: int64"
      ]
     },
     "execution_count": 74,
     "metadata": {},
     "output_type": "execute_result"
    }
   ],
   "source": [
    "valdataset['label'].value_counts()"
   ]
  },
  {
   "cell_type": "code",
   "execution_count": 104,
   "id": "2ac9459a-0615-46b7-a9c4-5f4b0785302a",
   "metadata": {},
   "outputs": [
    {
     "data": {
      "image/png": "[encoded data removed]",
      "text/plain": [
       "<Figure size 576x432 with 1 Axes>"
      ]
     },
     "metadata": {
      "needs_background": "light"
     },
     "output_type": "display_data"
    }
   ],
   "source": [
    "fig, ax = plt.subplots(1, 1, figsize=(8, 6))\n",
    "sns.countplot(x='label', data=traindataset)\n",
    "plt.show()"
   ]
  },
  {
   "cell_type": "markdown",
   "id": "ea43fc8f-4f1d-47a8-88e5-2670ef30c26b",
   "metadata": {},
   "source": [
    "## See image and the characteristics of image\n",
    "image show - https://wikidocs.net/153080   \n",
    "random number - http://pythonstudy.xyz/python/article/509-%EB%82%9C%EC%88%98-random"
   ]
  },
  {
   "cell_type": "code",
   "execution_count": 105,
   "id": "4cf3a013-65bd-459e-a400-bdd5235d8fc5",
   "metadata": {},
   "outputs": [
    {
     "name": "stdout",
     "output_type": "stream",
     "text": [
      "../input/data/train/images/004430_male_Asian_18/mask4.jpg\n",
      "JPEG\n",
      "(384, 512)\n",
      "RGB\n"
     ]
    },
    {
     "data": {
      "image/png": "[encoded data removed]",
      "text/plain": [
       "<PIL.JpegImagePlugin.JpegImageFile image mode=RGB size=384x512 at 0x7F8990AE3430>"
      ]
     },
     "execution_count": 105,
     "metadata": {},
     "output_type": "execute_result"
    }
   ],
   "source": [
    "from random import *\n",
    "\n",
    "i = randint(1,len(traindataset))\n",
    "img = Image.open(traindataset['img_path'][i])\n",
    "print(img.filename)\n",
    "print(img.format)\n",
    "print(img.size)\n",
    "print(img.mode)\n",
    "img"
   ]
  },
  {
   "cell_type": "code",
   "execution_count": null,
   "id": "aba487fd-bb93-4a0a-9a7a-97b45a36d516",
   "metadata": {},
   "outputs": [],
   "source": []
  },
  {
   "cell_type": "code",
   "execution_count": null,
   "id": "bac403f7-0dbf-4934-9783-888f171064f3",
   "metadata": {},
   "outputs": [],
   "source": []
  }
 ],
 "metadata": {
  "kernelspec": {
   "display_name": "Python 3 (ipykernel)",
   "language": "python",
   "name": "python3"
  },
  "language_info": {
   "codemirror_mode": {
    "name": "ipython",
    "version": 3
   },
   "file_extension": ".py",
   "mimetype": "text/x-python",
   "name": "python",
   "nbconvert_exporter": "python",
   "pygments_lexer": "ipython3",
   "version": "3.8.5"
  }
 },
 "nbformat": 4,
 "nbformat_minor": 5
}
