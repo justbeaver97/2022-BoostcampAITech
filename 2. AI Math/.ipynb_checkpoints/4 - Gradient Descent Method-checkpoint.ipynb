{
 "cells": [
  {
   "cell_type": "markdown",
   "id": "73a9af52",
   "metadata": {},
   "source": [
    "### Linear Regression based on GDM"
   ]
  },
  {
   "cell_type": "code",
   "execution_count": 1,
   "id": "f5119bea",
   "metadata": {},
   "outputs": [],
   "source": [
    "import numpy as np"
   ]
  },
  {
   "cell_type": "code",
   "execution_count": 3,
   "id": "2deb61c8",
   "metadata": {},
   "outputs": [],
   "source": [
    "X = np.array([[1,1],[1,2],[2,2],[2,3]])\n",
    "y = np.dot(X, np.array([1,2]))+3"
   ]
  },
  {
   "cell_type": "code",
   "execution_count": 21,
   "id": "dec0b0c1",
   "metadata": {},
   "outputs": [],
   "source": [
    "beta_gd = [10.1, 15.1, -6.5]  #[1,2,3]이 정답\n",
    "X_ = np.array([np.append(x,[1]) for x in X])"
   ]
  },
  {
   "cell_type": "code",
   "execution_count": 23,
   "id": "b637609d",
   "metadata": {},
   "outputs": [
    {
     "name": "stdout",
     "output_type": "stream",
     "text": [
      "[1. 2. 3.]\n"
     ]
    }
   ],
   "source": [
    "for t in range(5000):\n",
    "    error = y - X_ @ beta_gd\n",
    "    # error = error / np.linalg.norm(error)\n",
    "    grad = - np.transpose(X_) @ error\n",
    "    beta_gd = beta_gd - 0.01 * grad\n",
    "\n",
    "print(beta_gd)"
   ]
  },
  {
   "cell_type": "code",
   "execution_count": 13,
   "id": "7df394b6",
   "metadata": {},
   "outputs": [],
   "source": [
    "beta_gd = [10.1, 15.1, -6.5]  #[1,2,3]이 정답\n",
    "X_ = np.array([np.append(x,[1]) for x in X])"
   ]
  },
  {
   "cell_type": "code",
   "execution_count": 14,
   "id": "6c0f1927",
   "metadata": {},
   "outputs": [
    {
     "name": "stdout",
     "output_type": "stream",
     "text": [
      "[ 3.41314549  4.63604548 -6.69249764]\n"
     ]
    }
   ],
   "source": [
    "## GDM 에서 learning rate과 learning 횟수는 굉장히 중요한 hyperparameter\n",
    "## too low -> 수렴 자체가 안 될 수도 있음 \n",
    "## too high -> 수렴을 너무 늦게함 & GDM이 불안정하게 움직임\n",
    "\n",
    "for t in range(100):\n",
    "    error = y - X_ @ beta_gd\n",
    "    # error = error / np.linalg.norm(error)\n",
    "    grad = - np.transpose(X_) @ error\n",
    "    beta_gd = beta_gd - 0.01 * grad\n",
    "\n",
    "print(beta_gd)"
   ]
  },
  {
   "cell_type": "code",
   "execution_count": 19,
   "id": "8466eead",
   "metadata": {},
   "outputs": [],
   "source": [
    "beta_gd = [10.1, 15.1, -6.5]  #[1,2,3]이 정답\n",
    "X_ = np.array([np.append(x,[1]) for x in X])"
   ]
  },
  {
   "cell_type": "code",
   "execution_count": 20,
   "id": "9fa8ebd2",
   "metadata": {},
   "outputs": [
    {
     "name": "stdout",
     "output_type": "stream",
     "text": [
      "[0.98443181 1.9787477  2.99012555]\n"
     ]
    }
   ],
   "source": [
    "for t in range(3000):\n",
    "    error = y - X_ @ beta_gd\n",
    "    error = error / np.linalg.norm(error)\n",
    "    grad = - np.transpose(X_) @ error\n",
    "    beta_gd = beta_gd - 0.01 * grad\n",
    "\n",
    "print(beta_gd)"
   ]
  },
  {
   "cell_type": "code",
   "execution_count": null,
   "id": "d1398bcb",
   "metadata": {},
   "outputs": [],
   "source": []
  }
 ],
 "metadata": {
  "kernelspec": {
   "display_name": "Python 3 (ipykernel)",
   "language": "python",
   "name": "python3"
  },
  "language_info": {
   "codemirror_mode": {
    "name": "ipython",
    "version": 3
   },
   "file_extension": ".py",
   "mimetype": "text/x-python",
   "name": "python",
   "nbconvert_exporter": "python",
   "pygments_lexer": "ipython3",
   "version": "3.8.11"
  }
 },
 "nbformat": 4,
 "nbformat_minor": 5
}
