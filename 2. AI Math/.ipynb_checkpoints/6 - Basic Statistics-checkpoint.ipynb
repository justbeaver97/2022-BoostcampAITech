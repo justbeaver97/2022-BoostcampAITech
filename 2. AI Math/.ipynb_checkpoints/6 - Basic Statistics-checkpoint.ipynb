{
 "cells": [
  {
   "cell_type": "code",
   "execution_count": 1,
   "id": "f11ae391",
   "metadata": {},
   "outputs": [],
   "source": [
    "import numpy as np"
   ]
  },
  {
   "cell_type": "code",
   "execution_count": 3,
   "id": "6da94108",
   "metadata": {},
   "outputs": [],
   "source": [
    "## Monte-Carlo\n",
    "\n",
    "def mc_int(fun, low, high, sample_size=100, repeat=10):\n",
    "    int_len = np.abs(high - low)\n",
    "    stat = []\n",
    "    for _ in range(repeat):\n",
    "        x = np.random.uniform(low=low, high=high, size=sample_size)\n",
    "        fun_x = fun(x)\n",
    "        int_val = int_len * np.mean(fun_x)\n",
    "        stat.append(int_val)\n",
    "    return np.mean(stat), np.std(stat)\n",
    "\n",
    "def f_x(x): \n",
    "    return np.exp(-x**2)"
   ]
  },
  {
   "cell_type": "code",
   "execution_count": 4,
   "id": "82f31ced",
   "metadata": {},
   "outputs": [
    {
     "name": "stdout",
     "output_type": "stream",
     "text": [
      "(1.4935689668529577, 0.003692220110013114)\n"
     ]
    }
   ],
   "source": [
    "print(mc_int(f_x, low=-1, high=1, sample_size=10000, repeat=100))"
   ]
  }
 ],
 "metadata": {
  "kernelspec": {
   "display_name": "Python 3 (ipykernel)",
   "language": "python",
   "name": "python3"
  },
  "language_info": {
   "codemirror_mode": {
    "name": "ipython",
    "version": 3
   },
   "file_extension": ".py",
   "mimetype": "text/x-python",
   "name": "python",
   "nbconvert_exporter": "python",
   "pygments_lexer": "ipython3",
   "version": "3.8.11"
  }
 },
 "nbformat": 4,
 "nbformat_minor": 5
}
