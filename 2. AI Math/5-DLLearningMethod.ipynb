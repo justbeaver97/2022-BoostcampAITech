{
 "cells": [
  {
   "cell_type": "code",
   "execution_count": 1,
   "metadata": {},
   "outputs": [
    {
     "name": "stdout",
     "output_type": "stream",
     "text": [
      "Defaulting to user installation because normal site-packages is not writeable\n",
      "Requirement already satisfied: numpy in /Users/justbeaver/Library/Python/3.8/lib/python/site-packages (1.20.1)\n",
      "Note: you may need to restart the kernel to use updated packages.\n"
     ]
    }
   ],
   "source": [
    "pip install numpy"
   ]
  },
  {
   "cell_type": "code",
   "execution_count": 2,
   "metadata": {},
   "outputs": [],
   "source": [
    "import numpy as np"
   ]
  },
  {
   "cell_type": "code",
   "execution_count": 3,
   "metadata": {},
   "outputs": [],
   "source": [
    "# softmax\n",
    "\n",
    "def softmax(vec):\n",
    "    denumerator = np.exp(vec - np.max(vec, axis=-1, keepdims=True))\n",
    "    numerator = np.sum(denumerator, axis=-1, keepdims=True)\n",
    "    val = denumerator / numerator\n",
    "    return val"
   ]
  },
  {
   "cell_type": "code",
   "execution_count": 4,
   "metadata": {},
   "outputs": [
    {
     "data": {
      "text/plain": [
       "array([[2.44728471e-01, 6.65240956e-01, 9.00305732e-02],\n",
       "       [9.00305732e-02, 2.44728471e-01, 6.65240956e-01],\n",
       "       [2.06106005e-09, 4.53978686e-05, 9.99954600e-01]])"
      ]
     },
     "execution_count": 4,
     "metadata": {},
     "output_type": "execute_result"
    }
   ],
   "source": [
    "vec = np.array([[1,2,0],[-1,0,1],[-10,0,10]])\n",
    "softmax(vec)"
   ]
  },
  {
   "cell_type": "code",
   "execution_count": 5,
   "metadata": {},
   "outputs": [],
   "source": [
    "# one_hot\n",
    "\n",
    "def one_hot(val, dim):\n",
    "    return [np.eye(dim)[_] for _ in val]\n",
    "\n",
    "def one_hot_encoding(vec):\n",
    "    vec_dim = vec.shape[1]\n",
    "    vec_argmax = np.argmax(vec, axis=-1)\n",
    "    return one_hot(vec_argmax, vec_dim)\n",
    "\n",
    "def softmax(vec):\n",
    "    denumerator = np.exp(vec - np.max(vec, axis=-1, keepdims=True))\n",
    "    numerator = np.sum(denumerator, axis=-1, keepdims=True)\n",
    "    val = denumerator / numerator\n",
    "    return val"
   ]
  },
  {
   "cell_type": "code",
   "execution_count": 6,
   "metadata": {},
   "outputs": [
    {
     "name": "stdout",
     "output_type": "stream",
     "text": [
      "[array([0., 1., 0.]), array([0., 0., 1.]), array([0., 0., 1.])]\n",
      "[array([0., 1., 0.]), array([0., 0., 1.]), array([0., 0., 1.])]\n"
     ]
    }
   ],
   "source": [
    "vec = np.array([[1,2,0],[-1,0,1],[-10,0,10]])\n",
    "print(one_hot_encoding(vec))\n",
    "print(one_hot_encoding(softmax(vec)))"
   ]
  }
 ],
 "metadata": {
  "interpreter": {
   "hash": "31f2aee4e71d21fbe5cf8b01ff0e069b9275f58929596ceb00d14d90e3e16cd6"
  },
  "kernelspec": {
   "display_name": "Python 3.8.2 64-bit",
   "language": "python",
   "name": "python3"
  },
  "language_info": {
   "codemirror_mode": {
    "name": "ipython",
    "version": 3
   },
   "file_extension": ".py",
   "mimetype": "text/x-python",
   "name": "python",
   "nbconvert_exporter": "python",
   "pygments_lexer": "ipython3",
   "version": "3.8.2"
  },
  "orig_nbformat": 4
 },
 "nbformat": 4,
 "nbformat_minor": 2
}
