{
 "cells": [
  {
   "cell_type": "code",
   "execution_count": 1,
   "metadata": {},
   "outputs": [],
   "source": [
    "import numpy as np\n",
    "import sympy as sym\n",
    "from sympy.abc import x, y"
   ]
  },
  {
   "cell_type": "code",
   "execution_count": 2,
   "metadata": {},
   "outputs": [
    {
     "data": {
      "text/latex": [
       "$\\displaystyle \\operatorname{Poly}{\\left( 2 x + 2, x, domain=\\mathbb{Z} \\right)}$"
      ],
      "text/plain": [
       "Poly(2*x + 2, x, domain='ZZ')"
      ]
     },
     "execution_count": 2,
     "metadata": {},
     "output_type": "execute_result"
    }
   ],
   "source": [
    "# 미분(Differentiation)\n",
    "\n",
    "# x^2+2x+3을 x에 대하여 미분\n",
    "sym.diff(sym.poly(x**2 + 2*x + 3), x) "
   ]
  },
  {
   "cell_type": "raw",
   "metadata": {},
   "source": [
    "Gradient Descent Method(Pseudo Code)   \n",
    "   \n",
    "Input: gradient, init, lr, eps    \n",
    "Output: var   \n",
    "   \n",
    "gradient: 미분을 계산하는 함수   \n",
    "init: 시작점   \n",
    "lr: 학습률   \n",
    "eps: 알고리즘 종료조건(컴퓨터로 계산할 때 미분이 정확히 0이 되는 것은 불가능. eps보다 작을때 종료하는 조건 필요)   "
   ]
  },
  {
   "cell_type": "raw",
   "metadata": {},
   "source": [
    "var = init   \n",
    "grad = gradient(var)   \n",
    "while(abs(grad) > eps):   \n",
    "    var = var - lr * grad   \n",
    "    grad = gradient(var)   "
   ]
  },
  {
   "cell_type": "code",
   "execution_count": 3,
   "metadata": {},
   "outputs": [
    {
     "name": "stdout",
     "output_type": "stream",
     "text": [
      "function: Poly(x**2 + 2*x + 3, x, domain='ZZ'), calculation count: 629, \n",
      "minimum: (-0.999995089961704,2.00000000002411)\n"
     ]
    }
   ],
   "source": [
    "# Gradient Descent with 1 variable - x\n",
    "\n",
    "# f(x)=x^2+2x+3 일 때, 경사하강법으로 최소점을 찾는 코드\n",
    "# when f(x)=x^2+2x+3, finding the minimum using GDM\n",
    "\n",
    "def func(val):\n",
    "    fun = sym.poly(x**2 + 2*x + 3)\n",
    "    return fun.subs(x, val), fun\n",
    "\n",
    "def func_gradient(fun, val):\n",
    "    _, function = fun(val)\n",
    "    diff = sym.diff(function, x)\n",
    "    return diff.subs(x, val), diff\n",
    "\n",
    "def gradient_descent(fun, init_point, lr_rate=1e-2, epsilon=1e-5):\n",
    "    cnt = 0\n",
    "    val = init_point\n",
    "    diff, _ = func_gradient(fun, init_point)\n",
    "    while np.abs(diff) > epsilon:\n",
    "        val = val - lr_rate*diff\n",
    "        diff, _ = func_gradient(fun, val)\n",
    "        cnt += 1\n",
    "    print(\"function: {}, calculation count: {}, \\nminimum: ({},{})\".format(fun(val)[1], cnt, val, fun(val)[0]))\n",
    "\n",
    "gradient_descent(fun=func, init_point=np.random.uniform(-2,2))"
   ]
  },
  {
   "cell_type": "code",
   "execution_count": 4,
   "metadata": {},
   "outputs": [
    {
     "name": "stdout",
     "output_type": "stream",
     "text": [
      "function: Poly(x**2 + 2*x + 3, x, domain='ZZ'), calculation count: 671, minimum: (-0.999995043073509,2.00000000002457)\n"
     ]
    }
   ],
   "source": [
    "# f(x)=x^2+2x+3 일 때, 경사하강법으로 최소점을 찾는 코드\n",
    "# when f(x)=x^2+2x+3, finding the minimum using GDM\n",
    "\n",
    "def func(val):\n",
    "    fun = sym.poly(x**2 + 2*x + 3)\n",
    "#     print(fun.subs(x, val), fun)\n",
    "    return fun.subs(x, val), fun  # func.subs(x,val) - 현재 y값\n",
    "\n",
    "def func_gradient(fun, val):\n",
    "    _, function = fun(val)\n",
    "    diff = sym.diff(function, x)\n",
    "#     print(diff.subs(x, val), diff)\n",
    "    return diff.subs(x, val), diff  # diff.subs(x,val) - 현재 기울기값\n",
    "\n",
    "def gradient_descent(fun, init_point, lr_rate=1e-2, epsilon=1e-5):\n",
    "    cnt = 0\n",
    "    val = init_point\n",
    "    diff, _ = func_gradient(fun, init_point)\n",
    "    while np.abs(diff) > epsilon:\n",
    "        val = val - lr_rate*diff  # val - 현재 x값\n",
    "        diff, _ = func_gradient(fun, val)\n",
    "#         print(val, diff)\n",
    "        cnt += 1\n",
    "#     print(fun(val))\n",
    "    print(\"function: {}, calculation count: {}, minimum: ({},{})\".format(fun(val)[1], cnt, val, fun(val)[0]))\n",
    "\n",
    "gradient_descent(fun=func, init_point=np.random.uniform(-3,3))"
   ]
  },
  {
   "cell_type": "code",
   "execution_count": 5,
   "metadata": {},
   "outputs": [
    {
     "name": "stderr",
     "output_type": "stream",
     "text": [
      "/Users/yehyunsuh/miniconda3/lib/python3.8/site-packages/sympy/polys/polytools.py:75: SymPyDeprecationWarning: \n",
      "\n",
      "Mixing Poly with non-polynomial expressions in binary operations has\n",
      "been deprecated since SymPy 1.6. Use the as_expr or as_poly method to\n",
      "convert types instead. See https://github.com/sympy/sympy/issues/18613\n",
      "for more info.\n",
      "\n",
      "  SymPyDeprecationWarning(\n"
     ]
    },
    {
     "data": {
      "text/latex": [
       "$\\displaystyle 2 x + 2 y - \\sin{\\left(x + 2 y \\right)}$"
      ],
      "text/plain": [
       "2*x + 2*y - sin(x + 2*y)"
      ]
     },
     "execution_count": 5,
     "metadata": {},
     "output_type": "execute_result"
    }
   ],
   "source": [
    "# 변수가 벡터인 경우(When variable is a vector)\n",
    "\n",
    "sym.diff(sym.poly(x**2 + 2*x*y + 3) + sym.cos(x + 2*y), x)"
   ]
  },
  {
   "cell_type": "code",
   "execution_count": 7,
   "metadata": {},
   "outputs": [
    {
     "name": "stdout",
     "output_type": "stream",
     "text": [
      "function: Poly(x**2 + 2*y**2, x, y, domain='ZZ'), calculation count: 610, \n",
      "minimum: ([4.97590545e-06 1.99155513e-11],2.47596350264141E-11)\n"
     ]
    }
   ],
   "source": [
    "# Gradient Descent with vector variable - partial differentiation\n",
    "\n",
    "# f(x)=x^2+2y^2 일 때, 경사하강법(편미분)으로 최소점을 찾는 코드\n",
    "# when f(x)=x^2+2y^2, finding the minimum using GDM\n",
    "\n",
    "def eval_(fun, val):\n",
    "    val_x, val_y = val\n",
    "    fun_eval = fun.subs(x, val_x).subs(y, val_y)\n",
    "    return fun_eval\n",
    "\n",
    "def func_multi(val):\n",
    "    x_, y_ = val\n",
    "    func = sym.poly(x**2 + 2*y**2)\n",
    "    return eval_(func, [x_, y_]), func\n",
    "\n",
    "def func_gradient(fun, val):\n",
    "    x_, y_ = val\n",
    "    _, function = fun(val)\n",
    "    diff_x = sym.diff(function, x)\n",
    "    diff_y = sym.diff(function, y)\n",
    "    grad_vec = np.array([eval_(diff_x, [x_, y_]), eval_(diff_y, [x_, y_])], dtype=float)\n",
    "    return grad_vec, [diff_x, diff_y]\n",
    "\n",
    "def gradient_descent(fun, init_point, lr_rate=1e-2, epsilon=1e-5):\n",
    "    cnt = 0\n",
    "    val = init_point   # ex) [2,2]\n",
    "    diff, _ = func_gradient(fun, val)   # x**2 + 2*y**2, [2,2]\n",
    "    while np.linalg.norm(diff) > epsilon:\n",
    "        val = val - lr_rate*diff\n",
    "        diff, _ = func_gradient(fun, val)\n",
    "        cnt += 1\n",
    "    \n",
    "    print(\"function: {}, calculation count: {}, \\nminimum: ({},{})\".format(fun(val)[1], cnt, val, fun(val)[0]))\n",
    "\n",
    "pt = [np.random.uniform(-2,2),np.random.uniform(-2,2)]\n",
    "gradient_descent(fun=func_multi, init_point=pt)"
   ]
  }
 ],
 "metadata": {
  "interpreter": {
   "hash": "31f2aee4e71d21fbe5cf8b01ff0e069b9275f58929596ceb00d14d90e3e16cd6"
  },
  "kernelspec": {
   "display_name": "Python 3 (ipykernel)",
   "language": "python",
   "name": "python3"
  },
  "language_info": {
   "codemirror_mode": {
    "name": "ipython",
    "version": 3
   },
   "file_extension": ".py",
   "mimetype": "text/x-python",
   "name": "python",
   "nbconvert_exporter": "python",
   "pygments_lexer": "ipython3",
   "version": "3.8.11"
  }
 },
 "nbformat": 4,
 "nbformat_minor": 2
}
