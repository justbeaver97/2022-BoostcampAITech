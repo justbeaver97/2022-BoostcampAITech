{
 "cells": [
  {
   "cell_type": "code",
   "execution_count": 16,
   "metadata": {},
   "outputs": [],
   "source": [
    "# pip install sklearn"
   ]
  },
  {
   "cell_type": "code",
   "execution_count": 1,
   "metadata": {},
   "outputs": [],
   "source": [
    "import numpy as np"
   ]
  },
  {
   "cell_type": "code",
   "execution_count": 2,
   "metadata": {},
   "outputs": [
    {
     "data": {
      "text/plain": [
       "array([[ 1, -2,  3],\n",
       "       [ 7,  5,  0],\n",
       "       [-2, -1,  2]])"
      ]
     },
     "execution_count": 2,
     "metadata": {},
     "output_type": "execute_result"
    }
   ],
   "source": [
    "# 행렬(Matrix)\n",
    "\n",
    "X = np.array([[1,-2,3],\n",
    "             [7,5,0],\n",
    "             [-2,-1,2]])\n",
    "X"
   ]
  },
  {
   "cell_type": "code",
   "execution_count": 3,
   "metadata": {},
   "outputs": [
    {
     "data": {
      "text/plain": [
       "array([[ 1,  7, -2],\n",
       "       [-2,  5, -1],\n",
       "       [ 3,  0,  2]])"
      ]
     },
     "execution_count": 3,
     "metadata": {},
     "output_type": "execute_result"
    }
   ],
   "source": [
    "# 전치 행렬(Transpose)\n",
    "\n",
    "X.transpose()"
   ]
  },
  {
   "cell_type": "code",
   "execution_count": 5,
   "metadata": {},
   "outputs": [
    {
     "data": {
      "text/plain": [
       "array([[ 14,  -3,   6],\n",
       "       [ -3,  74, -19],\n",
       "       [  6, -19,   9]])"
      ]
     },
     "execution_count": 5,
     "metadata": {},
     "output_type": "execute_result"
    }
   ],
   "source": [
    "X @ X.transpose()"
   ]
  },
  {
   "cell_type": "code",
   "execution_count": 20,
   "metadata": {},
   "outputs": [
    {
     "data": {
      "text/plain": [
       "array([[-8,  6],\n",
       "       [ 5,  2],\n",
       "       [-5,  1]])"
      ]
     },
     "execution_count": 20,
     "metadata": {},
     "output_type": "execute_result"
    }
   ],
   "source": [
    "# 행렬의 곱셈(Matrix Multiplication)\n",
    "\n",
    "X = np.array([[1,-2,3],\n",
    "             [7,5,0],\n",
    "             [-2,-1,2]])\n",
    "\n",
    "Y = np.array([[0,1],\n",
    "             [1,-1],\n",
    "             [-2,1]])\n",
    "\n",
    "X @ Y"
   ]
  },
  {
   "cell_type": "code",
   "execution_count": 21,
   "metadata": {},
   "outputs": [
    {
     "data": {
      "text/plain": [
       "array([[-5,  3],\n",
       "       [ 5,  2],\n",
       "       [-3, -1]])"
      ]
     },
     "execution_count": 21,
     "metadata": {},
     "output_type": "execute_result"
    }
   ],
   "source": [
    "# 행렬의 내적(Inner Product of Matrix)\n",
    "\n",
    "X = np.array([[1,-2,3],\n",
    "             [7,5,0],\n",
    "             [-2,-1,2]])\n",
    "\n",
    "Y = np.array([[0,1,-1],\n",
    "             [1,-1,0]])\n",
    "\n",
    "np.inner(X,Y)"
   ]
  },
  {
   "cell_type": "code",
   "execution_count": 22,
   "metadata": {
    "scrolled": true
   },
   "outputs": [
    {
     "data": {
      "text/plain": [
       "array([[ 0.21276596,  0.0212766 , -0.31914894],\n",
       "       [-0.29787234,  0.17021277,  0.44680851],\n",
       "       [ 0.06382979,  0.10638298,  0.40425532]])"
      ]
     },
     "execution_count": 22,
     "metadata": {},
     "output_type": "execute_result"
    }
   ],
   "source": [
    "# 역행렬(Inverse Matrix)\n",
    "\n",
    "X = np.array([[1,-2,3],\n",
    "             [7,5,0],\n",
    "             [-2,-1,2]])\n",
    "\n",
    "np.linalg.inv(X)"
   ]
  },
  {
   "cell_type": "code",
   "execution_count": 23,
   "metadata": {},
   "outputs": [
    {
     "data": {
      "text/plain": [
       "array([[ 0., -1.,  1.],\n",
       "       [ 0.,  1.,  0.],\n",
       "       [ 1.,  1., -1.]])"
      ]
     },
     "execution_count": 23,
     "metadata": {},
     "output_type": "execute_result"
    }
   ],
   "source": [
    "tmp = np.array([[1,0,1],\n",
    "             [0,1,0],\n",
    "             [1,1,0]])\n",
    "\n",
    "np.linalg.inv(tmp)"
   ]
  },
  {
   "cell_type": "code",
   "execution_count": 24,
   "metadata": {},
   "outputs": [
    {
     "data": {
      "text/plain": [
       "array([[ 1.00000000e+00, -1.38777878e-17,  0.00000000e+00],\n",
       "       [-2.22044605e-16,  1.00000000e+00, -5.55111512e-17],\n",
       "       [ 2.77555756e-17,  0.00000000e+00,  1.00000000e+00]])"
      ]
     },
     "execution_count": 24,
     "metadata": {},
     "output_type": "execute_result"
    }
   ],
   "source": [
    "X @ np.linalg.inv(X) # = I"
   ]
  },
  {
   "cell_type": "code",
   "execution_count": 25,
   "metadata": {},
   "outputs": [
    {
     "data": {
      "text/plain": [
       "array([[ 5.00000000e-01,  1.54630030e-18, -5.00000000e-01],\n",
       "       [ 8.33333333e-01, -3.33333333e-01, -1.66666667e-01]])"
      ]
     },
     "execution_count": 25,
     "metadata": {},
     "output_type": "execute_result"
    }
   ],
   "source": [
    "# 유사역행렬(Pseudo-Inverse Matrix)\n",
    "\n",
    "# row와 column의 갯수가 같지 않음\n",
    "Y = np.array([[0,1],\n",
    "             [1,-1],\n",
    "             [-2,1]])\n",
    "\n",
    "np.linalg.pinv(Y)"
   ]
  },
  {
   "cell_type": "code",
   "execution_count": 26,
   "metadata": {},
   "outputs": [
    {
     "data": {
      "text/plain": [
       "array([[0.5, 0. ],\n",
       "       [0. , 1. ],\n",
       "       [0.5, 0. ]])"
      ]
     },
     "execution_count": 26,
     "metadata": {},
     "output_type": "execute_result"
    }
   ],
   "source": [
    "tmp2 = np.array([[1,0,1],[0,1,0]])\n",
    "\n",
    "np.linalg.pinv(tmp2)"
   ]
  },
  {
   "cell_type": "code",
   "execution_count": 27,
   "metadata": {},
   "outputs": [
    {
     "data": {
      "text/plain": [
       "array([[ 1.00000000e+00, -1.11022302e-16],\n",
       "       [-1.11022302e-16,  1.00000000e+00]])"
      ]
     },
     "execution_count": 27,
     "metadata": {},
     "output_type": "execute_result"
    }
   ],
   "source": [
    "np.linalg.pinv(Y) @ Y # row > col => pinv(Y)@Y = I"
   ]
  },
  {
   "cell_type": "code",
   "execution_count": 28,
   "metadata": {},
   "outputs": [],
   "source": [
    "# 회귀분석(Linear Regression)\n",
    "\n",
    "# Linear Regression using Scikit Learn - y를 자동으로 추정 & 계산\n",
    "from sklearn.linear_model import LinearRegression\n",
    "\n",
    "def linRegScikitLearn(X,y,x_test):\n",
    "    model = LinearRegression()\n",
    "    model.fit(X,y)\n",
    "    y_test = model.predict(x_test)\n",
    "    return y_test\n",
    "\n",
    "# Linear Regression using Moore-Pensore Inverse Matrix - y를 직접 추정 & 계산\n",
    "def linRegMP(X,y,x_test):\n",
    "    beta = np.linalg.pinv(X) @ y\n",
    "    y_test = np.append(x_test) @ beta\n",
    "    return y_test"
   ]
  }
 ],
 "metadata": {
  "interpreter": {
   "hash": "31f2aee4e71d21fbe5cf8b01ff0e069b9275f58929596ceb00d14d90e3e16cd6"
  },
  "kernelspec": {
   "display_name": "Python 3 (ipykernel)",
   "language": "python",
   "name": "python3"
  },
  "language_info": {
   "codemirror_mode": {
    "name": "ipython",
    "version": 3
   },
   "file_extension": ".py",
   "mimetype": "text/x-python",
   "name": "python",
   "nbconvert_exporter": "python",
   "pygments_lexer": "ipython3",
   "version": "3.8.11"
  }
 },
 "nbformat": 4,
 "nbformat_minor": 2
}
